{
 "cells": [
  {
   "cell_type": "code",
   "execution_count": null,
   "id": "b2e2f6fe-9177-4187-b17a-460838cb5670",
   "metadata": {},
   "outputs": [],
   "source": [
    "using Pkg\n",
    "Pkg.activate(\"/Users/bbrener1/haxx/RNAForecasterPaperCode/\")"
   ]
  },
  {
   "cell_type": "code",
   "execution_count": null,
   "id": "92e71901-2b35-497b-be07-07cd42cf87ee",
   "metadata": {},
   "outputs": [],
   "source": []
  },
  {
   "cell_type": "code",
   "execution_count": null,
   "id": "536154e4-c9e4-4622-ba15-bf64aa7a46db",
   "metadata": {},
   "outputs": [],
   "source": [
    "include(\"../trainRNAForecasterV2.jl\")"
   ]
  },
  {
   "cell_type": "code",
   "execution_count": null,
   "id": "f2490308-689c-405b-80b3-68fcff867ae9",
   "metadata": {},
   "outputs": [],
   "source": [
    "include(\"../recursivePredictionsV2.jl\")"
   ]
  },
  {
   "cell_type": "code",
   "execution_count": null,
   "id": "795d122c-784b-4d7b-b56f-bc9e56a354fc",
   "metadata": {},
   "outputs": [],
   "source": [
    "using DelimitedFiles\n",
    "spliced = readdlm(\"pancSplicedCountsHVGs.csv\", ',')\n",
    "unspliced = readdlm(\"pancUnsplicedCountsHVGs.csv\", ',')\n",
    "\n",
    "zeroPropSplicedGenes = Array{Float64}(undef, size(spliced)[1])\n",
    "for i=1:size(spliced)[1]\n",
    "    zeroPropSplicedGenes[i] = length(findall(x->x ==0, spliced[i,:]))/size(spliced)[2]\n",
    "end\n",
    "zeroPropUnsplicedGenes = Array{Float64}(undef, size(unspliced)[1])\n",
    "for i=1:size(unspliced)[1]\n",
    "    zeroPropUnsplicedGenes[i] = length(findall(x->x ==0, unspliced[i,:]))/size(unspliced)[2]\n",
    "end\n",
    "\n",
    "splicedSub = spliced[intersect(findall(x->x < 0.98, zeroPropSplicedGenes), findall(x->x < 0.98, zeroPropUnsplicedGenes)),:]\n",
    "unsplicedSub = unspliced[intersect(findall(x->x < 0.98, zeroPropSplicedGenes), findall(x->x < 0.98, zeroPropUnsplicedGenes)),:]\n",
    "\n",
    "geneNames = readdlm(\"pancHVGNames.csv\", ',')\n",
    "geneNames = geneNames[intersect(findall(x->x < 0.98, zeroPropSplicedGenes), findall(x->x < 0.98, zeroPropUnsplicedGenes))]\n",
    "geneNames = string.(geneNames)\n",
    "\n",
    "writedlm(\"ZPSGenes.tsv\",geneNames)"
   ]
  },
  {
   "cell_type": "code",
   "execution_count": null,
   "id": "4368820c-972d-4aa8-9092-7497fde5b0f2",
   "metadata": {},
   "outputs": [],
   "source": [
    "# Let's load a trained model\n",
    "using Flux: loadmodel!\n",
    "using JLD2\n",
    "function loadForecaster(fileName::String, inputNodes::Int, hiddenLayerNodes::Int)\n",
    "    #recreate neural network structure\n",
    "    nn = Chain(Dense(inputNodes, hiddenLayerNodes, relu),\n",
    "               Dense(hiddenLayerNodes, inputNodes))\n",
    "    model = NeuralODE(nn, (0.0f0, 1.0f0), Tsit5(),\n",
    "                       save_everystep = false,\n",
    "                       reltol = 1e-3, abstol = 1e-3,\n",
    "                       save_start = false)\n",
    "    #load parameters into the model\n",
    "    model = loadmodel!(model, load_object(fileName))\n",
    "    return model\n",
    "end\n",
    "\n"
   ]
  },
  {
   "cell_type": "code",
   "execution_count": null,
   "id": "d643c100-fe58-40ab-bd02-7440f7dbc408",
   "metadata": {},
   "outputs": [],
   "source": [
    "trained = loadForecaster(\"pancNeuralODEResult.jld2\", 1352, 6000)"
   ]
  },
  {
   "cell_type": "code",
   "execution_count": null,
   "id": "c72bdbe2-d902-4558-9705-7ea3f885d4ea",
   "metadata": {},
   "outputs": [],
   "source": [
    "target = Float32.(splicedSub)\n",
    "size(target)"
   ]
  },
  {
   "cell_type": "code",
   "execution_count": null,
   "id": "04b690ce-e630-4c2f-a18c-79166b374099",
   "metadata": {},
   "outputs": [],
   "source": [
    "include(\"../recursivePredictionsV2.jl\")"
   ]
  },
  {
   "cell_type": "code",
   "execution_count": null,
   "id": "4a0d00f8-2920-4ca1-8397-4122fddb56c9",
   "metadata": {},
   "outputs": [],
   "source": [
    "futures = predictCellFutures(trained,target,3,damping=1f-2)"
   ]
  },
  {
   "cell_type": "code",
   "execution_count": null,
   "id": "89aebba1-7bd7-4a53-8087-9b1ea225c633",
   "metadata": {},
   "outputs": [],
   "source": []
  },
  {
   "cell_type": "code",
   "execution_count": null,
   "id": "c11c3159-2253-42ac-b0bc-4c4c283b2070",
   "metadata": {},
   "outputs": [],
   "source": [
    "writedlm(\"./trajectories_t1.tsv\",futures[:,:,1])\n",
    "writedlm(\"./trajectories_t2.tsv\",futures[:,:,2])\n",
    "writedlm(\"./trajectories_t3.tsv\",futures[:,:,3])"
   ]
  },
  {
   "cell_type": "code",
   "execution_count": null,
   "id": "ac0349e9-ed7e-4ec6-8e2f-1fd456043eff",
   "metadata": {},
   "outputs": [],
   "source": []
  },
  {
   "cell_type": "code",
   "execution_count": null,
   "id": "58df4e30-cbb4-490c-9d1d-3239f86d90e3",
   "metadata": {},
   "outputs": [],
   "source": []
  },
  {
   "cell_type": "code",
   "execution_count": null,
   "id": "79dc463c-44a7-4a1a-9ecf-3ca5621473de",
   "metadata": {},
   "outputs": [],
   "source": [
    "ob = Flux.state(trained)"
   ]
  },
  {
   "cell_type": "code",
   "execution_count": null,
   "id": "0b31b36a-6cfd-4458-941b-2236c2c867ae",
   "metadata": {},
   "outputs": [],
   "source": [
    "ob.p"
   ]
  },
  {
   "cell_type": "code",
   "execution_count": null,
   "id": "fd972ffd-3b89-4f87-9eef-62c278f70d0b",
   "metadata": {},
   "outputs": [],
   "source": []
  }
 ],
 "metadata": {
  "kernelspec": {
   "display_name": "Julia 1.10.3",
   "language": "julia",
   "name": "julia-1.10"
  },
  "language_info": {
   "file_extension": ".jl",
   "mimetype": "application/julia",
   "name": "julia",
   "version": "1.10.3"
  }
 },
 "nbformat": 4,
 "nbformat_minor": 5
}
