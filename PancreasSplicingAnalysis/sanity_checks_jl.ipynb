{
 "cells": [
  {
   "cell_type": "code",
   "execution_count": null,
   "id": "b2e2f6fe-9177-4187-b17a-460838cb5670",
   "metadata": {},
   "outputs": [],
   "source": [
    "using Pkg\n",
    "Pkg.activate(\"/Users/bbrener1/haxx/RNAForecasterPaperCode/\")"
   ]
  },
  {
   "cell_type": "code",
   "execution_count": null,
   "id": "92e71901-2b35-497b-be07-07cd42cf87ee",
   "metadata": {},
   "outputs": [],
   "source": []
  },
  {
   "cell_type": "code",
   "execution_count": null,
   "id": "536154e4-c9e4-4622-ba15-bf64aa7a46db",
   "metadata": {},
   "outputs": [],
   "source": [
    "include(\"../src/trainRNAForecasterV2.jl\")"
   ]
  },
  {
   "cell_type": "code",
   "execution_count": null,
   "id": "f2490308-689c-405b-80b3-68fcff867ae9",
   "metadata": {},
   "outputs": [],
   "source": [
    "include(\"../src/recursivePredictionsV2.jl\")"
   ]
  },
  {
   "cell_type": "code",
   "execution_count": null,
   "id": "795d122c-784b-4d7b-b56f-bc9e56a354fc",
   "metadata": {
    "scrolled": true
   },
   "outputs": [],
   "source": [
    "using DelimitedFiles\n",
    "t0 = transpose(readdlm(\"sc_velo_t0_emb.tsv\"))\n",
    "t1 = transpose(readdlm(\"sc_velo_t1_pred_emb.tsv\"))\n",
    "t0 = Float32.(t0)\n",
    "t1 = Float32.(t1)\n"
   ]
  },
  {
   "cell_type": "code",
   "execution_count": null,
   "id": "e1d472f1-0f08-4504-9341-d6fd08a3ad50",
   "metadata": {},
   "outputs": [],
   "source": [
    "trainedModel,losses = trainRNAForecaster(t0, t1; hiddenLayerNodes = 1000,\n",
    " batchSize = 200, learningRate = 0.0001, checkStability = false, useGPU = false, nEpochs = 100)\n"
   ]
  },
  {
   "cell_type": "code",
   "execution_count": null,
   "id": "b466a7ac-29cb-4523-9c77-443cb03a78b5",
   "metadata": {},
   "outputs": [],
   "source": [
    "using JLD2\n",
    "outModel = cpu(trainedModel)\n",
    "save_object(\"pancNODEEmbedded.jld2\", Flux.state(outModel))\n"
   ]
  },
  {
   "cell_type": "code",
   "execution_count": null,
   "id": "4368820c-972d-4aa8-9092-7497fde5b0f2",
   "metadata": {},
   "outputs": [],
   "source": [
    "# # Let's load a trained model\n",
    "# using Flux: loadmodel!\n",
    "# using JLD2\n",
    "# function loadForecaster(fileName::String, inputNodes::Int, hiddenLayerNodes::Int)\n",
    "#     #recreate neural network structure\n",
    "#     nn = Chain(Dense(inputNodes, hiddenLayerNodes, relu),\n",
    "#                Dense(hiddenLayerNodes, inputNodes))\n",
    "#     model = NeuralODE(nn, (0.0f0, 1.0f0), Tsit5(),\n",
    "#                        save_everystep = false,\n",
    "#                        reltol = 1e-3, abstol = 1e-3,\n",
    "#                        save_start = false)\n",
    "#     #load parameters into the model\n",
    "#     model = loadmodel!(model, load_object(fileName))\n",
    "#     return model\n",
    "# end\n",
    "\n"
   ]
  },
  {
   "cell_type": "code",
   "execution_count": null,
   "id": "d643c100-fe58-40ab-bd02-7440f7dbc408",
   "metadata": {},
   "outputs": [],
   "source": [
    "# trained = loadForecaster(\"pancNeuralODEResult.jld2\", 1352, 6000)"
   ]
  },
  {
   "cell_type": "code",
   "execution_count": null,
   "id": "c72bdbe2-d902-4558-9705-7ea3f885d4ea",
   "metadata": {},
   "outputs": [],
   "source": [
    "# target = Float32.(splicedSub)\n",
    "# size(target)"
   ]
  },
  {
   "cell_type": "code",
   "execution_count": null,
   "id": "04b690ce-e630-4c2f-a18c-79166b374099",
   "metadata": {},
   "outputs": [],
   "source": [
    "include(\"../src/recursivePredictionsV2.jl\")"
   ]
  },
  {
   "cell_type": "code",
   "execution_count": null,
   "id": "4a0d00f8-2920-4ca1-8397-4122fddb56c9",
   "metadata": {},
   "outputs": [],
   "source": [
    "futures = predictSimplified(trainedModel,t0,6,damping=1.0f0)"
   ]
  },
  {
   "cell_type": "code",
   "execution_count": null,
   "id": "89aebba1-7bd7-4a53-8087-9b1ea225c633",
   "metadata": {},
   "outputs": [],
   "source": [
    "# lossesee"
   ]
  },
  {
   "cell_type": "code",
   "execution_count": null,
   "id": "c11c3159-2253-42ac-b0bc-4c4c283b2070",
   "metadata": {},
   "outputs": [],
   "source": [
    "writedlm(\"./trajectories_t1.tsv\",futures[:,:,1])\n",
    "writedlm(\"./trajectories_t2.tsv\",futures[:,:,2])\n",
    "writedlm(\"./trajectories_t3.tsv\",futures[:,:,3])\n",
    "writedlm(\"./trajectories_t4.tsv\",futures[:,:,4])\n",
    "writedlm(\"./trajectories_t5.tsv\",futures[:,:,5])\n",
    "writedlm(\"./trajectories_t6.tsv\",futures[:,:,6])"
   ]
  },
  {
   "cell_type": "code",
   "execution_count": null,
   "id": "cbd3af39-2dd3-4ba4-9127-1578adbdbf2c",
   "metadata": {},
   "outputs": [],
   "source": [
    "residual = t1.-t0\n",
    "sq_res = residual.^2\n",
    "mean(sq_res)"
   ]
  },
  {
   "cell_type": "code",
   "execution_count": null,
   "id": "29ec27d4-2807-46fb-bcf5-d8ed1937308f",
   "metadata": {},
   "outputs": [],
   "source": [
    "residual = t1.-futures[:,:,1]\n",
    "sq_res = residual.^2\n",
    "mean(sq_res)"
   ]
  },
  {
   "cell_type": "code",
   "execution_count": null,
   "id": "5d3670f1-6b2d-4cd4-a6a5-0e696aae09ef",
   "metadata": {},
   "outputs": [],
   "source": [
    "# residual[1,1]=12320831231"
   ]
  },
  {
   "cell_type": "code",
   "execution_count": null,
   "id": "e7d9e544-2b1f-454e-a7e9-a91925f89499",
   "metadata": {},
   "outputs": [],
   "source": [
    "t0[:,1]"
   ]
  },
  {
   "cell_type": "code",
   "execution_count": null,
   "id": "a2279df4-6fc3-4ac9-bfbf-81616aee1deb",
   "metadata": {},
   "outputs": [],
   "source": [
    "t1[:,1]"
   ]
  },
  {
   "cell_type": "code",
   "execution_count": null,
   "id": "7b279deb-0a38-47aa-8704-a095800967bb",
   "metadata": {},
   "outputs": [],
   "source": [
    "futures[:,1,1]"
   ]
  },
  {
   "cell_type": "code",
   "execution_count": null,
   "id": "0320bd42-d675-4af0-899d-c89ff30741b4",
   "metadata": {},
   "outputs": [],
   "source": []
  }
 ],
 "metadata": {
  "kernelspec": {
   "display_name": "Julia 1.10.3",
   "language": "julia",
   "name": "julia-1.10"
  },
  "language_info": {
   "file_extension": ".jl",
   "mimetype": "application/julia",
   "name": "julia",
   "version": "1.10.3"
  }
 },
 "nbformat": 4,
 "nbformat_minor": 5
}
