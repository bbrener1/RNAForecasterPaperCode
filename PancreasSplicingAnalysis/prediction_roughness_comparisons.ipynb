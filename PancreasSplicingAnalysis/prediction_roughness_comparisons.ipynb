{
 "cells": [
  {
   "cell_type": "code",
   "execution_count": null,
   "id": "24bbf408-b9c6-4cf4-9035-b029cc34a0fa",
   "metadata": {},
   "outputs": [],
   "source": [
    "import scvelo as scv\n",
    "import numpy as np\n",
    "import pandas as pd\n",
    "\n",
    "import scanpy as sc\n",
    "import matplotlib.pyplot as plt \n",
    "\n",
    "from velocity_scripts import local_velocity_smoothness"
   ]
  },
  {
   "cell_type": "code",
   "execution_count": null,
   "id": "bbe176c5-f47e-47e5-8d7f-3261f482a328",
   "metadata": {},
   "outputs": [],
   "source": [
    "adata = scv.datasets.pancreas()\n"
   ]
  },
  {
   "cell_type": "code",
   "execution_count": null,
   "id": "ea06a1ea-4e5b-43e3-abc9-958a14193cc9",
   "metadata": {},
   "outputs": [],
   "source": [
    "sc.pp.normalize_per_cell(adata)\n",
    "sc.pp.log1p(adata)\n"
   ]
  },
  {
   "cell_type": "markdown",
   "id": "e6e93c56-f19c-4d6f-a299-b2934f1a3cb3",
   "metadata": {},
   "source": [
    "# Foreign HVG"
   ]
  },
  {
   "cell_type": "code",
   "execution_count": null,
   "id": "75b07686-d896-4503-b0db-55fc25b3994c",
   "metadata": {},
   "outputs": [],
   "source": [
    "hvg = np.loadtxt(\"./ZPSGenes.tsv\",dtype=str)\n",
    "hvg.shape"
   ]
  },
  {
   "cell_type": "code",
   "execution_count": null,
   "id": "fa6db424-c0a5-4201-aa56-ccdbbce9d70a",
   "metadata": {},
   "outputs": [],
   "source": [
    "filtered = adata[:,hvg]"
   ]
  },
  {
   "cell_type": "markdown",
   "id": "1561b773-a2aa-46d7-b3a7-7eeb97e6ed62",
   "metadata": {},
   "source": [
    "# Vignette Analysis"
   ]
  },
  {
   "cell_type": "code",
   "execution_count": null,
   "id": "d57639ca-8aa6-43bb-a78b-eaa397c714d8",
   "metadata": {},
   "outputs": [],
   "source": [
    "sc.pp.neighbors(filtered)\n",
    "sc.tl.umap(filtered)\n",
    "sc.pl.umap(filtered)"
   ]
  },
  {
   "cell_type": "code",
   "execution_count": null,
   "id": "43824524-dc69-4eaf-83db-f899e66daaf5",
   "metadata": {},
   "outputs": [],
   "source": [
    "scv.pp.moments(filtered,n_neighbors=None,n_pcs=None)"
   ]
  },
  {
   "cell_type": "code",
   "execution_count": null,
   "id": "0af917bc-d165-4037-b144-204978099e1a",
   "metadata": {},
   "outputs": [],
   "source": [
    "scv.tl.velocity(filtered)\n",
    "scv.tl.velocity_graph(filtered)\n"
   ]
  },
  {
   "cell_type": "code",
   "execution_count": null,
   "id": "2d39a70a-e450-439a-8927-fec553eda017",
   "metadata": {},
   "outputs": [],
   "source": [
    "scv.pl.velocity_embedding(filtered,figsize=(30,30))"
   ]
  },
  {
   "cell_type": "code",
   "execution_count": null,
   "id": "b2c6e2e0-e3cf-4b21-acd0-53bf1365af97",
   "metadata": {},
   "outputs": [],
   "source": [
    "scv.tl.velocity_embedding(filtered,basis=\"pca\")\n",
    "scv_pca_v = filtered.obsm['velocity_pca']\n",
    "\n",
    "scv_pca_t0 = filtered.obsm[\"X_pca\"]\n",
    "scv_pca_t1 = scv_pca_t0 + (scv_pca_v)\n",
    "\n",
    "np.savetxt(\"scv_pca_t0.tsv\",scv_pca_t0)\n",
    "np.savetxt(\"scv_pca_t1.tsv\",scv_pca_t1)"
   ]
  },
  {
   "cell_type": "code",
   "execution_count": null,
   "id": "6dc26504-1869-40a2-987b-adf82e13a0df",
   "metadata": {},
   "outputs": [],
   "source": [
    "# Predict and check smoothness of prediction"
   ]
  },
  {
   "cell_type": "code",
   "execution_count": null,
   "id": "177b6aca-6241-4071-9aca-6c5d6bfe3ebf",
   "metadata": {},
   "outputs": [],
   "source": []
  },
  {
   "cell_type": "markdown",
   "id": "e79ce956-5653-4d8f-a63c-e7e6770f433a",
   "metadata": {},
   "source": [
    "# Predicted Foreign Umap"
   ]
  },
  {
   "cell_type": "code",
   "execution_count": null,
   "id": "0430d019-07d7-400e-a629-95826840e806",
   "metadata": {},
   "outputs": [],
   "source": [
    "t_1 = np.loadtxt(\"./trajectories_t1.tsv\",dtype=float).T\n",
    "t_2 = np.loadtxt(\"./trajectories_t2.tsv\",dtype=float).T\n",
    "t_3 = np.loadtxt(\"./trajectories_t3.tsv\",dtype=float).T\n",
    "t_4 = np.loadtxt(\"./trajectories_t4.tsv\",dtype=float).T\n",
    "t_5 = np.loadtxt(\"./trajectories_t5.tsv\",dtype=float).T\n",
    "t_6 = np.loadtxt(\"./trajectories_t6.tsv\",dtype=float).T\n"
   ]
  },
  {
   "cell_type": "markdown",
   "id": "e8255c2c-db81-42c8-9653-56f71ddfe037",
   "metadata": {},
   "source": [
    "# Just Some Testing Scratch Work "
   ]
  },
  {
   "cell_type": "code",
   "execution_count": null,
   "id": "77d7cd50-31cd-45fa-b58c-68b9ac1a256a",
   "metadata": {},
   "outputs": [],
   "source": [
    "import numpy as np\n",
    "\n",
    "import sys\n",
    "sys.path.append(\"/Users/bbrener1/haxx/RNAForecasterPaperCode/src/\")\n",
    "\n"
   ]
  },
  {
   "cell_type": "code",
   "execution_count": null,
   "id": "62baea85-c52f-4939-9808-838a2a1b43c0",
   "metadata": {},
   "outputs": [],
   "source": [
    "test = np.eye(9)"
   ]
  },
  {
   "cell_type": "code",
   "execution_count": null,
   "id": "b7cfcf49-182d-418f-8cdd-a03d61219fe6",
   "metadata": {},
   "outputs": [],
   "source": [
    "from python_interface import train,predict"
   ]
  },
  {
   "cell_type": "code",
   "execution_count": null,
   "id": "3b47949e-6d60-4d1e-81da-0f5d6890830c",
   "metadata": {},
   "outputs": [],
   "source": [
    "train(test,test)"
   ]
  },
  {
   "cell_type": "code",
   "execution_count": null,
   "id": "8e7e81e2-4aac-4ad9-9b33-524bd0b5ab2d",
   "metadata": {},
   "outputs": [],
   "source": [
    "predict(test)"
   ]
  },
  {
   "cell_type": "code",
   "execution_count": null,
   "id": "6791e81d-8bec-42ab-9867-691e081439d8",
   "metadata": {},
   "outputs": [],
   "source": [
    "import glob"
   ]
  },
  {
   "cell_type": "code",
   "execution_count": null,
   "id": "33bf7490-0b25-4d8b-adeb-8fd46b355fce",
   "metadata": {},
   "outputs": [],
   "source": [
    "glob.glob(\"/Users/bbrener1/haxx/RNAForecasterPaperCode/src/tmp/ft*.tsv\")"
   ]
  },
  {
   "cell_type": "code",
   "execution_count": null,
   "id": "8963b0b0-fe6d-4a06-9571-039992fab8ec",
   "metadata": {},
   "outputs": [],
   "source": []
  }
 ],
 "metadata": {
  "kernelspec": {
   "display_name": "Python 3 (ipykernel)",
   "language": "python",
   "name": "python3"
  },
  "language_info": {
   "codemirror_mode": {
    "name": "ipython",
    "version": 3
   },
   "file_extension": ".py",
   "mimetype": "text/x-python",
   "name": "python",
   "nbconvert_exporter": "python",
   "pygments_lexer": "ipython3",
   "version": "3.11.9"
  }
 },
 "nbformat": 4,
 "nbformat_minor": 5
}
