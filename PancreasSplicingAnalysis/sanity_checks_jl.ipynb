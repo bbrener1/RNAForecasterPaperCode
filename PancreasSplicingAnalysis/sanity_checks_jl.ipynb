{
 "cells": [
  {
   "cell_type": "code",
   "execution_count": 1,
   "id": "b2e2f6fe-9177-4187-b17a-460838cb5670",
   "metadata": {},
   "outputs": [],
   "source": [
    "using Pkg"
   ]
  },
  {
   "cell_type": "code",
   "execution_count": 2,
   "id": "92e71901-2b35-497b-be07-07cd42cf87ee",
   "metadata": {},
   "outputs": [
    {
     "name": "stderr",
     "output_type": "stream",
     "text": [
      "\u001b[32m\u001b[1m  Activating\u001b[22m\u001b[39m project at `~/haxx/RNAForecasterPaperCode`\n"
     ]
    }
   ],
   "source": [
    "Pkg.activate(\"../\")"
   ]
  },
  {
   "cell_type": "code",
   "execution_count": 3,
   "id": "536154e4-c9e4-4622-ba15-bf64aa7a46db",
   "metadata": {},
   "outputs": [
    {
     "data": {
      "text/plain": [
       "createEnsembleForecaster"
      ]
     },
     "execution_count": 3,
     "metadata": {},
     "output_type": "execute_result"
    }
   ],
   "source": [
    "include(\"../trainRNAForecaster.jl\")"
   ]
  },
  {
   "cell_type": "code",
   "execution_count": 4,
   "id": "f2490308-689c-405b-80b3-68fcff867ae9",
   "metadata": {},
   "outputs": [
    {
     "data": {
      "text/plain": [
       "mostTimeVariableGenes"
      ]
     },
     "execution_count": 4,
     "metadata": {},
     "output_type": "execute_result"
    }
   ],
   "source": [
    "include(\"../makeRecursivePredictions.jl\")"
   ]
  },
  {
   "cell_type": "code",
   "execution_count": 11,
   "id": "4368820c-972d-4aa8-9092-7497fde5b0f2",
   "metadata": {},
   "outputs": [
    {
     "data": {
      "text/plain": [
       "NeuralODE()"
      ]
     },
     "execution_count": 11,
     "metadata": {},
     "output_type": "execute_result"
    }
   ],
   "source": [
    "# Let's load a trained model\n",
    "using Flux: loadmodel!\n",
    "using JLD2\n",
    "function loadForecaster(fileName::String, inputNodes::Int, hiddenLayerNodes::Int)\n",
    "    #recreate neural network structure\n",
    "    nn = Chain(Dense(inputNodes, hiddenLayerNodes, relu),\n",
    "               Dense(hiddenLayerNodes, inputNodes))\n",
    "    model = NeuralODE(nn, (0.0f0, 1.0f0), Tsit5(),\n",
    "                       save_everystep = false,\n",
    "                       reltol = 1e-3, abstol = 1e-3,\n",
    "                       save_start = false)\n",
    "    #load parameters into the model\n",
    "    model = loadmodel!(model, load_object(fileName))\n",
    "    return model\n",
    "end\n",
    "\n"
   ]
  },
  {
   "cell_type": "code",
   "execution_count": 12,
   "id": "d643c100-fe58-40ab-bd02-7440f7dbc408",
   "metadata": {},
   "outputs": [],
   "source": [
    "trained = loadForecaster(\"pancNeuralODEResult.jld2\", 1352, 6000)"
   ]
  },
  {
   "cell_type": "code",
   "execution_count": 42,
   "id": "c72bdbe2-d902-4558-9705-7ea3f885d4ea",
   "metadata": {},
   "outputs": [
    {
     "data": {
      "text/plain": [
       "(1352, 2)"
      ]
     },
     "execution_count": 42,
     "metadata": {},
     "output_type": "execute_result"
    }
   ],
   "source": [
    "target = Float32.(splicedSub[:,[1701,2601]])\n",
    "size(target)"
   ]
  },
  {
   "cell_type": "code",
   "execution_count": 43,
   "id": "4a0d00f8-2920-4ca1-8397-4122fddb56c9",
   "metadata": {},
   "outputs": [
    {
     "data": {
      "text/plain": [
       "1352×2×50 Array{Float32, 3}:\n",
       "[:, :, 1] =\n",
       " 0.0         0.0\n",
       " 0.0         0.0\n",
       " 4.0         4.0\n",
       " 2.0         2.0\n",
       " 0.0         0.0\n",
       " 0.0         0.0\n",
       " 0.0         0.0\n",
       " 0.0         0.0\n",
       " 0.0         0.0\n",
       " 0.0         0.0\n",
       " 0.0         0.0\n",
       " 0.00817373  0.745167\n",
       " 0.0         0.0\n",
       " ⋮           \n",
       " 2.0         0.0\n",
       " 0.0         0.0\n",
       " 0.0         0.0\n",
       " 0.0         0.0\n",
       " 0.0         0.0\n",
       " 0.0         0.0\n",
       " 0.0         0.0\n",
       " 0.0         0.0\n",
       " 0.0         0.0\n",
       " 0.0         0.0\n",
       " 0.0         0.0\n",
       " 2.0         2.0\n",
       "\n",
       "[:, :, 2] =\n",
       " 0.0       0.0\n",
       " 0.892818  0.0\n",
       " 4.0       4.0\n",
       " 2.0       2.0\n",
       " 0.0       0.0\n",
       " 0.0       0.0\n",
       " 0.0       0.0\n",
       " 0.0       0.0\n",
       " 0.0       0.0\n",
       " 0.0       0.0\n",
       " 0.0       0.0\n",
       " 0.364751  0.94548\n",
       " 0.0       0.0\n",
       " ⋮         \n",
       " 2.0       0.365104\n",
       " 0.0       0.0\n",
       " 0.0       0.0\n",
       " 0.0       0.0\n",
       " 0.0       0.0\n",
       " 0.0       0.0\n",
       " 0.0       0.0\n",
       " 0.0       0.0\n",
       " 0.0       0.0\n",
       " 0.0       0.0\n",
       " 0.0       0.0\n",
       " 2.0       2.0\n",
       "\n",
       "[:, :, 3] =\n",
       " 0.0       0.0\n",
       " 1.30637   0.0\n",
       " 4.0       4.0\n",
       " 2.0       2.0\n",
       " 0.0       0.0\n",
       " 0.0       0.0\n",
       " 0.0       0.0\n",
       " 0.0       0.0\n",
       " 0.0       0.0\n",
       " 0.0       0.0\n",
       " 0.0       0.0\n",
       " 0.687772  1.11063\n",
       " 0.0       0.0\n",
       " ⋮         \n",
       " 2.0       0.763853\n",
       " 0.0       0.0\n",
       " 0.0       0.0\n",
       " 0.0       0.0\n",
       " 0.0       0.0\n",
       " 0.0       0.0\n",
       " 0.0       0.0\n",
       " 0.0       0.0\n",
       " 0.0       0.0\n",
       " 0.0       0.0\n",
       " 0.0       0.0\n",
       " 2.0       2.0\n",
       "\n",
       ";;; … \n",
       "\n",
       "[:, :, 48] =\n",
       " 0.0       0.0\n",
       " 0.0       0.0\n",
       " 4.0       4.0\n",
       " 2.0       2.0\n",
       " 0.0       0.0\n",
       " 0.0       0.0\n",
       " 0.0       0.0\n",
       " 0.0       0.0\n",
       " 0.0       0.0\n",
       " 0.0       0.0\n",
       " 0.0       0.0\n",
       " 0.0       0.0480434\n",
       " 0.0       0.0\n",
       " ⋮         \n",
       " 2.0       2.0\n",
       " 0.0       0.0\n",
       " 0.0       0.0\n",
       " 0.0       0.0\n",
       " 0.0       0.0\n",
       " 0.0       0.0\n",
       " 0.0       0.0\n",
       " 0.0       0.0\n",
       " 0.0       0.0\n",
       " 0.0       0.0\n",
       " 0.0       0.0\n",
       " 0.915859  2.0\n",
       "\n",
       "[:, :, 49] =\n",
       " 0.0       0.0\n",
       " 0.0       0.0\n",
       " 4.0       4.0\n",
       " 2.0       2.0\n",
       " 0.0       0.0\n",
       " 0.0       0.0\n",
       " 0.0       0.0\n",
       " 0.0       0.0\n",
       " 0.0       0.0\n",
       " 0.0       0.0\n",
       " 0.0       0.0\n",
       " 0.0       0.0529218\n",
       " 0.0       0.0\n",
       " ⋮         \n",
       " 2.0       2.0\n",
       " 0.0       0.0\n",
       " 0.0       0.0\n",
       " 0.0       0.0\n",
       " 0.0       0.0\n",
       " 0.0       0.0\n",
       " 0.0       0.0\n",
       " 0.0       0.0\n",
       " 0.0       0.0\n",
       " 0.0       0.0\n",
       " 0.0       0.0\n",
       " 0.903805  2.0\n",
       "\n",
       "[:, :, 50] =\n",
       " 0.0       0.0\n",
       " 0.0       0.0\n",
       " 4.0       4.0\n",
       " 2.0       2.0\n",
       " 0.0       0.0\n",
       " 0.0       0.0\n",
       " 0.0       0.0\n",
       " 0.0       0.0\n",
       " 0.0       0.0\n",
       " 0.0       0.0\n",
       " 0.0       0.0\n",
       " 0.0       0.0576115\n",
       " 0.0       0.0\n",
       " ⋮         \n",
       " 2.0       2.0\n",
       " 0.0       0.0\n",
       " 0.0       0.0\n",
       " 0.0       0.0\n",
       " 0.0       0.0\n",
       " 0.0       0.0\n",
       " 0.0       0.0\n",
       " 0.0       0.0\n",
       " 0.0       0.0\n",
       " 0.0       0.0\n",
       " 0.0       0.0\n",
       " 0.892504  2.0"
      ]
     },
     "execution_count": 43,
     "metadata": {},
     "output_type": "execute_result"
    }
   ],
   "source": [
    "futures = predictCellFutures(trained,target,50)"
   ]
  },
  {
   "cell_type": "code",
   "execution_count": 46,
   "id": "c11c3159-2253-42ac-b0bc-4c4c283b2070",
   "metadata": {},
   "outputs": [],
   "source": [
    "writedlm(\"./trajectories_2600.tsv\",futures[:,1,:])\n",
    "writedlm(\"./trajectories_1700.tsv\",futures[:,2,:])"
   ]
  },
  {
   "cell_type": "code",
   "execution_count": 16,
   "id": "795d122c-784b-4d7b-b56f-bc9e56a354fc",
   "metadata": {},
   "outputs": [
    {
     "data": {
      "text/plain": [
       "1352-element Vector{String}:\n",
       " \"Cops5\"\n",
       " \"Sbspon\"\n",
       " \"Pkhd1\"\n",
       " \"Fam135a\"\n",
       " \"Zfp451\"\n",
       " \"Tbc1d8\"\n",
       " \"Fhl2\"\n",
       " \"Pgap1\"\n",
       " \"Ankrd44\"\n",
       " \"Tyw5\"\n",
       " \"Raph1\"\n",
       " \"Klf7\"\n",
       " \"Akr1cl\"\n",
       " ⋮\n",
       " \"Mum1l1\"\n",
       " \"Pak3\"\n",
       " \"Alg13\"\n",
       " \"Wnk3\"\n",
       " \"Sh3kbp1\"\n",
       " \"Map3k15\"\n",
       " \"Rai2\"\n",
       " \"Ap1s2\"\n",
       " \"Tmem27\"\n",
       " \"Ddx3y\"\n",
       " \"Eif2s3y\"\n",
       " \"Erdr1\""
      ]
     },
     "execution_count": 16,
     "metadata": {},
     "output_type": "execute_result"
    }
   ],
   "source": [
    "using DelimitedFiles\n",
    "spliced = readdlm(\"pancSplicedCountsHVGs.csv\", ',')\n",
    "unspliced = readdlm(\"pancUnsplicedCountsHVGs.csv\", ',')\n",
    "\n",
    "zeroPropSplicedGenes = Array{Float64}(undef, size(spliced)[1])\n",
    "for i=1:size(spliced)[1]\n",
    "    zeroPropSplicedGenes[i] = length(findall(x->x ==0, spliced[i,:]))/size(spliced)[2]\n",
    "end\n",
    "zeroPropUnsplicedGenes = Array{Float64}(undef, size(unspliced)[1])\n",
    "for i=1:size(unspliced)[1]\n",
    "    zeroPropUnsplicedGenes[i] = length(findall(x->x ==0, unspliced[i,:]))/size(unspliced)[2]\n",
    "end\n",
    "\n",
    "splicedSub = spliced[intersect(findall(x->x < 0.98, zeroPropSplicedGenes), findall(x->x < 0.98, zeroPropUnsplicedGenes)),:]\n",
    "unsplicedSub = unspliced[intersect(findall(x->x < 0.98, zeroPropSplicedGenes), findall(x->x < 0.98, zeroPropUnsplicedGenes)),:]\n",
    "\n",
    "geneNames = readdlm(\"pancHVGNames.csv\", ',')\n",
    "geneNames = geneNames[intersect(findall(x->x < 0.98, zeroPropSplicedGenes), findall(x->x < 0.98, zeroPropUnsplicedGenes))]\n",
    "geneNames = string.(geneNames)\n"
   ]
  },
  {
   "cell_type": "code",
   "execution_count": 29,
   "id": "ac0349e9-ed7e-4ec6-8e2f-1fd456043eff",
   "metadata": {},
   "outputs": [],
   "source": [
    "writedlm(\"ZPSGenes.tsv\",geneNames)"
   ]
  },
  {
   "cell_type": "code",
   "execution_count": null,
   "id": "58df4e30-cbb4-490c-9d1d-3239f86d90e3",
   "metadata": {},
   "outputs": [],
   "source": []
  },
  {
   "cell_type": "code",
   "execution_count": null,
   "id": "79dc463c-44a7-4a1a-9ecf-3ca5621473de",
   "metadata": {},
   "outputs": [],
   "source": []
  }
 ],
 "metadata": {
  "kernelspec": {
   "display_name": "Julia 1.10.3",
   "language": "julia",
   "name": "julia-1.10"
  },
  "language_info": {
   "file_extension": ".jl",
   "mimetype": "application/julia",
   "name": "julia",
   "version": "1.10.3"
  }
 },
 "nbformat": 4,
 "nbformat_minor": 5
}
