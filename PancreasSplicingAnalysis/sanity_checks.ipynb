{
 "cells": [
  {
   "cell_type": "code",
   "execution_count": null,
   "id": "24bbf408-b9c6-4cf4-9035-b029cc34a0fa",
   "metadata": {},
   "outputs": [],
   "source": [
    "import scvelo as scv\n",
    "import numpy as np\n",
    "import pandas as pd\n",
    "\n",
    "import scanpy as sc"
   ]
  },
  {
   "cell_type": "code",
   "execution_count": null,
   "id": "bbe176c5-f47e-47e5-8d7f-3261f482a328",
   "metadata": {},
   "outputs": [],
   "source": [
    "adata = scv.datasets.pancreas()\n"
   ]
  },
  {
   "cell_type": "code",
   "execution_count": null,
   "id": "ea06a1ea-4e5b-43e3-abc9-958a14193cc9",
   "metadata": {},
   "outputs": [],
   "source": [
    "sc.pp.normalize_per_cell(adata)\n",
    "sc.pp.log1p(adata)\n"
   ]
  },
  {
   "cell_type": "markdown",
   "id": "938add88-79ef-42d3-82d7-065b58d7c100",
   "metadata": {},
   "source": [
    "# Builtin HVG"
   ]
  },
  {
   "cell_type": "code",
   "execution_count": null,
   "id": "268eb5cb-c13a-4782-b28d-a630d6865fbc",
   "metadata": {},
   "outputs": [],
   "source": [
    "# adata.var['highly_variable_genes']"
   ]
  },
  {
   "cell_type": "code",
   "execution_count": null,
   "id": "3eb2a61b-1f79-4fca-9441-7d1cc8715ed6",
   "metadata": {},
   "outputs": [],
   "source": [
    "# actual_mask = adata.var['highly_variable_genes'] == \"True\""
   ]
  },
  {
   "cell_type": "code",
   "execution_count": null,
   "id": "022f3a7e-82b4-45f2-ad9b-a9bed7367e53",
   "metadata": {},
   "outputs": [],
   "source": [
    "# filtered = adata[:,actual_mask]"
   ]
  },
  {
   "cell_type": "code",
   "execution_count": null,
   "id": "83bbccf9-5246-4fbf-b873-01870524bdea",
   "metadata": {},
   "outputs": [],
   "source": [
    "# WHY IS VARIABILITY A MIXTURE OF BOOL STRINGS AND NANS? JFC\n",
    "# filtered"
   ]
  },
  {
   "cell_type": "markdown",
   "id": "e6e93c56-f19c-4d6f-a299-b2934f1a3cb3",
   "metadata": {},
   "source": [
    "# Foreign HVG"
   ]
  },
  {
   "cell_type": "code",
   "execution_count": null,
   "id": "75b07686-d896-4503-b0db-55fc25b3994c",
   "metadata": {},
   "outputs": [],
   "source": [
    "hvg = np.loadtxt(\"./ZPSGenes.tsv\",dtype=str)\n",
    "hvg.shape"
   ]
  },
  {
   "cell_type": "code",
   "execution_count": null,
   "id": "fa6db424-c0a5-4201-aa56-ccdbbce9d70a",
   "metadata": {},
   "outputs": [],
   "source": [
    "filtered = adata[:,hvg]"
   ]
  },
  {
   "cell_type": "markdown",
   "id": "33025da6-08c3-4774-a709-08d55b181cf3",
   "metadata": {
    "jp-MarkdownHeadingCollapsed": true
   },
   "source": [
    "### Let's just double check real quick if there was even minimal sanity when doing the hv selection"
   ]
  },
  {
   "cell_type": "code",
   "execution_count": null,
   "id": "158b2ea0-0b84-4284-b50a-ed08ef3706fd",
   "metadata": {},
   "outputs": [],
   "source": [
    "sc.pp.highly_variable_genes(adata,n_top_genes=4004)\n",
    "adata.var['highly_variable']"
   ]
  },
  {
   "cell_type": "code",
   "execution_count": null,
   "id": "3f29a295-ba1c-4495-afe9-b31140b06c68",
   "metadata": {},
   "outputs": [],
   "source": [
    "sc_calls = adata.var_names[adata.var['highly_variable']]\n",
    "foreign_calls = adata.var_names[actual_mask]"
   ]
  },
  {
   "cell_type": "code",
   "execution_count": null,
   "id": "bca9e7d0-9108-4cac-948e-3be2466f712b",
   "metadata": {},
   "outputs": [],
   "source": [
    "np.sum(actual_mask.astype(dtype=int))"
   ]
  },
  {
   "cell_type": "code",
   "execution_count": null,
   "id": "bf16fc95-2280-43d4-b079-5af3b992cd8d",
   "metadata": {},
   "outputs": [],
   "source": [
    "len(set(sc_calls).intersection(set(foreign_calls)))"
   ]
  },
  {
   "cell_type": "markdown",
   "id": "1561b773-a2aa-46d7-b3a7-7eeb97e6ed62",
   "metadata": {},
   "source": [
    "# Vignette Analysis"
   ]
  },
  {
   "cell_type": "code",
   "execution_count": null,
   "id": "d57639ca-8aa6-43bb-a78b-eaa397c714d8",
   "metadata": {},
   "outputs": [],
   "source": [
    "sc.pp.neighbors(filtered)\n",
    "sc.tl.umap(filtered)\n",
    "sc.pl.umap(filtered)"
   ]
  },
  {
   "cell_type": "code",
   "execution_count": null,
   "id": "b6d2ddf2-557d-4eb5-ae78-8c41f04ed055",
   "metadata": {},
   "outputs": [],
   "source": [
    "filtered.obsm['X_umap'] = u_t1"
   ]
  },
  {
   "cell_type": "code",
   "execution_count": null,
   "id": "43824524-dc69-4eaf-83db-f899e66daaf5",
   "metadata": {},
   "outputs": [],
   "source": [
    "scv.pp.moments(filtered,n_neighbors=None,n_pcs=None)"
   ]
  },
  {
   "cell_type": "code",
   "execution_count": null,
   "id": "0af917bc-d165-4037-b144-204978099e1a",
   "metadata": {},
   "outputs": [],
   "source": [
    "scv.tl.velocity(filtered)\n",
    "scv.tl.velocity_graph(filtered)\n"
   ]
  },
  {
   "cell_type": "code",
   "execution_count": null,
   "id": "92dead2c-e5e2-481a-9be7-36044a665a7b",
   "metadata": {
    "scrolled": true
   },
   "outputs": [],
   "source": [
    "scv.pl.velocity_embedding(filtered,basis='umap',figsize=((30,30)))"
   ]
  },
  {
   "cell_type": "code",
   "execution_count": null,
   "id": "d4662bfd-522d-4e34-a070-9b1f00d49cc3",
   "metadata": {},
   "outputs": [],
   "source": [
    "scv.pl.velocity_embedding_stream(filtered, density=5, basis='umap')"
   ]
  },
  {
   "cell_type": "code",
   "execution_count": null,
   "id": "2aa334aa-cd13-4e01-8623-947ad78b0689",
   "metadata": {},
   "outputs": [],
   "source": [
    "sc.pl.umap(filtered,color=\"S_score\")\n",
    "sc.pl.umap(filtered,color=\"G2M_score\")"
   ]
  },
  {
   "cell_type": "code",
   "execution_count": null,
   "id": "08d54f54-be0a-476e-b8a6-948c56fbdc5f",
   "metadata": {},
   "outputs": [],
   "source": [
    "scv.pl.proportions(filtered)"
   ]
  },
  {
   "cell_type": "markdown",
   "id": "fd822b40-ee6c-4eb1-a3db-38be2a850f49",
   "metadata": {},
   "source": [
    "# Foreign UMAP"
   ]
  },
  {
   "cell_type": "code",
   "execution_count": null,
   "id": "3d5f7df7-4ddd-4ec7-8433-6dfcd7648c6b",
   "metadata": {},
   "outputs": [],
   "source": [
    "import matplotlib.pyplot as plt "
   ]
  },
  {
   "cell_type": "code",
   "execution_count": null,
   "id": "60c7114c-074d-4e28-b78a-213bc687a8f6",
   "metadata": {},
   "outputs": [],
   "source": [
    "from umap import UMAP\n",
    "from sklearn.decomposition import PCA"
   ]
  },
  {
   "cell_type": "code",
   "execution_count": null,
   "id": "24002bc3-8e40-4c4a-a845-41251f52241a",
   "metadata": {},
   "outputs": [],
   "source": [
    "pca_model = PCA(n_components=50)\n",
    "pca = pca_model.fit_transform(np.array(filtered.X.todense()))\n",
    "\n",
    "umap_model = UMAP(n_neighbors=15,min_dist=0.5, spread=1.0, n_components=2, negative_sample_rate=5, random_state=0,metric='cosine')\n",
    "u_t = umap_model.fit_transform(pca)"
   ]
  },
  {
   "cell_type": "code",
   "execution_count": null,
   "id": "8dc15c01-ecd6-412a-b641-81f31848e813",
   "metadata": {},
   "outputs": [],
   "source": [
    "plt.figure()\n",
    "plt.scatter(*u_t.T,s=1)\n",
    "# for i in range(0,3600,100):\n",
    "#     plt.text(*u_t[i],f\"{i}\",)\n",
    "plt.show()"
   ]
  },
  {
   "cell_type": "code",
   "execution_count": null,
   "id": "f99cf4eb-8d9a-4611-866a-6bb28cdf1bf1",
   "metadata": {},
   "outputs": [],
   "source": [
    "plt.figure()\n",
    "plt.scatter(*filtered.obsm['X_umap'].T,s=1)\n",
    "for i in range(1,3601,100):\n",
    "    plt.text(*filtered.obsm['X_umap'][i],f\"{i}\")\n",
    "plt.show()"
   ]
  },
  {
   "cell_type": "code",
   "execution_count": null,
   "id": "9ed8d8a7-3713-40f9-9b65-19a684bebca6",
   "metadata": {},
   "outputs": [],
   "source": [
    "trajectories_1 = np.loadtxt(\"./trajectories_t1.tsv\",dtype=float).T\n",
    "trajectories_2 = np.loadtxt(\"./trajectories_t2.tsv\",dtype=float).T\n",
    "trajectories_3 = np.loadtxt(\"./trajectories_t3.tsv\",dtype=float).T\n"
   ]
  },
  {
   "cell_type": "code",
   "execution_count": null,
   "id": "1ad17a5e-4004-4f73-907b-1d8357c35041",
   "metadata": {},
   "outputs": [],
   "source": [
    "pca_transformed_trajectories_1 = pca_model.transform(trajectories_1)\n",
    "pca_transformed_trajectories_2 = pca_model.transform(trajectories_2)\n",
    "pca_transformed_trajectories_3 = pca_model.transform(trajectories_3)\n",
    "\n",
    "\n",
    "embedded_1 = umap_model.transform(pca_transformed_trajectories_1)\n",
    "embedded_2 = umap_model.transform(pca_transformed_trajectories_2)\n",
    "embedded_3 = umap_model.transform(pca_transformed_trajectories_3)\n"
   ]
  },
  {
   "cell_type": "code",
   "execution_count": null,
   "id": "99e9f545-46eb-47ce-b243-61e53586aa37",
   "metadata": {},
   "outputs": [],
   "source": [
    "def arrow_deltas(t1,t2):\n",
    "    x,y = t1\n",
    "    dx,dy = t1 - t2\n",
    "    return (x,y,dx,dy)\n",
    "    \n",
    "plt.figure(figsize=(10,8))\n",
    "plt.scatter(*u_t.T,s=1)\n",
    "for i in range(0,embedded_1.shape[0],30): \n",
    "    plt.arrow(*arrow_deltas(u_t[i],embedded_1[i]),color='green',head_width=.1,linewidth=.2)\n",
    "    plt.arrow(*arrow_deltas(embedded_1[i],embedded_2[i]),color='red',head_width=.1,linewidth=.2)\n",
    "    # plt.plot([u_t[i,0],embedded[i,0]],[u_t[i,1],embedded[i,1]],color='red')\n",
    "plt.show()"
   ]
  },
  {
   "cell_type": "code",
   "execution_count": null,
   "id": "de9d95b8-6a9c-4c71-a2a9-3086f5067247",
   "metadata": {},
   "outputs": [],
   "source": [
    "# trajectories = np.loadtxt(\"./trajectories_1700.tsv\",dtype=float).T\n",
    "# trajectories.shape"
   ]
  },
  {
   "cell_type": "code",
   "execution_count": null,
   "id": "6232ee0b-a390-4521-9a12-5a434a7dcbe1",
   "metadata": {},
   "outputs": [],
   "source": [
    "pca_transformed_trajectories = pca_model.transform(trajectories)\n",
    "pca_transformed_trajectories.shape"
   ]
  },
  {
   "cell_type": "code",
   "execution_count": null,
   "id": "059d5e8c-1686-476c-b8b7-a5162cee8b22",
   "metadata": {},
   "outputs": [],
   "source": [
    "embedded = umap_model.transform(pca_transformed_trajectories)\n",
    "embedded.shape"
   ]
  },
  {
   "cell_type": "code",
   "execution_count": null,
   "id": "c081bd4e-e893-4a32-b5e2-2185dea509ba",
   "metadata": {},
   "outputs": [],
   "source": [
    "plt.figure(figsize=(10,8))\n",
    "plt.scatter(*u_t.T,s=1)\n",
    "for i in range(0,embedded.shape[0],10):\n",
    "    x,y = u_t[i]\n",
    "    dx,dy = (u_t[i] - embedded[i]) / 2\n",
    "    plt.arrow(x,y,dx,dy,color='red',head_width=.1,linewidth=.2)\n",
    "    # plt.plot([u_t[i,0],embedded[i,0]],[u_t[i,1],embedded[i,1]],color='red')\n",
    "plt.show()"
   ]
  },
  {
   "cell_type": "code",
   "execution_count": null,
   "id": "6bb04a96-4d92-4769-8aa1-ce5278f8d97d",
   "metadata": {},
   "outputs": [],
   "source": [
    "# plt.figure()\n",
    "# plt.scatter(*u_t.T,s=1)\n",
    "# plt.plot(*embedded[:50].T,color='red')\n",
    "# plt.show()"
   ]
  },
  {
   "cell_type": "code",
   "execution_count": null,
   "id": "528d674e-676d-4ae9-91f3-eb59d88d4c9e",
   "metadata": {},
   "outputs": [],
   "source": [
    "trajectories = trajectories.reshape((1352,2,50))"
   ]
  },
  {
   "cell_type": "code",
   "execution_count": null,
   "id": "58d2cc2c-a7a9-4ed3-b2ed-c0c1f4044390",
   "metadata": {},
   "outputs": [],
   "source": [
    "trajectories"
   ]
  },
  {
   "cell_type": "markdown",
   "id": "49bc0b2c-fa5c-4b47-a48c-389e0dad3a8c",
   "metadata": {},
   "source": [
    "# SCV Sanity Check"
   ]
  },
  {
   "cell_type": "code",
   "execution_count": null,
   "id": "b5f88bb0-fae9-437c-a8a8-59458711cf7d",
   "metadata": {},
   "outputs": [],
   "source": [
    "import matplotlib.pyplot as plt \n",
    "from umap import UMAP\n",
    "from sklearn.decomposition import PCA"
   ]
  },
  {
   "cell_type": "code",
   "execution_count": null,
   "id": "2dd10d1f-60a7-4b0e-86ce-25f94b3aea2e",
   "metadata": {},
   "outputs": [],
   "source": [
    "t1 = np.array(filtered.layers['spliced'].todense())\n",
    "t1 = np.log(t1 + 1) \n",
    "\n",
    "t2 = np.array(filtered.layers['unspliced'].todense())\n",
    "t2 = np.log(t2 + 1) \n"
   ]
  },
  {
   "cell_type": "code",
   "execution_count": null,
   "id": "7a5f228b-1800-419b-a307-cee29db482ae",
   "metadata": {},
   "outputs": [],
   "source": [
    "from umap import UMAP\n",
    "from sklearn.decomposition import PCA\n",
    "\n",
    "def arrow_deltas(time1,time2,damping=1):\n",
    "    x,y = time1\n",
    "    dx,dy = time2 - time1\n",
    "    return (x,y,dx*damping,dy*damping)\n",
    "    \n",
    "def simple_sequence(time1,time2,highlight=[0,1],arrow_frequency=30):\n",
    "    pca_model = PCA(n_components=50)\n",
    "    pca_t1 = pca_model.fit_transform(time1)\n",
    "    pca_t2 = pca_model.transform(time2)\n",
    "    \n",
    "    umap_model = UMAP(n_neighbors=15,min_dist=0.5, spread=1.0, n_components=2, negative_sample_rate=5, random_state=0,metric='cosine')\n",
    "    u_t1 = umap_model.fit_transform(pca_t1)\n",
    "    u_t2 = umap_model.transform(pca_t2)\n",
    "\n",
    "    plt.figure(figsize=(10,8))\n",
    "    plt.scatter(*u_t1.T,color='red',s=1)\n",
    "    # plt.show()\n",
    "    # plt.figure(figsize=(10,8))\n",
    "    plt.scatter(*u_t2.T,color='blue',s=1)\n",
    "    plt.show()\n",
    "\n",
    "    # plt.figure(figsize=(10,8))\n",
    "    # plt.scatter(*u_t1.T,s=1)\n",
    "    # for i in highlight:\n",
    "    #     plt.text(*u_t1[i],s=f\"{i}\")\n",
    "    #     plt.text(*u_t2[i],s=f\"{i}'\")\n",
    "    #     plt.arrow(*arrow_deltas(u_t1[i],u_t2[i]),color='red',head_width=.1,linewidth=.2)\n",
    "    # for i in range(0,u_t1.shape[0],arrow_frequency): \n",
    "    #     plt.arrow(*arrow_deltas(u_t1[i],u_t2[i]),color='green',head_width=.1,linewidth=.2)\n",
    "    # plt.show()\n",
    "\n",
    "    return u_t1\n",
    "    \n",
    "    # plt.figure(figsize=(10,8))\n",
    "    # plt.scatter(*pca_t1[:,:2].T,s=1)\n",
    "    # for i in highlight:\n",
    "    #     plt.text(*pca_t1[i,:2],s=f\"{i}\")\n",
    "    # for i in range(0,pca_t1[:,:2].shape[0],arrow_frequency): \n",
    "    #     plt.arrow(*arrow_deltas(pca_t1[i,:2],pca_t2[i,:2],damping=1),color='green',head_width=.1,linewidth=.2)\n",
    "    # plt.show()"
   ]
  },
  {
   "cell_type": "code",
   "execution_count": null,
   "id": "da2c6308-1345-4039-80e7-146e1b5b0731",
   "metadata": {},
   "outputs": [],
   "source": []
  },
  {
   "cell_type": "markdown",
   "id": "ecc6765c-ca2f-428b-91ca-3dd183ca5400",
   "metadata": {},
   "source": [
    "# Let's Sanity-Check scVelo Velocities"
   ]
  },
  {
   "cell_type": "code",
   "execution_count": null,
   "id": "02f45473-58ca-4e33-9693-a941b5d271ac",
   "metadata": {},
   "outputs": [],
   "source": [
    "t1 = np.array(filtered.X.copy().todense())\n",
    "\n",
    "# # Is this in log space?\n",
    "v = np.array(filtered.layers['velocity'])\n",
    "v = np.log1p(np.abs(v)) * np.sign(v)\n",
    "\n",
    "t2 = t1+(v/5)\n",
    "\n",
    "# clip negatives\n",
    "\n",
    "t2[t2 < 0] = 0"
   ]
  },
  {
   "cell_type": "code",
   "execution_count": null,
   "id": "52d745d3-4e58-4d7b-bac2-541768dfdc84",
   "metadata": {},
   "outputs": [],
   "source": [
    "u_t1 = simple_sequence(t1,t2,arrow_frequency=10,highlight=[20])"
   ]
  },
  {
   "cell_type": "code",
   "execution_count": null,
   "id": "d1c23aef-acca-4cd7-b6d5-9f9d7ac6ec2c",
   "metadata": {},
   "outputs": [],
   "source": [
    "plt.figure()\n",
    "plt.hist(t1[1],bins=50)\n",
    "plt.show()"
   ]
  },
  {
   "cell_type": "code",
   "execution_count": null,
   "id": "dd173c1f-3037-4c0d-924b-fe2dd964039e",
   "metadata": {},
   "outputs": [],
   "source": [
    "vg = np.array(filtered.uns['velocity_graph'].todense())"
   ]
  },
  {
   "cell_type": "code",
   "execution_count": null,
   "id": "8f5f2fd3-4ce3-496a-8e03-740919b18e33",
   "metadata": {},
   "outputs": [],
   "source": [
    "index_most_likely = np.argmax(vg,axis=1)\n",
    "most_likely_t2 = np.array(filtered.X[index_most_likely].todense())"
   ]
  },
  {
   "cell_type": "code",
   "execution_count": null,
   "id": "b440d624-1460-4702-bf4e-1f339d24138b",
   "metadata": {},
   "outputs": [],
   "source": [
    "damped = (t1 * .8) + (most_likely_t2 * .2) "
   ]
  },
  {
   "cell_type": "code",
   "execution_count": null,
   "id": "4164b23c-c5b5-4097-a713-1a268a3060e9",
   "metadata": {},
   "outputs": [],
   "source": [
    "simple_sequence(t1,damped,highlight=[],arrow_frequency=10)"
   ]
  },
  {
   "cell_type": "code",
   "execution_count": null,
   "id": "1f2cf36c-acbd-4207-960d-0aca100bbd52",
   "metadata": {},
   "outputs": [],
   "source": [
    "simple_sequence(t1,most_likely_t2,highlight=[100,index_most_likely[100]],arrow_frequency=100)"
   ]
  },
  {
   "cell_type": "code",
   "execution_count": null,
   "id": "1bfe3fa2-10ef-4261-9107-9b7a3217688c",
   "metadata": {},
   "outputs": [],
   "source": [
    "index_most_likely[0]"
   ]
  },
  {
   "cell_type": "code",
   "execution_count": null,
   "id": "7ecc796a-adc2-42b1-8ed1-1a340aa0800f",
   "metadata": {},
   "outputs": [],
   "source": [
    "most_likely_n5 = np.argsort(vg,axis=1)[:,-5:]"
   ]
  },
  {
   "cell_type": "code",
   "execution_count": null,
   "id": "b9065590-2eb5-4608-a48a-d209de4200e3",
   "metadata": {},
   "outputs": [],
   "source": [
    "trajectories = []\n",
    "for best in most_likely_n5:\n",
    "    trajectories.append(np.mean(t1[best],axis=0))\n",
    "trajectories = np.array(trajectories)\n",
    "trajectories.shape"
   ]
  },
  {
   "cell_type": "code",
   "execution_count": null,
   "id": "d55d2334-e95b-424a-b7e7-89d03ad45c75",
   "metadata": {},
   "outputs": [],
   "source": [
    "damped = (t1 * .8) + (trajectories * .2) "
   ]
  },
  {
   "cell_type": "code",
   "execution_count": null,
   "id": "c3b668ce-2b7e-493e-969e-04416bf330f4",
   "metadata": {},
   "outputs": [],
   "source": [
    "simple_sequence(t1,trajectories,highlight=[],arrow_frequency=10)"
   ]
  },
  {
   "cell_type": "code",
   "execution_count": null,
   "id": "043c8f03-2648-4891-8ddd-2ce7cedcecba",
   "metadata": {},
   "outputs": [],
   "source": []
  }
 ],
 "metadata": {
  "kernelspec": {
   "display_name": "Python 3 (ipykernel)",
   "language": "python",
   "name": "python3"
  },
  "language_info": {
   "codemirror_mode": {
    "name": "ipython",
    "version": 3
   },
   "file_extension": ".py",
   "mimetype": "text/x-python",
   "name": "python",
   "nbconvert_exporter": "python",
   "pygments_lexer": "ipython3",
   "version": "3.11.9"
  }
 },
 "nbformat": 4,
 "nbformat_minor": 5
}
