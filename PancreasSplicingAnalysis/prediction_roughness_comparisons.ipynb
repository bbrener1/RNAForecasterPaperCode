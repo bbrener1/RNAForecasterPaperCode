{
 "cells": [
  {
   "cell_type": "code",
   "execution_count": null,
   "id": "24bbf408-b9c6-4cf4-9035-b029cc34a0fa",
   "metadata": {},
   "outputs": [],
   "source": [
    "import scvelo as scv\n",
    "import numpy as np\n",
    "import pandas as pd\n",
    "\n",
    "import scanpy as sc\n",
    "import matplotlib.pyplot as plt \n",
    "\n",
    "from velocity_scripts import local_velocity_smoothness,extract_knn_from_adata"
   ]
  },
  {
   "cell_type": "code",
   "execution_count": null,
   "id": "bbe176c5-f47e-47e5-8d7f-3261f482a328",
   "metadata": {},
   "outputs": [],
   "source": [
    "adata = scv.datasets.pancreas()\n"
   ]
  },
  {
   "cell_type": "code",
   "execution_count": null,
   "id": "ea06a1ea-4e5b-43e3-abc9-958a14193cc9",
   "metadata": {},
   "outputs": [],
   "source": [
    "sc.pp.normalize_per_cell(adata)\n",
    "sc.pp.log1p(adata)\n"
   ]
  },
  {
   "cell_type": "markdown",
   "id": "e6e93c56-f19c-4d6f-a299-b2934f1a3cb3",
   "metadata": {},
   "source": [
    "# Foreign HVG"
   ]
  },
  {
   "cell_type": "code",
   "execution_count": null,
   "id": "75b07686-d896-4503-b0db-55fc25b3994c",
   "metadata": {},
   "outputs": [],
   "source": [
    "hvg = np.loadtxt(\"./ZPSGenes.tsv\",dtype=str)\n",
    "hvg.shape"
   ]
  },
  {
   "cell_type": "code",
   "execution_count": null,
   "id": "fa6db424-c0a5-4201-aa56-ccdbbce9d70a",
   "metadata": {},
   "outputs": [],
   "source": [
    "filtered = adata[:,hvg]"
   ]
  },
  {
   "cell_type": "markdown",
   "id": "1561b773-a2aa-46d7-b3a7-7eeb97e6ed62",
   "metadata": {},
   "source": [
    "# Vignette Analysis"
   ]
  },
  {
   "cell_type": "code",
   "execution_count": null,
   "id": "d57639ca-8aa6-43bb-a78b-eaa397c714d8",
   "metadata": {},
   "outputs": [],
   "source": [
    "sc.pp.neighbors(filtered)\n",
    "sc.tl.umap(filtered)\n",
    "sc.pl.umap(filtered)"
   ]
  },
  {
   "cell_type": "code",
   "execution_count": null,
   "id": "43824524-dc69-4eaf-83db-f899e66daaf5",
   "metadata": {},
   "outputs": [],
   "source": [
    "scv.pp.moments(filtered,n_neighbors=None,n_pcs=None)"
   ]
  },
  {
   "cell_type": "code",
   "execution_count": null,
   "id": "0af917bc-d165-4037-b144-204978099e1a",
   "metadata": {},
   "outputs": [],
   "source": [
    "scv.tl.velocity(filtered)\n",
    "scv.tl.velocity_graph(filtered)\n"
   ]
  },
  {
   "cell_type": "code",
   "execution_count": null,
   "id": "2d39a70a-e450-439a-8927-fec553eda017",
   "metadata": {},
   "outputs": [],
   "source": [
    "scv.pl.velocity_embedding(filtered,figsize=(30,30))"
   ]
  },
  {
   "cell_type": "code",
   "execution_count": null,
   "id": "f925388a-64e5-48e5-b519-d35cbdff3893",
   "metadata": {},
   "outputs": [],
   "source": [
    "scv_raw_v = filtered.layers['velocity']"
   ]
  },
  {
   "cell_type": "code",
   "execution_count": null,
   "id": "295520bc-9dc2-4a83-a79c-0dcb9884aa22",
   "metadata": {},
   "outputs": [],
   "source": [
    "raw_velocity_norm = np.linalg.norm(scv_raw_v,axis=1)\n",
    "filtered.obs['raw_velocity_norm'] = raw_velocity_norm"
   ]
  },
  {
   "cell_type": "code",
   "execution_count": null,
   "id": "9295a09e-b495-4ed3-aaae-6912847bc1e7",
   "metadata": {},
   "outputs": [],
   "source": [
    "scv.pl.umap(filtered,color=\"raw_velocity_norm\",figsize=(12,8))\n",
    "\n",
    "# I don't understand the relationship between the arrow length in plot embedding umap and the raw velocity norms.\n",
    "# Like... how are they getting the arrow magnitudes in plot embedding? "
   ]
  },
  {
   "cell_type": "code",
   "execution_count": null,
   "id": "75949ed5-f14f-48f8-8da0-a8c7e8bc8246",
   "metadata": {},
   "outputs": [],
   "source": [
    "knn = extract_knn_from_adata(filtered)"
   ]
  },
  {
   "cell_type": "code",
   "execution_count": null,
   "id": "55af85ea-f9db-492b-9d1b-66dff18bf5f1",
   "metadata": {},
   "outputs": [],
   "source": [
    "scv.tl.velocity_embedding(filtered,basis=\"umap\")\n",
    "scv_umap_v = filtered.obsm['velocity_umap']\n",
    "\n",
    "scv_umap_t0 = filtered.obsm[\"X_umap\"]\n",
    "scv_umap_t1 = scv_umap_t0 + scv_umap_v"
   ]
  },
  {
   "cell_type": "code",
   "execution_count": null,
   "id": "827bf59f-3a48-4d24-9e9b-51eaeb9b249c",
   "metadata": {},
   "outputs": [],
   "source": [
    "# We're going to be slightly cheeky here and get a velocity in graph space like so:\n",
    "\n",
    "filtered.obsm[\"X_duplicate\"] = np.array(filtered.X.todense())\n",
    "scv.tl.velocity_embedding(filtered,basis=\"duplicate\")\n",
    "\n",
    "scv_graph_v = filtered.obsm[\"velocity_duplicate\"]"
   ]
  },
  {
   "cell_type": "code",
   "execution_count": null,
   "id": "b2c6e2e0-e3cf-4b21-acd0-53bf1365af97",
   "metadata": {},
   "outputs": [],
   "source": [
    "# We really want to avoid having this impact the neighbor graph, maybe I should run it off a copy?\n",
    "\n",
    "sc.pp.pca(filtered,n_comps=50)\n",
    "\n",
    "scv.tl.velocity_embedding(filtered,basis=\"pca\")\n",
    "scv_pca_v = filtered.obsm['velocity_pca']\n",
    "\n",
    "scv_pca_t0 = filtered.obsm[\"X_pca\"]\n",
    "scv_pca_t1 = scv_pca_t0 + (scv_pca_v)\n",
    "\n",
    "pca_velocity_norm = np.linalg.norm(scv_pca_v,axis=1)\n",
    "filtered.obs['pca_velocity_norm'] = pca_velocity_norm"
   ]
  },
  {
   "cell_type": "markdown",
   "id": "d845c67b-7ccc-4f31-9dc2-63485d0fd949",
   "metadata": {},
   "source": [
    "# Check smoothness of raw vs inferred embedding"
   ]
  },
  {
   "cell_type": "code",
   "execution_count": null,
   "id": "177b6aca-6241-4071-9aca-6c5d6bfe3ebf",
   "metadata": {},
   "outputs": [],
   "source": [
    "pca_smoothness_cosine = local_velocity_smoothness(scv_pca_v,knn,metric='cosine')\n",
    "raw_smoothness_cosine = local_velocity_smoothness(scv_raw_v,knn,metric='cosine')\n",
    "graph_smoothness_cosine = local_velocity_smoothness(scv_graph_v,knn,metric='cosine')\n",
    "umap_smoothness_cosine = local_velocity_smoothness(scv_umap_v,knn,metric='cosine')\n",
    "\n",
    "plt.figure()\n",
    "plt.title(\"Raw Smoothness\")\n",
    "plt.hist(raw_smoothness_cosine)\n",
    "plt.show()\n",
    "\n",
    "plt.figure()\n",
    "plt.title(\"Graph V Smoothness\")\n",
    "plt.hist(graph_smoothness_cosine)\n",
    "plt.show()\n",
    "\n",
    "plt.figure()\n",
    "plt.title(\"PCA V Smoothness\")\n",
    "plt.hist(pca_smoothness_cosine)\n",
    "plt.show()\n",
    "\n",
    "plt.figure()\n",
    "plt.title(\"UMAP V Smoothness\")\n",
    "plt.hist(umap_smoothness_cosine)\n",
    "plt.show()\n"
   ]
  },
  {
   "cell_type": "code",
   "execution_count": null,
   "id": "27620f38-c9f0-46b4-9869-f609a1d7fc9f",
   "metadata": {},
   "outputs": [],
   "source": [
    "plt.figure()\n",
    "plt.scatter(pca_smoothness_cosine,raw_smoothness_cosine,s=1)\n",
    "plt.show()\n",
    "\n",
    "plt.figure()\n",
    "plt.scatter(pca_smoothness_cosine,umap_smoothness_cosine,s=1)\n",
    "plt.show()"
   ]
  },
  {
   "cell_type": "code",
   "execution_count": null,
   "id": "31b2f961-27e6-4718-8c22-51c268ed1fd8",
   "metadata": {},
   "outputs": [],
   "source": [
    "pca_smoothness_euclidean = local_velocity_smoothness(scv_pca_v,knn,metric='euclidean')\n",
    "raw_smoothness_euclidean = local_velocity_smoothness(scv_raw_v,knn,metric='euclidean')\n",
    "graph_smoothness_euclidean = local_velocity_smoothness(scv_graph_v,knn,metric='euclidean')\n",
    "umap_smoothness_euclidean = local_velocity_smoothness(scv_umap_v,knn,metric='euclidean')\n",
    "\n",
    "plt.figure()\n",
    "plt.title(\"Raw Smoothness\")\n",
    "plt.hist(raw_smoothness_euclidean)\n",
    "plt.show()\n",
    "\n",
    "plt.figure()\n",
    "plt.title(\"Graph V Smoothness\")\n",
    "plt.hist(graph_smoothness_euclidean)\n",
    "plt.show()\n",
    "\n",
    "plt.figure()\n",
    "plt.title(\"PCA V Smoothness\")\n",
    "plt.hist(pca_smoothness_euclidean)\n",
    "plt.show()\n",
    "\n",
    "plt.figure()\n",
    "plt.title(\"UMAP V Smoothness\")\n",
    "plt.hist(umap_smoothness_euclidean)\n",
    "plt.show()\n"
   ]
  },
  {
   "cell_type": "code",
   "execution_count": null,
   "id": "643d61bd-a6c7-40ac-822c-2a4d7568511c",
   "metadata": {},
   "outputs": [],
   "source": [
    "plt.figure()\n",
    "plt.scatter(pca_smoothness_euclidean,raw_smoothness_euclidean,s=1)\n",
    "plt.show()\n",
    "\n",
    "plt.figure()\n",
    "plt.scatter(pca_smoothness_euclidean,graph_smoothness_euclidean,s=1)\n",
    "plt.show()\n",
    "\n",
    "\n",
    "plt.figure()\n",
    "plt.xlabel(\"Smoothness of raw graph velocity \\n(mean euclidean distance in a neighborhood)\")\n",
    "plt.ylabel(\"Smoothness of PCA graph velocity \\n(mean euclidean distance in a neighborhood)\")\n",
    "plt.scatter(graph_smoothness_euclidean,pca_smoothness_euclidean,s=1,c=raw_velocity_norm)\n",
    "plt.colorbar(label=\"Magnitude of raw velocity (L2 norm)\")\n",
    "plt.show()\n",
    "\n",
    "plt.figure()\n",
    "plt.xlabel(\"Smoothness of raw velocity \\n(mean euclidean distance in a neighborhood)\")\n",
    "plt.ylabel(\"Smoothness of graph velocity \\n(mean euclidean distance in a neighborhood)\")\n",
    "plt.scatter(raw_smoothness_euclidean,graph_smoothness_euclidean,s=1,c=raw_velocity_norm)\n",
    "plt.colorbar(label=\"Magnitude of raw velocity (L2 norm)\")\n",
    "plt.show()\n",
    "\n",
    "\n",
    "\n",
    "# plt.figure()\n",
    "# plt.xlabel(\"Smoothness of raw graph velocity \\n(mean cosine distance in a neighborhood)\")\n",
    "# plt.ylabel(\"Smoothness of PCA graph velocity \\n(mean cosine distance in a neighborhood)\")\n",
    "# plt.scatter(graph_smoothness_euclidean,pca_smoothness_cosine,s=1,c=raw_velocity_norm)\n",
    "# plt.colorbar(label=\"Magnitude of raw velocity (L2 norm)\")\n",
    "# plt.show()\n",
    "\n",
    "# plt.figure()\n",
    "# plt.xlabel(\"Smoothness of raw velocity \\n(mean cosine distance in a neighborhood)\")\n",
    "# plt.ylabel(\"Smoothness of graph velocity \\n(mean cosine distance in a neighborhood)\")\n",
    "# plt.scatter(raw_smoothness_euclidean,graph_smoothness_cosine,s=1,c=raw_velocity_norm)\n",
    "# plt.colorbar(label=\"Magnitude of raw velocity (L2 norm)\")\n",
    "# plt.show()"
   ]
  },
  {
   "cell_type": "code",
   "execution_count": null,
   "id": "cf039d7c-5768-4401-82a8-8bee252d6ab6",
   "metadata": {},
   "outputs": [],
   "source": [
    "# Conclusion: smoothness of raw velocity seems almost unrelated to smoothness in PCA space\n",
    "# Smoothness in graph raw velocity space seems relatively well correlated to smoothness in PCA space\n",
    "# This speaks poorly of the relationship between raw and graph velocity "
   ]
  },
  {
   "cell_type": "code",
   "execution_count": null,
   "id": "4f592e02-8c45-40be-8b39-93abc3bc94ad",
   "metadata": {},
   "outputs": [],
   "source": [
    "# Need to figure out the normalization/scaling factor here. There's clearly a linear relationship but the scales are way off"
   ]
  },
  {
   "cell_type": "code",
   "execution_count": null,
   "id": "acea6de3-8494-4871-801e-25ff897efcdc",
   "metadata": {},
   "outputs": [],
   "source": [
    "# Ok, so now I guess let's look at the predicted data smoothness"
   ]
  },
  {
   "cell_type": "code",
   "execution_count": null,
   "id": "368217ff-23e2-42b1-bd82-b96238b99e24",
   "metadata": {},
   "outputs": [],
   "source": [
    "import sys\n",
    "\n",
    "sys.path.append(\"/Users/bbrener1/haxx/RNAForecasterPaperCode/src/\")\n",
    "import python_interface as py_n"
   ]
  },
  {
   "cell_type": "code",
   "execution_count": null,
   "id": "12591b35-d6d7-4b17-bf16-3118f6c13c55",
   "metadata": {},
   "outputs": [],
   "source": [
    "params = {\n",
    "    \"hiddenLayerNodes\": 6000,\n",
    "    \"batchSize\": 200,\n",
    "    \"learningRate\":1e-4,\n",
    "    \"nEpochs\":100\n",
    "}\n",
    "\n",
    "py_n.train(scv_umap_t0,scv_umap_t1,params=params)\n",
    "umap_futures = py_n.predict(scv_umap_t0,params={\"damping\":0.7})"
   ]
  },
  {
   "cell_type": "code",
   "execution_count": null,
   "id": "afbf5a0b-4eec-4153-940f-498768cb49b3",
   "metadata": {},
   "outputs": [],
   "source": [
    "umap_predicted_delta = umap_futures[0] - scv_umap_t0\n",
    "\n",
    "plt.figure()\n",
    "plt.scatter(umap_predicted_delta.flatten(),scv_umap_v.flatten(),s=1)\n",
    "plt.show()"
   ]
  },
  {
   "cell_type": "code",
   "execution_count": null,
   "id": "cd149964-996d-4acf-9e70-1c0c0d0c341c",
   "metadata": {
    "scrolled": true
   },
   "outputs": [],
   "source": [
    "from velocity_scripts import trajectory_series\n",
    "\n",
    "trajectory_series([umap_futures[0],umap_futures[1],umap_futures[2],umap_futures[3]])"
   ]
  },
  {
   "cell_type": "code",
   "execution_count": null,
   "id": "192223c4-7aab-4208-82d2-3149c003b863",
   "metadata": {},
   "outputs": [],
   "source": [
    "umap_prediction_smoothness = local_velocity_smoothness(umap_predicted_delta,knn,metric='euclidean')\n",
    "umap_actual_smoothness = local_velocity_smoothness(scv_umap_v,knn,metric='euclidean')\n",
    "\n",
    "# plt.figure()\n",
    "# plt.xlabel(\"Smoothness of raw graph velocity \\n(mean euclidean distance in a neighborhood)\")\n",
    "# plt.ylabel(\"Smoothness of umap graph velocity \\n(mean euclidean distance in a neighborhood)\")\n",
    "# plt.scatter(graph_smoothness_euclidean,umap_prediction_smoothness,s=1,c=raw_velocity_norm)\n",
    "# plt.colorbar(label=\"Magnitude of raw velocity (L2 norm)\")\n",
    "# plt.show()\n",
    "\n",
    "plt.figure()\n",
    "plt.scatter(umap_prediction_smoothness,umap_actual_smoothness,s=1,c=raw_velocity_norm)\n",
    "plt.plot([.02,.1],[.02,.1],color='red',linestyle=\"--\")\n",
    "plt.colorbar(label=\"Magnitude of raw velocity (L2 norm)\")\n",
    "plt.xlabel(\"Prediction smoothness\")\n",
    "plt.ylabel(\"Actual smoothness\")\n",
    "plt.show()\n"
   ]
  },
  {
   "cell_type": "code",
   "execution_count": null,
   "id": "d2a9a329-1261-4c50-bfc8-0fed00e763e6",
   "metadata": {},
   "outputs": [],
   "source": [
    "# Optional re-basis\n",
    "\n",
    "sc.pp.pca(filtered,n_comps=50)\n",
    "\n",
    "scv.tl.velocity_embedding(filtered,basis=\"pca\")\n",
    "scv_pca_v = filtered.obsm['velocity_pca']\n",
    "\n",
    "scv_pca_t0 = filtered.obsm[\"X_pca\"]\n",
    "scv_pca_t1 = scv_pca_t0 + (scv_pca_v)\n",
    "\n",
    "pca_velocity_norm = np.linalg.norm(scv_pca_v,axis=1)\n",
    "filtered.obs['pca_velocity_norm'] = pca_velocity_norm\n"
   ]
  },
  {
   "cell_type": "code",
   "execution_count": null,
   "id": "427cb86b-71f8-497c-998a-55b3021ac8fd",
   "metadata": {},
   "outputs": [],
   "source": [
    "plt.figure()\n",
    "plt.scatter(pca_velocity_norm.flatten(),raw_velocity_norm.flatten(),s=1)\n",
    "plt.show()"
   ]
  },
  {
   "cell_type": "code",
   "execution_count": null,
   "id": "9f437383-f7e3-48cc-8729-17228bbaac1c",
   "metadata": {
    "scrolled": true
   },
   "outputs": [],
   "source": [
    "# # PCA prediction\n",
    "\n",
    "# params = {\n",
    "#     \"hiddenLayerNodes\": 1000,\n",
    "#     \"batchSize\": 200,\n",
    "#     \"learningRate\":1e-4,\n",
    "#     \"nEpochs\":300\n",
    "# }\n",
    "\n",
    "# py_n.train(scv_pca_t0,scv_pca_t1,params=params)\n",
    "\n",
    "pca_futures = py_n.predict(scv_pca_t0,params={\"damping\":0.7,\"tSteps\":20})\n",
    "\n",
    "pca_futures.shape"
   ]
  },
  {
   "cell_type": "code",
   "execution_count": null,
   "id": "71d6a1a3-754d-4d93-9f99-daf85177998f",
   "metadata": {},
   "outputs": [],
   "source": [
    "pca_predicted_delta = pca_futures[0] - scv_pca_t0\n",
    "\n",
    "plt.figure()\n",
    "plt.title(\"predicted vs true k=50 pca, 300 epochs\")\n",
    "plt.scatter(pca_predicted_delta.flatten(),scv_pca_v.flatten(),s=1)\n",
    "axlim_min = min(min(pca_predicted_delta.flatten()),min(scv_pca_v.flatten())) * .8\n",
    "axlim_max = max(max(pca_predicted_delta.flatten()),max(scv_pca_v.flatten())) * .8\n",
    "plt.plot([axlim_min,axlim_max],[axlim_min,axlim_max],color='red',linestyle=\"--\")\n",
    "plt.show()"
   ]
  },
  {
   "cell_type": "code",
   "execution_count": null,
   "id": "86520817-97a3-4f7e-adcb-0af50743107e",
   "metadata": {},
   "outputs": [],
   "source": [
    "pca_prediction_smoothness = local_velocity_smoothness(pca_predicted_delta,knn,metric='euclidean')\n",
    "pca_actual_smoothness = local_velocity_smoothness(scv_pca_v,knn,metric='euclidean')\n",
    "\n",
    "plt.figure()\n",
    "plt.title(\"Smoothness of NeuODE Predictions compared to true PCA embedding\")\n",
    "plt.scatter(pca_prediction_smoothness,pca_actual_smoothness,s=1,c=raw_velocity_norm)\n",
    "axlim = max(max(pca_prediction_smoothness),max(pca_actual_smoothness))\n",
    "plt.plot([.02,axlim],[.02,axlim],color='red',linestyle=\"--\")\n",
    "plt.colorbar(label=\"Magnitude of raw velocity (L2 norm)\")\n",
    "plt.xlabel(\"Prediction smoothness\")\n",
    "plt.ylabel(\"Actual smoothness\")\n",
    "plt.show()\n",
    "\n",
    "plt.figure()\n",
    "plt.title(\"Smoothness of NeuODE Predictions compared to true PCA embedding\")\n",
    "plt.scatter(pca_prediction_smoothness,pca_actual_smoothness,s=1,c=pca_velocity_norm)\n",
    "axlim = max(max(pca_prediction_smoothness),max(pca_actual_smoothness))\n",
    "plt.plot([.02,axlim],[.02,axlim],color='red',linestyle=\"--\")\n",
    "plt.colorbar(label=\"Magnitude of pca velocity (L2 norm)\")\n",
    "plt.xlabel(\"Prediction smoothness\")\n",
    "plt.ylabel(\"Actual smoothness\")\n",
    "plt.show()\n"
   ]
  },
  {
   "cell_type": "code",
   "execution_count": null,
   "id": "60653132-0a25-4368-8e5a-efe1a1fe0e7c",
   "metadata": {},
   "outputs": [],
   "source": [
    "# Does the better PCA future embed any more gracefully? "
   ]
  },
  {
   "cell_type": "code",
   "execution_count": null,
   "id": "f16615e5-a071-4913-a6fa-15f536e2e2f3",
   "metadata": {},
   "outputs": [],
   "source": [
    "from velocity_scripts import umap_velocity_via_joint,trajectory_series,umap_trajectory_joint"
   ]
  },
  {
   "cell_type": "code",
   "execution_count": null,
   "id": "0435ec5d-88a3-48ba-ad91-7a5efe757b06",
   "metadata": {},
   "outputs": [],
   "source": [
    "pca_umap_t0,pca_umap_t1,pca_umap_v = umap_velocity_via_joint(scv_pca_t0,pca_futures[5])"
   ]
  },
  {
   "cell_type": "code",
   "execution_count": null,
   "id": "f9f57cc0-2954-45d5-b83b-172e8bd50c92",
   "metadata": {},
   "outputs": [],
   "source": [
    "trajectory_series([pca_umap_t0,pca_umap_t1],frequency=3)"
   ]
  },
  {
   "cell_type": "code",
   "execution_count": null,
   "id": "9e0e3812-dd86-4b91-b143-7d7d4f4e13f4",
   "metadata": {},
   "outputs": [],
   "source": [
    "\n",
    "def umap_trajectory_joint(timepoints):\n",
    "    if len(timepoints) > 100:\n",
    "        raise Exception(\"You want timepoints in a list, I think you might have passed a matrix, primary dimension > 100\")\n",
    "    stacked = np.vstack(timepoints)\n",
    "    \n",
    "    umap_model = UMAP(n_neighbors=15,min_dist=0.5, spread=1.0, n_components=2, negative_sample_rate=5, random_state=0,metric='cosine')\n",
    "    u_t_joint = umap_model.fit_transform(stacked)\n",
    "    \n",
    "    running_totals = np.cumsum([t.shape[0] for t in timepoints])\n",
    "    running_totals = [0,] + list(running_totals)\n",
    "    embedded_timepoints = [u_t_joint[beginning:end] for beginning,end in zip(running_totals[:-1],running_totals[1:])]\n",
    "    \n",
    "    return embedded_timepoints\n"
   ]
  },
  {
   "cell_type": "code",
   "execution_count": null,
   "id": "a3da5638-f951-4b89-8689-ef5cbb7c5f54",
   "metadata": {},
   "outputs": [],
   "source": [
    "umap_trajectories = umap_trajectory_joint([scv_pca_t0,pca_futures[10],pca_futures[19]])"
   ]
  },
  {
   "cell_type": "code",
   "execution_count": null,
   "id": "79532a00-f477-41e1-91ed-30cdcdb2610b",
   "metadata": {},
   "outputs": [],
   "source": [
    "from umap import UMAP"
   ]
  },
  {
   "cell_type": "code",
   "execution_count": null,
   "id": "f2e8836a-62da-40ab-8d77-136d31ab818a",
   "metadata": {},
   "outputs": [],
   "source": [
    "trajectory_series(umap_trajectories)"
   ]
  },
  {
   "cell_type": "code",
   "execution_count": null,
   "id": "f61c4cea-1255-4656-bc2b-672476865a3a",
   "metadata": {},
   "outputs": [],
   "source": [
    "umap_trajectories"
   ]
  },
  {
   "cell_type": "code",
   "execution_count": null,
   "id": "162d8b6d-104a-4dfb-83f8-894921792a74",
   "metadata": {},
   "outputs": [],
   "source": []
  }
 ],
 "metadata": {
  "kernelspec": {
   "display_name": "Python 3 (ipykernel)",
   "language": "python",
   "name": "python3"
  },
  "language_info": {
   "codemirror_mode": {
    "name": "ipython",
    "version": 3
   },
   "file_extension": ".py",
   "mimetype": "text/x-python",
   "name": "python",
   "nbconvert_exporter": "python",
   "pygments_lexer": "ipython3",
   "version": "3.11.9"
  }
 },
 "nbformat": 4,
 "nbformat_minor": 5
}
