{
 "cells": [
  {
   "cell_type": "code",
   "execution_count": 1,
   "id": "b2e2f6fe-9177-4187-b17a-460838cb5670",
   "metadata": {},
   "outputs": [
    {
     "name": "stderr",
     "output_type": "stream",
     "text": [
      "\u001b[32m\u001b[1m  Activating\u001b[22m\u001b[39m project at `~/haxx/RNAForecasterPaperCode`\n"
     ]
    }
   ],
   "source": [
    "using Pkg\n",
    "Pkg.activate(\"/Users/bbrener1/haxx/RNAForecasterPaperCode/\")"
   ]
  },
  {
   "cell_type": "code",
   "execution_count": null,
   "id": "92e71901-2b35-497b-be07-07cd42cf87ee",
   "metadata": {},
   "outputs": [],
   "source": []
  },
  {
   "cell_type": "code",
   "execution_count": 2,
   "id": "536154e4-c9e4-4622-ba15-bf64aa7a46db",
   "metadata": {},
   "outputs": [
    {
     "data": {
      "text/plain": [
       "compressingNetwork (generic function with 1 method)"
      ]
     },
     "execution_count": 2,
     "metadata": {},
     "output_type": "execute_result"
    }
   ],
   "source": [
    "include(\"../src/trainRNAForecasterV2.jl\")"
   ]
  },
  {
   "cell_type": "code",
   "execution_count": 3,
   "id": "f2490308-689c-405b-80b3-68fcff867ae9",
   "metadata": {},
   "outputs": [
    {
     "data": {
      "text/plain": [
       "mostTimeVariableGenes"
      ]
     },
     "execution_count": 3,
     "metadata": {},
     "output_type": "execute_result"
    }
   ],
   "source": [
    "include(\"../src/recursivePredictionsV2.jl\")"
   ]
  },
  {
   "cell_type": "code",
   "execution_count": 4,
   "id": "795d122c-784b-4d7b-b56f-bc9e56a354fc",
   "metadata": {
    "scrolled": true
   },
   "outputs": [
    {
     "data": {
      "text/plain": [
       "2×3696 Matrix{Float32}:\n",
       " 17.1262   4.8592  18.4263   2.37841  …  9.70007   5.36193  20.2021  20.6939\n",
       " 11.8578  13.1247  12.0906  16.3903      5.93967  12.9324   15.5233  12.4786"
      ]
     },
     "execution_count": 4,
     "metadata": {},
     "output_type": "execute_result"
    }
   ],
   "source": [
    "using DelimitedFiles\n",
    "t0 = transpose(readdlm(\"sc_velo_t0_emb.tsv\"))\n",
    "t1 = transpose(readdlm(\"sc_velo_t1_pred_emb.tsv\"))\n",
    "t0 = Float32.(t0)\n",
    "t1 = Float32.(t1)\n"
   ]
  },
  {
   "cell_type": "code",
   "execution_count": 5,
   "id": "e1d472f1-0f08-4504-9341-d6fd08a3ad50",
   "metadata": {},
   "outputs": [
    {
     "name": "stdout",
     "output_type": "stream",
     "text": [
      "Loading Data...\n",
      "Training model...\n",
      "Epoch 1\n",
      "Loss: 0.2775354\n",
      "Epoch 2\n",
      "Loss: 0.2505803\n",
      "Epoch 3\n",
      "Loss: 0.226528\n",
      "Epoch 4\n",
      "Loss: 0.20502345\n",
      "Epoch 5\n",
      "Loss: 0.18574814\n",
      "Epoch 6\n",
      "Loss: 0.16841327\n",
      "Epoch 7\n",
      "Loss: 0.1527944\n",
      "Epoch 8\n",
      "Loss: 0.1386844\n",
      "Epoch 9\n",
      "Loss: 0.12590876\n",
      "Epoch 10\n",
      "Loss: 0.114325225\n",
      "Epoch 11\n",
      "Loss: 0.10379849\n",
      "Epoch 12\n",
      "Loss: 0.094226256\n",
      "Epoch 13\n",
      "Loss: 0.08551226\n",
      "Epoch 14\n",
      "Loss: 0.077572465\n",
      "Epoch 15\n",
      "Loss: 0.07033653\n",
      "Epoch 16\n",
      "Loss: 0.063740544\n",
      "Epoch 17\n",
      "Loss: 0.057728518\n",
      "Epoch 18\n",
      "Loss: 0.05224984\n",
      "Epoch 19\n",
      "Loss: 0.047257714\n",
      "Epoch 20\n",
      "Loss: 0.042709377\n",
      "Epoch 21\n",
      "Loss: 0.038570557\n",
      "Epoch 22\n",
      "Loss: 0.034803882\n",
      "Epoch 23\n",
      "Loss: 0.03137951\n",
      "Epoch 24\n",
      "Loss: 0.028267544\n",
      "Epoch 25\n",
      "Loss: 0.025442837\n",
      "Epoch 26\n",
      "Loss: 0.022879494\n",
      "Epoch 27\n",
      "Loss: 0.020555988\n",
      "Epoch 28\n",
      "Loss: 0.018451381\n",
      "Epoch 29\n",
      "Loss: 0.016547339\n",
      "Epoch 30\n",
      "Loss: 0.014826312\n",
      "Epoch 31\n",
      "Loss: 0.013272445\n",
      "Epoch 32\n",
      "Loss: 0.011871214\n",
      "Epoch 33\n",
      "Loss: 0.010609283\n",
      "Epoch 34\n",
      "Loss: 0.009474198\n",
      "Epoch 35\n",
      "Loss: 0.008454633\n",
      "Epoch 36\n",
      "Loss: 0.007540401\n",
      "Epoch 37\n",
      "Loss: 0.006721778\n",
      "Epoch 38\n",
      "Loss: 0.005989801\n",
      "Epoch 39\n",
      "Loss: 0.0053365775\n",
      "Epoch 40\n",
      "Loss: 0.004754468\n",
      "Epoch 41\n",
      "Loss: 0.004236884\n",
      "Epoch 42\n",
      "Loss: 0.0037771296\n",
      "Epoch 43\n",
      "Loss: 0.0033697917\n",
      "Epoch 44\n",
      "Loss: 0.0030094471\n",
      "Epoch 45\n",
      "Loss: 0.002691268\n",
      "Epoch 46\n",
      "Loss: 0.002410919\n",
      "Epoch 47\n",
      "Loss: 0.002164298\n",
      "Epoch 48\n",
      "Loss: 0.0019478191\n",
      "Epoch 49\n",
      "Loss: 0.0017580499\n",
      "Epoch 50\n",
      "Loss: 0.0015920522\n",
      "Epoch 51\n",
      "Loss: 0.0014471099\n",
      "Epoch 52\n",
      "Loss: 0.0013207896\n",
      "Epoch 53\n",
      "Loss: 0.0012107868\n",
      "Epoch 54\n",
      "Loss: 0.00111516\n",
      "Epoch 55\n",
      "Loss: 0.0010321562\n",
      "Epoch 56\n",
      "Loss: 0.0009601219\n",
      "Epoch 57\n",
      "Loss: 0.0008976772\n",
      "Epoch 58\n",
      "Loss: 0.0008435309\n",
      "Epoch 59\n",
      "Loss: 0.00079661823\n",
      "Epoch 60\n",
      "Loss: 0.0007559154\n",
      "Epoch 61\n",
      "Loss: 0.00072060275\n",
      "Epoch 62\n",
      "Loss: 0.0006898971\n",
      "Epoch 63\n",
      "Loss: 0.00066313427\n",
      "Epoch 64\n",
      "Loss: 0.0006397704\n",
      "Epoch 65\n",
      "Loss: 0.0006192737\n",
      "Epoch 66\n",
      "Loss: 0.00060124125\n",
      "Epoch 67\n",
      "Loss: 0.00058528775\n",
      "Epoch 68\n",
      "Loss: 0.00057109655\n",
      "Epoch 69\n",
      "Loss: 0.0005583973\n",
      "Epoch 70\n",
      "Loss: 0.0005469476\n",
      "Epoch 71\n",
      "Loss: 0.0005365788\n",
      "Epoch 72\n",
      "Loss: 0.0005271089\n",
      "Epoch 73\n",
      "Loss: 0.000518388\n",
      "Epoch 74\n",
      "Loss: 0.0005103125\n",
      "Epoch 75\n",
      "Loss: 0.0005027687\n",
      "Epoch 76\n",
      "Loss: 0.00049567973\n",
      "Epoch 77\n",
      "Loss: 0.00048896484\n",
      "Epoch 78\n",
      "Loss: 0.00048257803\n",
      "Epoch 79\n",
      "Loss: 0.0004764694\n",
      "Epoch 80\n",
      "Loss: 0.0004706023\n",
      "Epoch 81\n",
      "Loss: 0.00046491614\n",
      "Epoch 82\n",
      "Loss: 0.0004594079\n",
      "Epoch 83\n",
      "Loss: 0.00045404886\n",
      "Epoch 84\n",
      "Loss: 0.00044885447\n",
      "Epoch 85\n",
      "Loss: 0.0004437987\n",
      "Epoch 86\n",
      "Loss: 0.00043885942\n",
      "Epoch 87\n",
      "Loss: 0.00043404163\n",
      "Epoch 88\n",
      "Loss: 0.0004293546\n",
      "Epoch 89\n",
      "Loss: 0.00042477518\n",
      "Epoch 90\n",
      "Loss: 0.00042030963\n",
      "Epoch 91\n",
      "Loss: 0.00041593838\n",
      "Epoch 92\n",
      "Loss: 0.00041167028\n",
      "Epoch 93\n",
      "Loss: 0.00040749123\n",
      "Epoch 94\n",
      "Loss: 0.00040337638\n",
      "Epoch 95\n",
      "Loss: 0.00039932024\n",
      "Epoch 96\n",
      "Loss: 0.0003953206\n",
      "Epoch 97\n",
      "Loss: 0.0003913825\n",
      "Epoch 98\n",
      "Loss: 0.00038753008\n",
      "Epoch 99\n",
      "Loss: 0.000383723\n",
      "Epoch 100\n",
      "Loss: 0.0003799585\n",
      "Epoch 101\n",
      "Loss: 0.00037622964\n",
      "Epoch 102\n",
      "Loss: 0.00037255726\n",
      "Epoch 103\n",
      "Loss: 0.00036892164\n",
      "Epoch 104\n",
      "Loss: 0.00036530185\n",
      "Epoch 105\n",
      "Loss: 0.00036168593\n",
      "Epoch 106\n",
      "Loss: 0.00035808116\n",
      "Epoch 107\n",
      "Loss: 0.00035452214\n",
      "Epoch 108\n",
      "Loss: 0.00035095023\n",
      "Epoch 109\n",
      "Loss: 0.00034738934\n",
      "Epoch 110\n",
      "Loss: 0.00034381542\n",
      "Epoch 111\n",
      "Loss: 0.00034022098\n",
      "Epoch 112\n",
      "Loss: 0.00033660504\n",
      "Epoch 113\n",
      "Loss: 0.00033295617\n",
      "Epoch 114\n",
      "Loss: 0.00032928094\n",
      "Epoch 115\n",
      "Loss: 0.00032557375\n",
      "Epoch 116\n",
      "Loss: 0.00032186412\n",
      "Epoch 117\n",
      "Loss: 0.00031810545\n",
      "Epoch 118\n",
      "Loss: 0.00031432547\n",
      "Epoch 119\n",
      "Loss: 0.0003105891\n",
      "Epoch 120\n",
      "Loss: 0.00030696735\n",
      "Epoch 121\n",
      "Loss: 0.0003034613\n",
      "Epoch 122\n",
      "Loss: 0.00030005138\n",
      "Epoch 123\n",
      "Loss: 0.0002967473\n",
      "Epoch 124\n",
      "Loss: 0.00029359755\n",
      "Epoch 125\n",
      "Loss: 0.00029060637\n",
      "Epoch 126\n",
      "Loss: 0.0002877653\n",
      "Epoch 127\n",
      "Loss: 0.00028506794\n",
      "Epoch 128\n",
      "Loss: 0.00028250468\n",
      "Epoch 129\n",
      "Loss: 0.00028004422\n",
      "Epoch 130\n",
      "Loss: 0.0002776626\n",
      "Epoch 131\n",
      "Loss: 0.0002754024\n",
      "Epoch 132\n",
      "Loss: 0.00027325292\n",
      "Epoch 133\n",
      "Loss: 0.00027120364\n",
      "Epoch 134\n",
      "Loss: 0.00026924844\n",
      "Epoch 135\n",
      "Loss: 0.00026736685\n",
      "Epoch 136\n",
      "Loss: 0.0002655429\n",
      "Epoch 137\n",
      "Loss: 0.00026377293\n",
      "Epoch 138\n",
      "Loss: 0.00026203887\n",
      "Epoch 139\n",
      "Loss: 0.00026034296\n",
      "Epoch 140\n",
      "Loss: 0.00025868253\n",
      "Epoch 141\n",
      "Loss: 0.00025705833\n",
      "Epoch 142\n",
      "Loss: 0.00025547642\n",
      "Epoch 143\n",
      "Loss: 0.0002539166\n",
      "Epoch 144\n",
      "Loss: 0.0002523809\n",
      "Epoch 145\n",
      "Loss: 0.00025086515\n",
      "Epoch 146\n",
      "Loss: 0.00024937175\n",
      "Epoch 147\n",
      "Loss: 0.00024788882\n",
      "Epoch 148\n",
      "Loss: 0.0002464269\n",
      "Epoch 149\n",
      "Loss: 0.00024498967\n",
      "Epoch 150\n",
      "Loss: 0.00024356456\n",
      "Epoch 151\n",
      "Loss: 0.00024215854\n",
      "Epoch 152\n",
      "Loss: 0.00024076122\n",
      "Epoch 153\n",
      "Loss: 0.00023938142\n",
      "Epoch 154\n",
      "Loss: 0.00023801197\n",
      "Epoch 155\n",
      "Loss: 0.00023666065\n",
      "Epoch 156\n",
      "Loss: 0.00023532653\n",
      "Epoch 157\n",
      "Loss: 0.00023399893\n",
      "Epoch 158\n",
      "Loss: 0.00023268315\n",
      "Epoch 159\n",
      "Loss: 0.00023137899\n",
      "Epoch 160\n",
      "Loss: 0.00023009647\n",
      "Epoch 161\n",
      "Loss: 0.00022882102\n",
      "Epoch 162\n",
      "Loss: 0.00022756807\n",
      "Epoch 163\n",
      "Loss: 0.00022632741\n",
      "Epoch 164\n",
      "Loss: 0.00022509975\n",
      "Epoch 165\n",
      "Loss: 0.0002238897\n",
      "Epoch 166\n",
      "Loss: 0.00022267917\n",
      "Epoch 167\n",
      "Loss: 0.00022149202\n",
      "Epoch 168\n",
      "Loss: 0.00022032169\n",
      "Epoch 169\n",
      "Loss: 0.00021916506\n",
      "Epoch 170\n",
      "Loss: 0.00021801941\n",
      "Epoch 171\n",
      "Loss: 0.00021688594\n",
      "Epoch 172\n",
      "Loss: 0.0002157653\n",
      "Epoch 173\n",
      "Loss: 0.00021465846\n",
      "Epoch 174\n",
      "Loss: 0.0002135656\n",
      "Epoch 175\n",
      "Loss: 0.00021248293\n",
      "Epoch 176\n",
      "Loss: 0.00021141594\n",
      "Epoch 177\n",
      "Loss: 0.00021036065\n",
      "Epoch 178\n",
      "Loss: 0.00020931964\n",
      "Epoch 179\n",
      "Loss: 0.00020829427\n",
      "Epoch 180\n",
      "Loss: 0.00020728036\n",
      "Epoch 181\n",
      "Loss: 0.00020628508\n",
      "Epoch 182\n",
      "Loss: 0.0002052969\n",
      "Epoch 183\n",
      "Loss: 0.00020432388\n",
      "Epoch 184\n",
      "Loss: 0.0002033643\n",
      "Epoch 185\n",
      "Loss: 0.00020240906\n",
      "Epoch 186\n",
      "Loss: 0.00020146355\n",
      "Epoch 187\n",
      "Loss: 0.00020053147\n",
      "Epoch 188\n",
      "Loss: 0.00019961121\n",
      "Epoch 189\n",
      "Loss: 0.00019870221\n",
      "Epoch 190\n",
      "Loss: 0.00019780606\n",
      "Epoch 191\n",
      "Loss: 0.00019692701\n",
      "Epoch 192\n",
      "Loss: 0.00019605354\n",
      "Epoch 193\n",
      "Loss: 0.00019519568\n",
      "Epoch 194\n",
      "Loss: 0.0001943562\n",
      "Epoch 195\n",
      "Loss: 0.00019352771\n",
      "Epoch 196\n",
      "Loss: 0.0001927112\n",
      "Epoch 197\n",
      "Loss: 0.00019191224\n",
      "Epoch 198\n",
      "Loss: 0.0001911219\n",
      "Epoch 199\n",
      "Loss: 0.00019034151\n",
      "Epoch 200\n",
      "Loss: 0.0001895644\n"
     ]
    },
    {
     "data": {
      "text/plain": [
       "(NeuralODE(), Float32[0.2775354 0.30016667; 0.2505803 0.27114373; … ; 0.00019034151 0.00020425564; 0.0001895644 0.00020342416])"
      ]
     },
     "execution_count": 5,
     "metadata": {},
     "output_type": "execute_result"
    }
   ],
   "source": [
    "trainedModel,losses = trainRNAForecaster(t0, t1, hiddenLayerNodes = 20,\n",
    " batchsize = 200, learningRate = 0.0001, checkStability = false, useGPU = false, nEpochs = 200)\n"
   ]
  },
  {
   "cell_type": "code",
   "execution_count": 6,
   "id": "b466a7ac-29cb-4523-9c77-443cb03a78b5",
   "metadata": {},
   "outputs": [],
   "source": [
    "using JLD2\n",
    "outModel = cpu(trainedModel)\n",
    "save_object(\"pancNODEEmbedded.jld2\", Flux.state(outModel))\n"
   ]
  },
  {
   "cell_type": "code",
   "execution_count": null,
   "id": "4368820c-972d-4aa8-9092-7497fde5b0f2",
   "metadata": {},
   "outputs": [],
   "source": [
    "# # Let's load a trained model\n",
    "# using Flux: loadmodel!\n",
    "# using JLD2\n",
    "# function loadForecaster(fileName::String, inputNodes::Int, hiddenLayerNodes::Int)\n",
    "#     #recreate neural network structure\n",
    "#     nn = Chain(Dense(inputNodes, hiddenLayerNodes, relu),\n",
    "#                Dense(hiddenLayerNodes, inputNodes))\n",
    "#     model = NeuralODE(nn, (0.0f0, 1.0f0), Tsit5(),\n",
    "#                        save_everystep = false,\n",
    "#                        reltol = 1e-3, abstol = 1e-3,\n",
    "#                        save_start = false)\n",
    "#     #load parameters into the model\n",
    "#     model = loadmodel!(model, load_object(fileName))\n",
    "#     return model\n",
    "# end\n",
    "\n"
   ]
  },
  {
   "cell_type": "code",
   "execution_count": null,
   "id": "d643c100-fe58-40ab-bd02-7440f7dbc408",
   "metadata": {},
   "outputs": [],
   "source": [
    "# trained = loadForecaster(\"pancNeuralODEResult.jld2\", 1352, 6000)"
   ]
  },
  {
   "cell_type": "code",
   "execution_count": null,
   "id": "c72bdbe2-d902-4558-9705-7ea3f885d4ea",
   "metadata": {},
   "outputs": [],
   "source": [
    "# target = Float32.(splicedSub)\n",
    "# size(target)"
   ]
  },
  {
   "cell_type": "code",
   "execution_count": 7,
   "id": "04b690ce-e630-4c2f-a18c-79166b374099",
   "metadata": {},
   "outputs": [
    {
     "data": {
      "text/plain": [
       "mostTimeVariableGenes"
      ]
     },
     "execution_count": 7,
     "metadata": {},
     "output_type": "execute_result"
    }
   ],
   "source": [
    "include(\"../src/recursivePredictionsV2.jl\")"
   ]
  },
  {
   "cell_type": "code",
   "execution_count": 8,
   "id": "4a0d00f8-2920-4ca1-8397-4122fddb56c9",
   "metadata": {},
   "outputs": [
    {
     "name": "stdout",
     "output_type": "stream",
     "text": [
      "Predicting step 1\n",
      "Predicting step 2\n",
      "Predicting step 3\n",
      "Predicting step 4\n",
      "Predicting step 5\n",
      "Predicting step 6\n"
     ]
    },
    {
     "data": {
      "text/plain": [
       "2×3696×6 Array{Float32, 3}:\n",
       "[:, :, 1] =\n",
       " 17.166    4.79    18.4654   2.47694  …  9.5478   5.31283  20.2352  20.8382\n",
       " 12.0848  13.0545  12.1725  16.3469      6.0931  12.8292   15.5496  12.5585\n",
       "\n",
       "[:, :, 2] =\n",
       " 17.1055   4.77609  18.4185   2.56012  …  9.44457   5.28193  20.235   20.8657\n",
       " 12.253   13.0368   12.3472  16.3887      6.18274  12.805    15.6918  12.6801\n",
       "\n",
       "[:, :, 3] =\n",
       " 17.0525   4.7624  18.3614   2.64134  …  9.33671   5.25168  20.2401  20.8885\n",
       " 12.4101  13.0189  12.5341  16.4306      6.27635  12.7806   15.8271  12.8082\n",
       "\n",
       "[:, :, 4] =\n",
       " 17.0064   4.74893  18.2947   2.72066  …  9.23406   5.22205  20.25    20.9059\n",
       " 12.5569  13.0008   12.7322  16.4724      6.36101  12.7561   15.9559  12.9435\n",
       "\n",
       "[:, :, 5] =\n",
       " 16.9668   4.73567  18.2332   2.79812  …  9.13679   5.19303  20.2644  20.9176\n",
       " 12.6942  12.9826   12.9219  16.5143      6.43662  12.7315   16.0788  13.0866\n",
       "\n",
       "[:, :, 6] =\n",
       " 16.9331   4.72261  18.1801   2.87379  …  9.04445   5.1646  20.2831  20.9228\n",
       " 12.8229  12.9643   13.0993  16.5563      6.50388  12.7067  16.1963  13.2381"
      ]
     },
     "execution_count": 8,
     "metadata": {},
     "output_type": "execute_result"
    }
   ],
   "source": [
    "futures = predictCellFutures(trainedModel,t0,6,damping=1.0f0)"
   ]
  },
  {
   "cell_type": "code",
   "execution_count": null,
   "id": "89aebba1-7bd7-4a53-8087-9b1ea225c633",
   "metadata": {},
   "outputs": [],
   "source": [
    "# losses"
   ]
  },
  {
   "cell_type": "code",
   "execution_count": 9,
   "id": "c11c3159-2253-42ac-b0bc-4c4c283b2070",
   "metadata": {},
   "outputs": [],
   "source": [
    "writedlm(\"./trajectories_t1.tsv\",futures[:,:,1])\n",
    "writedlm(\"./trajectories_t2.tsv\",futures[:,:,2])\n",
    "writedlm(\"./trajectories_t3.tsv\",futures[:,:,3])\n",
    "writedlm(\"./trajectories_t4.tsv\",futures[:,:,4])\n",
    "writedlm(\"./trajectories_t5.tsv\",futures[:,:,5])\n",
    "writedlm(\"./trajectories_t6.tsv\",futures[:,:,6])"
   ]
  },
  {
   "cell_type": "code",
   "execution_count": 10,
   "id": "cbd3af39-2dd3-4ba4-9127-1578adbdbf2c",
   "metadata": {},
   "outputs": [
    {
     "data": {
      "text/plain": [
       "0.012665073f0"
      ]
     },
     "execution_count": 10,
     "metadata": {},
     "output_type": "execute_result"
    }
   ],
   "source": [
    "residual = t1.-t0\n",
    "sq_res = residual.^2\n",
    "mean(sq_res)"
   ]
  },
  {
   "cell_type": "code",
   "execution_count": 11,
   "id": "29ec27d4-2807-46fb-bcf5-d8ed1937308f",
   "metadata": {},
   "outputs": [
    {
     "data": {
      "text/plain": [
       "0.018485762f0"
      ]
     },
     "execution_count": 11,
     "metadata": {},
     "output_type": "execute_result"
    }
   ],
   "source": [
    "residual = t1.-futures[:,:,1]\n",
    "sq_res = residual.^2\n",
    "mean(sq_res)"
   ]
  },
  {
   "cell_type": "code",
   "execution_count": null,
   "id": "5d3670f1-6b2d-4cd4-a6a5-0e696aae09ef",
   "metadata": {},
   "outputs": [],
   "source": []
  }
 ],
 "metadata": {
  "kernelspec": {
   "display_name": "Julia 1.10.3",
   "language": "julia",
   "name": "julia-1.10"
  },
  "language_info": {
   "file_extension": ".jl",
   "mimetype": "application/julia",
   "name": "julia",
   "version": "1.10.3"
  }
 },
 "nbformat": 4,
 "nbformat_minor": 5
}
