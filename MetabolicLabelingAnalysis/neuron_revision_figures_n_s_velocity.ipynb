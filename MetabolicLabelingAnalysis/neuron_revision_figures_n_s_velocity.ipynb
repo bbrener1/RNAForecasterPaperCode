{
 "cells": [
  {
   "cell_type": "code",
   "execution_count": null,
   "metadata": {},
   "outputs": [],
   "source": [
    "# Obtained wholesale from https://www.ncbi.nlm.nih.gov/pmc/articles/PMC8103797/\n",
    "\n",
    "# actual URL: https://github.com/wulabupenn/scNT-seq/blob/master/notebook_for_figures/neuron_revision_figures.ipynb\n",
    "\n",
    "# Unless indicated, the file is unaltered from its oringal form "
   ]
  },
  {
   "cell_type": "code",
   "execution_count": 1,
   "metadata": {},
   "outputs": [
    {
     "name": "stdout",
     "output_type": "stream",
     "text": [
      "0.0+7a67ded\n"
     ]
    },
    {
     "name": "stderr",
     "output_type": "stream",
     "text": [
      "/home/xqiu/.local/lib/python3.6/site-packages/dynamo-0.0+7a67ded-py3.6.egg/dynamo/plot/topography.py:492: SyntaxWarning: 'scatters.parameters.no_show_legend|kwargs' is not a valid key!\n",
      "  q_kwargs_dict={},\n"
     ]
    }
   ],
   "source": [
    "import dynamo as dyn\n",
    "import numpy as np\n",
    "import pandas as pd\n",
    "\n",
    "print(dyn.__version__)"
   ]
  },
  {
   "cell_type": "code",
   "execution_count": 2,
   "metadata": {},
   "outputs": [],
   "source": [
    "# read in the splicing data "
   ]
  },
  {
   "cell_type": "markdown",
   "metadata": {},
   "source": [
    "data can be downloaded here: \n",
    "\n",
    "https://www.dropbox.com/s/whjcqv0ei7zwadm/Neu_one_shot.h5ad?dl=0\n",
    "\n",
    "https://www.dropbox.com/s/3lwo2xfoo0reqr2/neuron_splicing_4_11.h5ad?dl=0\n",
    "\n",
    "https://www.dropbox.com/s/d3dr3777ce4ujhb/0408_grp_info.txt?dl=0\n"
   ]
  },
  {
   "cell_type": "code",
   "execution_count": 3,
   "metadata": {},
   "outputs": [],
   "source": [
    "neuron_splicing_4_11 = dyn.read_h5ad('/home/xqiu/proj/Aristotle/data/u_penn_data/data/revision_data/neuron_splicing_4_11.h5ad')"
   ]
  },
  {
   "cell_type": "code",
   "execution_count": 4,
   "metadata": {},
   "outputs": [],
   "source": [
    "# read in the labeling data "
   ]
  },
  {
   "cell_type": "code",
   "execution_count": 5,
   "metadata": {},
   "outputs": [],
   "source": [
    "Neu = dyn.read_h5ad('/home/xqiu/proj/Aristotle/data/u_penn_data/data/revision_data/Neu_one_shot.h5ad') # Neu"
   ]
  },
  {
   "cell_type": "code",
   "execution_count": 6,
   "metadata": {},
   "outputs": [
    {
     "data": {
      "text/plain": [
       "AnnData object with n_obs × n_vars = 18133 × 37661 \n",
       "    obs: 'nGene', 'nUMI', 'time', 'cluster'\n",
       "    var: 'gene_short_name'\n",
       "    layers: 'new', 'total'"
      ]
     },
     "execution_count": 6,
     "metadata": {},
     "output_type": "execute_result"
    }
   ],
   "source": [
    "Neu"
   ]
  },
  {
   "cell_type": "code",
   "execution_count": 7,
   "metadata": {},
   "outputs": [],
   "source": [
    "# update neuron_splicing_4_11's obs "
   ]
  },
  {
   "cell_type": "code",
   "execution_count": 8,
   "metadata": {},
   "outputs": [],
   "source": [
    "# neuron_splicing.obs = Neu.obs.loc[neuron_splicing.obs.index, :]\n",
    "neuron_splicing_4_11.obs = Neu.obs.loc[neuron_splicing_4_11.obs.index, :]\n"
   ]
  },
  {
   "cell_type": "code",
   "execution_count": 9,
   "metadata": {},
   "outputs": [
    {
     "data": {
      "text/plain": [
       "AnnData object with n_obs × n_vars = 13476 × 44021 \n",
       "    obs: 'nGene', 'nUMI', 'time', 'cluster'\n",
       "    var: 'gene_short_name'\n",
       "    layers: 'spliced', 'unspliced'"
      ]
     },
     "execution_count": 9,
     "metadata": {},
     "output_type": "execute_result"
    }
   ],
   "source": [
    "neuron_splicing_4_11"
   ]
  },
  {
   "cell_type": "code",
   "execution_count": 10,
   "metadata": {},
   "outputs": [],
   "source": [
    "adata = neuron_splicing_4_11.copy()"
   ]
  },
  {
   "cell_type": "code",
   "execution_count": 11,
   "metadata": {},
   "outputs": [],
   "source": [
    "intersect_gene = list(set(adata.var_names).intersection(Neu.var_names))\n",
    "intersect_cells = list(set(adata.obs_names).intersection(Neu.obs_names))"
   ]
  },
  {
   "cell_type": "code",
   "execution_count": 12,
   "metadata": {},
   "outputs": [],
   "source": [
    "adata = adata[intersect_cells, :][:, intersect_gene].copy()"
   ]
  },
  {
   "cell_type": "code",
   "execution_count": 13,
   "metadata": {},
   "outputs": [],
   "source": [
    "Neu = Neu[intersect_cells, :][:, intersect_gene].copy()"
   ]
  },
  {
   "cell_type": "code",
   "execution_count": 14,
   "metadata": {},
   "outputs": [
    {
     "data": {
      "text/plain": [
       "AnnData object with n_obs × n_vars = 13476 × 37007 \n",
       "    obs: 'nGene', 'nUMI', 'time', 'cluster'\n",
       "    var: 'gene_short_name'\n",
       "    layers: 'spliced', 'unspliced'"
      ]
     },
     "execution_count": 14,
     "metadata": {},
     "output_type": "execute_result"
    }
   ],
   "source": [
    "adata"
   ]
  },
  {
   "cell_type": "code",
   "execution_count": 15,
   "metadata": {},
   "outputs": [
    {
     "data": {
      "text/plain": [
       "AnnData object with n_obs × n_vars = 13476 × 37007 \n",
       "    obs: 'nGene', 'nUMI', 'time', 'cluster'\n",
       "    var: 'gene_short_name'\n",
       "    layers: 'new', 'total'"
      ]
     },
     "execution_count": 15,
     "metadata": {},
     "output_type": "execute_result"
    }
   ],
   "source": [
    "Neu"
   ]
  },
  {
   "cell_type": "code",
   "execution_count": 16,
   "metadata": {},
   "outputs": [],
   "source": [
    "tmp = Neu.X"
   ]
  },
  {
   "cell_type": "code",
   "execution_count": 17,
   "metadata": {},
   "outputs": [],
   "source": [
    "adata.X = Neu.X.copy()\n"
   ]
  },
  {
   "cell_type": "code",
   "execution_count": 18,
   "metadata": {},
   "outputs": [],
   "source": [
    "adata.layers['unspliced'] = Neu.layers['new'].copy()"
   ]
  },
  {
   "cell_type": "code",
   "execution_count": 21,
   "metadata": {},
   "outputs": [
    {
     "data": {
      "text/plain": [
       "View of AnnData object with n_obs × n_vars = 3060 × 97 \n",
       "    obs: 'nGene', 'nUMI', 'time', 'cluster', 'label_time'\n",
       "    var: 'gene_short_name'\n",
       "    layers: 'spliced', 'unspliced'"
      ]
     },
     "execution_count": 21,
     "metadata": {},
     "output_type": "execute_result"
    }
   ],
   "source": [
    "adata.obs['label_time'] = 2 # this is the labeling time \n",
    "tkey = 'label_time'\n",
    "# adata = adata[adata.obs.time.isin(time), :]\n",
    "\n",
    "cell_filter = (adata.X > 0).sum(1) > 2000\n",
    "\n",
    "adata = adata[cell_filter.A1, :]\n",
    "\n",
    "peng_gene_list = pd.read_csv('/home/xqiu/proj/Aristotle/data/u_penn_data/scNT_revision/0408_grp_info.txt', sep='\\t')\n",
    "\n",
    "adata = adata[:, peng_gene_list.index]\n",
    "\n",
    "adata"
   ]
  },
  {
   "cell_type": "code",
   "execution_count": 25,
   "metadata": {},
   "outputs": [
    {
     "name": "stderr",
     "output_type": "stream",
     "text": [
      "estimating gamma: 100%|██████████| 97/97 [00:00<00:00, 128.23it/s]\n",
      "/home/xqiu/.local/lib/python3.6/site-packages/scipy/sparse/_index.py:118: SparseEfficiencyWarning: Changing the sparsity structure of a csr_matrix is expensive. lil_matrix is more efficient.\n",
      "  self._set_arrayXarray_sparse(i, j, x)\n",
      "compute transiton matrix: 100%|██████████| 3060/3060 [00:18<00:00, 164.54it/s]\n",
      "calculating density corrected drift: 100%|██████████| 3060/3060 [00:01<00:00, 2574.22it/s]\n",
      "compute transiton matrix: 100%|██████████| 3060/3060 [00:12<00:00, 241.76it/s]\n",
      "calculating density corrected drift: 100%|██████████| 3060/3060 [00:01<00:00, 2606.13it/s]\n",
      "/home/xqiu/.local/lib/python3.6/site-packages/dynamo-0.0+7a67ded-py3.6.egg/dynamo/plot/dynamics.py:175: MatplotlibDeprecationWarning: \n",
      "The DivergingNorm class was deprecated in Matplotlib 3.2 and will be removed two minor releases later. Use TwoSlopeNorm instead.\n",
      "  div_scatter_kwargs.update({\"norm\": DivergingNorm(0)})\n"
     ]
    },
    {
     "name": "stdout",
     "output_type": "stream",
     "text": [
      "Saving figure to /home/xqiu/proj/Aristotle/data/u_penn_data/n_s_labeling_pp_0_25_filter_cells_dyn_savefig.pdf...\n",
      "Done\n"
     ]
    },
    {
     "name": "stderr",
     "output_type": "stream",
     "text": [
      "/home/xqiu/.local/lib/python3.6/site-packages/dynamo-0.0+7a67ded-py3.6.egg/dynamo/plot/dynamics.py:175: MatplotlibDeprecationWarning: \n",
      "The DivergingNorm class was deprecated in Matplotlib 3.2 and will be removed two minor releases later. Use TwoSlopeNorm instead.\n",
      "  div_scatter_kwargs.update({\"norm\": DivergingNorm(0)})\n"
     ]
    },
    {
     "name": "stdout",
     "output_type": "stream",
     "text": [
      "Saving figure to /home/xqiu/proj/Aristotle/data/u_penn_data/n_s_labeling_pp_25_50_filter_cells_dyn_savefig.pdf...\n",
      "Done\n"
     ]
    },
    {
     "name": "stderr",
     "output_type": "stream",
     "text": [
      "/home/xqiu/.local/lib/python3.6/site-packages/dynamo-0.0+7a67ded-py3.6.egg/dynamo/plot/dynamics.py:175: MatplotlibDeprecationWarning: \n",
      "The DivergingNorm class was deprecated in Matplotlib 3.2 and will be removed two minor releases later. Use TwoSlopeNorm instead.\n",
      "  div_scatter_kwargs.update({\"norm\": DivergingNorm(0)})\n"
     ]
    },
    {
     "name": "stdout",
     "output_type": "stream",
     "text": [
      "Saving figure to /home/xqiu/proj/Aristotle/data/u_penn_data/n_s_labeling_pp_50_75_filter_cells_dyn_savefig.pdf...\n",
      "Done\n"
     ]
    },
    {
     "name": "stderr",
     "output_type": "stream",
     "text": [
      "/home/xqiu/.local/lib/python3.6/site-packages/dynamo-0.0+7a67ded-py3.6.egg/dynamo/plot/dynamics.py:175: MatplotlibDeprecationWarning: \n",
      "The DivergingNorm class was deprecated in Matplotlib 3.2 and will be removed two minor releases later. Use TwoSlopeNorm instead.\n",
      "  div_scatter_kwargs.update({\"norm\": DivergingNorm(0)})\n"
     ]
    },
    {
     "name": "stdout",
     "output_type": "stream",
     "text": [
      "Saving figure to /home/xqiu/proj/Aristotle/data/u_penn_data/n_s_labeling_pp_75_above_filter_cells_dyn_savefig.pdf...\n",
      "Done\n"
     ]
    },
    {
     "name": "stderr",
     "output_type": "stream",
     "text": [
      "/home/xqiu/.local/lib/python3.6/site-packages/dynamo-0.0+7a67ded-py3.6.egg/dynamo/plot/dynamics.py:175: MatplotlibDeprecationWarning: \n",
      "The DivergingNorm class was deprecated in Matplotlib 3.2 and will be removed two minor releases later. Use TwoSlopeNorm instead.\n",
      "  div_scatter_kwargs.update({\"norm\": DivergingNorm(0)})\n"
     ]
    },
    {
     "name": "stdout",
     "output_type": "stream",
     "text": [
      "Saving figure to /home/xqiu/proj/Aristotle/data/u_penn_data/n_s_hao_gene_list_pp_dyn_savefig.pdf...\n",
      "Done\n",
      "Saving figure to /home/xqiu/proj/Aristotle/data/u_penn_data/labeling_cell_wise_velocity_filter_cells_dyn_savefig.pdf...\n"
     ]
    },
    {
     "name": "stderr",
     "output_type": "stream",
     "text": [
      "/home/xqiu/.local/lib/python3.6/site-packages/anndata/_core/anndata.py:1342: FutureWarning: In a future version of AnnData, access to `.X` by passing `layer='X'` will be removed. Instead pass `layer=None`.\n",
      "  FutureWarning,\n"
     ]
    },
    {
     "name": "stdout",
     "output_type": "stream",
     "text": [
      "Done\n"
     ]
    },
    {
     "name": "stderr",
     "output_type": "stream",
     "text": [
      "/home/xqiu/.local/lib/python3.6/site-packages/anndata/_core/anndata.py:1342: FutureWarning: In a future version of AnnData, access to `.X` by passing `layer='X'` will be removed. Instead pass `layer=None`.\n",
      "  FutureWarning,\n"
     ]
    },
    {
     "name": "stdout",
     "output_type": "stream",
     "text": [
      "Saving figure to /home/xqiu/proj/Aristotle/data/u_penn_data/n_s_labeling_grid_velocity_filter_cells_dyn_savefig.pdf...\n",
      "Done\n"
     ]
    },
    {
     "name": "stderr",
     "output_type": "stream",
     "text": [
      "/home/xqiu/.local/lib/python3.6/site-packages/anndata/_core/anndata.py:1342: FutureWarning: In a future version of AnnData, access to `.X` by passing `layer='X'` will be removed. Instead pass `layer=None`.\n",
      "  FutureWarning,\n"
     ]
    },
    {
     "name": "stdout",
     "output_type": "stream",
     "text": [
      "Saving figure to /home/xqiu/proj/Aristotle/data/u_penn_data/n_s_labeling_streamline_rnd_filter_cells_dyn_savefig.svg...\n",
      "Done\n"
     ]
    },
    {
     "name": "stderr",
     "output_type": "stream",
     "text": [
      "/home/xqiu/.local/lib/python3.6/site-packages/anndata/_core/anndata.py:1342: FutureWarning: In a future version of AnnData, access to `.X` by passing `layer='X'` will be removed. Instead pass `layer=None`.\n",
      "  FutureWarning,\n"
     ]
    },
    {
     "name": "stdout",
     "output_type": "stream",
     "text": [
      "Saving figure to /home/xqiu/proj/Aristotle/data/u_penn_data/n_s_labeling_streamline_rnd_legend_filter_cells_dyn_savefig.svg...\n",
      "Done\n"
     ]
    },
    {
     "name": "stderr",
     "output_type": "stream",
     "text": [
      "/home/xqiu/.local/lib/python3.6/site-packages/anndata/_core/anndata.py:1342: FutureWarning: In a future version of AnnData, access to `.X` by passing `layer='X'` will be removed. Instead pass `layer=None`.\n",
      "  FutureWarning,\n"
     ]
    },
    {
     "name": "stdout",
     "output_type": "stream",
     "text": [
      "Saving figure to /home/xqiu/proj/Aristotle/data/u_penn_data/n_s_labeling_stream_velocity_filter_cells_dyn_savefig.svg...\n",
      "Done\n"
     ]
    },
    {
     "name": "stderr",
     "output_type": "stream",
     "text": [
      "/home/xqiu/.local/lib/python3.6/site-packages/anndata/_core/anndata.py:1342: FutureWarning: In a future version of AnnData, access to `.X` by passing `layer='X'` will be removed. Instead pass `layer=None`.\n",
      "  FutureWarning,\n"
     ]
    },
    {
     "name": "stdout",
     "output_type": "stream",
     "text": [
      "Saving figure to /home/xqiu/proj/Aristotle/data/u_penn_data/n_s_labeling_stream_velocity_legend_filter_cells_dyn_savefig.svg...\n",
      "Done\n"
     ]
    },
    {
     "data": {
      "text/plain": [
       "<Figure size 432x288 with 0 Axes>"
      ]
     },
     "metadata": {},
     "output_type": "display_data"
    }
   ],
   "source": [
    "adata = dyn.pp.recipe_monocle(adata, n_top_genes=1000, fc_kwargs={\"min_expr_genes_s\": 5,\n",
    "    \"min_expr_genes_u\": 2,}, fg_kwargs={\"shared_count\": 5},\n",
    "#                       keep_filtered_cells=False,\n",
    "#                       keep_filtered_genes=False,\n",
    "                      # total_layers='spliced',\n",
    "                      )\n",
    "\n",
    "dyn.tl.dynamics(adata, model='stochastic')\n",
    "\n",
    "dyn.tl.reduceDimension(adata, reduction_method='umap')\n",
    "\n",
    "dyn.tl.cell_velocities(adata, calc_rnd_vel=True)\n",
    "adata.obs['time'] = adata.obs.time.astype('category')\n",
    "\n",
    "dyn.pl.phase_portraits(adata, genes=peng_gene_list.index[0:25], color='time', discrete_continous_div_color_key_cmap=['viridis', None, None], save_show_or_return='save', pointsize=3, save_kwargs={'prefix': 'n_s_labeling_pp_0_25_filter_cells'})\n",
    "dyn.pl.phase_portraits(adata, genes=peng_gene_list.index[25:50], color='time', discrete_continous_div_color_key_cmap=['viridis', None, None], save_show_or_return='save', pointsize=3, save_kwargs={'prefix': 'n_s_labeling_pp_25_50_filter_cells'})\n",
    "dyn.pl.phase_portraits(adata, genes=peng_gene_list.index[50:75], color='time', discrete_continous_div_color_key_cmap=['viridis', None, None], save_show_or_return='save', pointsize=3, save_kwargs={'prefix': 'n_s_labeling_pp_50_75_filter_cells'})\n",
    "dyn.pl.phase_portraits(adata, genes=peng_gene_list.index[75:], color='time', discrete_continous_div_color_key_cmap=['viridis', None, None], save_show_or_return='save', pointsize=3, save_kwargs={'prefix': 'n_s_labeling_pp_75_above_filter_cells'})\n",
    "\n",
    "hao_gene_list = [\"Egr1\", \"Fos\", \"Fosb\", \"Ier2\", \"Jun\", \"Nr4a3\", \"Homer1\", \"Fosl2\", \"Nefl\", \"Maff\"]\n",
    "dyn.pl.phase_portraits(adata, genes=hao_gene_list, color='time',  discrete_continous_div_color_key=[None, None, None], discrete_continous_div_color_key_cmap=['viridis', None, None], ncols=6, save_kwargs={'prefix': 'n_s_hao_gene_list_pp'}, save_show_or_return='save', pointsize=5)\n",
    "\n",
    "dyn.pl.cell_wise_velocity(adata, color='time', color_key_cmap = 'viridis', basis='umap', ncols=5, quiver_size=4,\n",
    "                          quiver_length=5, save_show_or_return='save', save_kwargs={'prefix': 'labeling_cell_wise_velocity_filter_cells'})  # ['GRIA3', 'LINC00982', 'AFF2']\n",
    "\n",
    "dyn.pl.grid_velocity(adata, color='time', color_key_cmap = 'viridis', basis='umap', ncols=5, save_show_or_return='save', save_kwargs={'prefix': 'n_s_labeling_grid_velocity_filter_cells'})  # ['GRIA3', 'LINC00982', 'AFF2']\n",
    "dyn.pl.streamline_plot(adata, color='time', color_key_cmap = 'viridis', basis='umap_rnd', ncols=5, show_legend='on data', save_show_or_return='save', save_kwargs={'prefix': 'n_s_labeling_streamline_rnd_filter_cells', 'ext': 'svg'})  # ['GRIA3', 'LINC00982', 'AFF2']\n",
    "dyn.pl.streamline_plot(adata, color='time', color_key_cmap = 'viridis', basis='umap_rnd', ncols=5, save_show_or_return='save', save_kwargs={'prefix': 'n_s_labeling_streamline_rnd_legend_filter_cells', 'ext': 'svg'})  # ['GRIA3', 'LINC00982', 'AFF2']\n",
    "\n",
    "dyn.pl.streamline_plot(adata, color='time', color_key_cmap = 'viridis', basis='umap', ncols=5, show_legend='on data', save_show_or_return='save', save_kwargs={'prefix': 'n_s_labeling_stream_velocity_filter_cells', 'ext': 'svg'})  # ['GRIA3', 'LINC00982', 'AFF2']\n",
    "dyn.pl.streamline_plot(adata, color='time', color_key_cmap = 'viridis', basis='umap', ncols=5, save_show_or_return='save', save_kwargs={'prefix': 'n_s_labeling_stream_velocity_legend_filter_cells', 'ext': 'svg'})  # ['GRIA3', 'LINC00982', 'AFF2']\n"
   ]
  },
  {
   "cell_type": "code",
   "execution_count": 26,
   "metadata": {},
   "outputs": [
    {
     "name": "stderr",
     "output_type": "stream",
     "text": [
      "/home/xqiu/.local/lib/python3.6/site-packages/dynamo-0.0+9871d78-py3.6.egg/dynamo/plot/dynamics.py:174: MatplotlibDeprecationWarning: \n",
      "The DivergingNorm class was deprecated in Matplotlib 3.2 and will be removed two minor releases later. Use TwoSlopeNorm instead.\n",
      "  div_scatter_kwargs.update({\"norm\": DivergingNorm(0)})\n"
     ]
    },
    {
     "name": "stdout",
     "output_type": "stream",
     "text": [
      "Saving figure to /home/xqiu/proj/Aristotle/data/u_penn_data/hao_gene_list_pp_dyn_savefig.pdf...\n",
      "Done\n"
     ]
    }
   ],
   "source": [
    "hao_gene_list = [\"Egr1\", \"Fos\", \"Fosb\", \"Ier2\", \"Jun\", \"Nr4a3\", \"Homer1\", \"Fosl2\", \"Nefl\", \"Maff\"]\n",
    "dyn.pl.phase_portraits(adata, genes=hao_gene_list, color='time',  discrete_continous_div_color_key=[None, None, None], discrete_continous_div_color_key_cmap=['viridis', None, None], ncols=6, save_kwargs={'prefix': 'hao_gene_list_pp'}, save_show_or_return='save', pointsize=5)\n"
   ]
  },
  {
   "cell_type": "code",
   "execution_count": 27,
   "metadata": {},
   "outputs": [
    {
     "data": {
      "text/html": [
       "<div>\n",
       "<style scoped>\n",
       "    .dataframe tbody tr th:only-of-type {\n",
       "        vertical-align: middle;\n",
       "    }\n",
       "\n",
       "    .dataframe tbody tr th {\n",
       "        vertical-align: top;\n",
       "    }\n",
       "\n",
       "    .dataframe thead th {\n",
       "        text-align: right;\n",
       "    }\n",
       "</style>\n",
       "<table border=\"1\" class=\"dataframe\">\n",
       "  <thead>\n",
       "    <tr style=\"text-align: right;\">\n",
       "      <th></th>\n",
       "      <th>gene_short_name</th>\n",
       "      <th>pass_basic_filter</th>\n",
       "      <th>use_for_dynamo</th>\n",
       "      <th>alpha</th>\n",
       "      <th>beta</th>\n",
       "      <th>gamma</th>\n",
       "      <th>half_life</th>\n",
       "      <th>alpha_b</th>\n",
       "      <th>alpha_r2</th>\n",
       "      <th>gamma_b</th>\n",
       "      <th>...</th>\n",
       "      <th>uu0</th>\n",
       "      <th>ul0</th>\n",
       "      <th>su0</th>\n",
       "      <th>sl0</th>\n",
       "      <th>U0</th>\n",
       "      <th>S0</th>\n",
       "      <th>total0</th>\n",
       "      <th>beta_k</th>\n",
       "      <th>gamma_k</th>\n",
       "      <th>use_for_velocity</th>\n",
       "    </tr>\n",
       "  </thead>\n",
       "  <tbody>\n",
       "    <tr>\n",
       "      <td>Egr1</td>\n",
       "      <td>Egr1</td>\n",
       "      <td>True</td>\n",
       "      <td>True</td>\n",
       "      <td>3.754236</td>\n",
       "      <td>None</td>\n",
       "      <td>0.564103</td>\n",
       "      <td>1.228760</td>\n",
       "      <td>None</td>\n",
       "      <td>None</td>\n",
       "      <td>0</td>\n",
       "      <td>...</td>\n",
       "      <td>None</td>\n",
       "      <td>None</td>\n",
       "      <td>None</td>\n",
       "      <td>None</td>\n",
       "      <td>None</td>\n",
       "      <td>None</td>\n",
       "      <td>None</td>\n",
       "      <td>None</td>\n",
       "      <td>0.676387</td>\n",
       "      <td>True</td>\n",
       "    </tr>\n",
       "    <tr>\n",
       "      <td>Fos</td>\n",
       "      <td>Fos</td>\n",
       "      <td>True</td>\n",
       "      <td>True</td>\n",
       "      <td>3.945576</td>\n",
       "      <td>None</td>\n",
       "      <td>0.604691</td>\n",
       "      <td>1.146283</td>\n",
       "      <td>None</td>\n",
       "      <td>None</td>\n",
       "      <td>0</td>\n",
       "      <td>...</td>\n",
       "      <td>None</td>\n",
       "      <td>None</td>\n",
       "      <td>None</td>\n",
       "      <td>None</td>\n",
       "      <td>None</td>\n",
       "      <td>None</td>\n",
       "      <td>None</td>\n",
       "      <td>None</td>\n",
       "      <td>0.701618</td>\n",
       "      <td>True</td>\n",
       "    </tr>\n",
       "    <tr>\n",
       "      <td>Fosb</td>\n",
       "      <td>Fosb</td>\n",
       "      <td>True</td>\n",
       "      <td>True</td>\n",
       "      <td>1.503470</td>\n",
       "      <td>None</td>\n",
       "      <td>0.375635</td>\n",
       "      <td>1.845267</td>\n",
       "      <td>None</td>\n",
       "      <td>None</td>\n",
       "      <td>0</td>\n",
       "      <td>...</td>\n",
       "      <td>None</td>\n",
       "      <td>None</td>\n",
       "      <td>None</td>\n",
       "      <td>None</td>\n",
       "      <td>None</td>\n",
       "      <td>None</td>\n",
       "      <td>None</td>\n",
       "      <td>None</td>\n",
       "      <td>0.528233</td>\n",
       "      <td>True</td>\n",
       "    </tr>\n",
       "    <tr>\n",
       "      <td>Ier2</td>\n",
       "      <td>Ier2</td>\n",
       "      <td>True</td>\n",
       "      <td>True</td>\n",
       "      <td>1.004515</td>\n",
       "      <td>None</td>\n",
       "      <td>0.451171</td>\n",
       "      <td>1.536328</td>\n",
       "      <td>None</td>\n",
       "      <td>None</td>\n",
       "      <td>0</td>\n",
       "      <td>...</td>\n",
       "      <td>None</td>\n",
       "      <td>None</td>\n",
       "      <td>None</td>\n",
       "      <td>None</td>\n",
       "      <td>None</td>\n",
       "      <td>None</td>\n",
       "      <td>None</td>\n",
       "      <td>None</td>\n",
       "      <td>0.594382</td>\n",
       "      <td>True</td>\n",
       "    </tr>\n",
       "    <tr>\n",
       "      <td>Jun</td>\n",
       "      <td>Jun</td>\n",
       "      <td>True</td>\n",
       "      <td>True</td>\n",
       "      <td>0.661064</td>\n",
       "      <td>None</td>\n",
       "      <td>0.608166</td>\n",
       "      <td>1.139734</td>\n",
       "      <td>None</td>\n",
       "      <td>None</td>\n",
       "      <td>0</td>\n",
       "      <td>...</td>\n",
       "      <td>None</td>\n",
       "      <td>None</td>\n",
       "      <td>None</td>\n",
       "      <td>None</td>\n",
       "      <td>None</td>\n",
       "      <td>None</td>\n",
       "      <td>None</td>\n",
       "      <td>None</td>\n",
       "      <td>0.703685</td>\n",
       "      <td>True</td>\n",
       "    </tr>\n",
       "    <tr>\n",
       "      <td>Nr4a3</td>\n",
       "      <td>Nr4a3</td>\n",
       "      <td>True</td>\n",
       "      <td>True</td>\n",
       "      <td>1.968013</td>\n",
       "      <td>None</td>\n",
       "      <td>0.540665</td>\n",
       "      <td>1.282027</td>\n",
       "      <td>None</td>\n",
       "      <td>None</td>\n",
       "      <td>0</td>\n",
       "      <td>...</td>\n",
       "      <td>None</td>\n",
       "      <td>None</td>\n",
       "      <td>None</td>\n",
       "      <td>None</td>\n",
       "      <td>None</td>\n",
       "      <td>None</td>\n",
       "      <td>None</td>\n",
       "      <td>None</td>\n",
       "      <td>0.660856</td>\n",
       "      <td>True</td>\n",
       "    </tr>\n",
       "    <tr>\n",
       "      <td>Homer1</td>\n",
       "      <td>Homer1</td>\n",
       "      <td>True</td>\n",
       "      <td>True</td>\n",
       "      <td>0.672634</td>\n",
       "      <td>None</td>\n",
       "      <td>0.488364</td>\n",
       "      <td>1.419324</td>\n",
       "      <td>None</td>\n",
       "      <td>None</td>\n",
       "      <td>0</td>\n",
       "      <td>...</td>\n",
       "      <td>None</td>\n",
       "      <td>None</td>\n",
       "      <td>None</td>\n",
       "      <td>None</td>\n",
       "      <td>None</td>\n",
       "      <td>None</td>\n",
       "      <td>None</td>\n",
       "      <td>None</td>\n",
       "      <td>0.623459</td>\n",
       "      <td>True</td>\n",
       "    </tr>\n",
       "    <tr>\n",
       "      <td>Fosl2</td>\n",
       "      <td>Fosl2</td>\n",
       "      <td>True</td>\n",
       "      <td>True</td>\n",
       "      <td>0.502122</td>\n",
       "      <td>None</td>\n",
       "      <td>0.527234</td>\n",
       "      <td>1.314687</td>\n",
       "      <td>None</td>\n",
       "      <td>None</td>\n",
       "      <td>0</td>\n",
       "      <td>...</td>\n",
       "      <td>None</td>\n",
       "      <td>None</td>\n",
       "      <td>None</td>\n",
       "      <td>None</td>\n",
       "      <td>None</td>\n",
       "      <td>None</td>\n",
       "      <td>None</td>\n",
       "      <td>None</td>\n",
       "      <td>0.651622</td>\n",
       "      <td>True</td>\n",
       "    </tr>\n",
       "    <tr>\n",
       "      <td>Nefl</td>\n",
       "      <td>Nefl</td>\n",
       "      <td>True</td>\n",
       "      <td>True</td>\n",
       "      <td>0.159578</td>\n",
       "      <td>None</td>\n",
       "      <td>0.135433</td>\n",
       "      <td>5.118020</td>\n",
       "      <td>None</td>\n",
       "      <td>None</td>\n",
       "      <td>0</td>\n",
       "      <td>...</td>\n",
       "      <td>None</td>\n",
       "      <td>None</td>\n",
       "      <td>None</td>\n",
       "      <td>None</td>\n",
       "      <td>None</td>\n",
       "      <td>None</td>\n",
       "      <td>None</td>\n",
       "      <td>None</td>\n",
       "      <td>0.237281</td>\n",
       "      <td>True</td>\n",
       "    </tr>\n",
       "    <tr>\n",
       "      <td>Maff</td>\n",
       "      <td>Maff</td>\n",
       "      <td>True</td>\n",
       "      <td>True</td>\n",
       "      <td>0.246222</td>\n",
       "      <td>None</td>\n",
       "      <td>1.767510</td>\n",
       "      <td>0.392160</td>\n",
       "      <td>None</td>\n",
       "      <td>None</td>\n",
       "      <td>0</td>\n",
       "      <td>...</td>\n",
       "      <td>None</td>\n",
       "      <td>None</td>\n",
       "      <td>None</td>\n",
       "      <td>None</td>\n",
       "      <td>None</td>\n",
       "      <td>None</td>\n",
       "      <td>None</td>\n",
       "      <td>None</td>\n",
       "      <td>0.970842</td>\n",
       "      <td>False</td>\n",
       "    </tr>\n",
       "  </tbody>\n",
       "</table>\n",
       "<p>10 rows × 24 columns</p>\n",
       "</div>"
      ],
      "text/plain": [
       "       gene_short_name  pass_basic_filter  use_for_dynamo     alpha  beta  \\\n",
       "Egr1              Egr1               True            True  3.754236  None   \n",
       "Fos                Fos               True            True  3.945576  None   \n",
       "Fosb              Fosb               True            True  1.503470  None   \n",
       "Ier2              Ier2               True            True  1.004515  None   \n",
       "Jun                Jun               True            True  0.661064  None   \n",
       "Nr4a3            Nr4a3               True            True  1.968013  None   \n",
       "Homer1          Homer1               True            True  0.672634  None   \n",
       "Fosl2            Fosl2               True            True  0.502122  None   \n",
       "Nefl              Nefl               True            True  0.159578  None   \n",
       "Maff              Maff               True            True  0.246222  None   \n",
       "\n",
       "           gamma  half_life alpha_b alpha_r2  gamma_b  ...   uu0   ul0   su0  \\\n",
       "Egr1    0.564103   1.228760    None     None        0  ...  None  None  None   \n",
       "Fos     0.604691   1.146283    None     None        0  ...  None  None  None   \n",
       "Fosb    0.375635   1.845267    None     None        0  ...  None  None  None   \n",
       "Ier2    0.451171   1.536328    None     None        0  ...  None  None  None   \n",
       "Jun     0.608166   1.139734    None     None        0  ...  None  None  None   \n",
       "Nr4a3   0.540665   1.282027    None     None        0  ...  None  None  None   \n",
       "Homer1  0.488364   1.419324    None     None        0  ...  None  None  None   \n",
       "Fosl2   0.527234   1.314687    None     None        0  ...  None  None  None   \n",
       "Nefl    0.135433   5.118020    None     None        0  ...  None  None  None   \n",
       "Maff    1.767510   0.392160    None     None        0  ...  None  None  None   \n",
       "\n",
       "         sl0    U0    S0 total0 beta_k   gamma_k use_for_velocity  \n",
       "Egr1    None  None  None   None   None  0.676387             True  \n",
       "Fos     None  None  None   None   None  0.701618             True  \n",
       "Fosb    None  None  None   None   None  0.528233             True  \n",
       "Ier2    None  None  None   None   None  0.594382             True  \n",
       "Jun     None  None  None   None   None  0.703685             True  \n",
       "Nr4a3   None  None  None   None   None  0.660856             True  \n",
       "Homer1  None  None  None   None   None  0.623459             True  \n",
       "Fosl2   None  None  None   None   None  0.651622             True  \n",
       "Nefl    None  None  None   None   None  0.237281             True  \n",
       "Maff    None  None  None   None   None  0.970842            False  \n",
       "\n",
       "[10 rows x 24 columns]"
      ]
     },
     "execution_count": 27,
     "metadata": {},
     "output_type": "execute_result"
    }
   ],
   "source": [
    "adata[:, hao_gene_list].var"
   ]
  },
  {
   "cell_type": "code",
   "execution_count": 28,
   "metadata": {},
   "outputs": [
    {
     "data": {
      "text/plain": [
       "Egr1      0.825451\n",
       "Fos       0.914950\n",
       "Fosb      0.893733\n",
       "Ier2      0.766159\n",
       "Jun       0.694072\n",
       "Nr4a3     0.760848\n",
       "Homer1    0.837653\n",
       "Fosl2     0.601055\n",
       "Nefl      0.797660\n",
       "Maff     -1.366342\n",
       "Name: gamma_r2, dtype: float64"
      ]
     },
     "execution_count": 28,
     "metadata": {},
     "output_type": "execute_result"
    }
   ],
   "source": [
    "adata[:, hao_gene_list].var.loc[:, 'gamma_r2']"
   ]
  },
  {
   "cell_type": "code",
   "execution_count": 29,
   "metadata": {},
   "outputs": [
    {
     "data": {
      "text/plain": [
       "AnnData object with n_obs × n_vars = 3066 × 97 \n",
       "    obs: 'nGene', 'nUMI', 'time', 'cluster', 'label_time', 'use_for_dynamo', 'Size_Factor', 'initial_cell_size', 'total_Size_Factor', 'initial_total_cell_size', 'new_Size_Factor', 'initial_new_cell_size'\n",
       "    var: 'gene_short_name', 'pass_basic_filter', 'use_for_dynamo', 'alpha', 'beta', 'gamma', 'half_life', 'alpha_b', 'alpha_r2', 'gamma_b', 'gamma_r2', 'gamma_logLL', 'delta_b', 'delta_r2', 'uu0', 'ul0', 'su0', 'sl0', 'U0', 'S0', 'total0', 'beta_k', 'gamma_k', 'use_for_velocity'\n",
       "    uns: 'pp_log', 'PCs', 'explained_variance_ratio_', 'pca_fit', 'feature_selection', 'moments_con', 'dynamics', 'neighbors', 'umap_fit', 'velocity_pca_fit', 'velocity_PCs', 'kmc', 'transition_matrix', 'grid_velocity_umap', 'transition_matrix_rnd', 'grid_velocity_umap_rnd'\n",
       "    obsm: 'X_pca', 'X_umap', 'X_velocity_pca', 'velocity_pca_raw', 'velocity_umap', 'X_umap_rnd', 'velocity_umap_rnd'\n",
       "    varm: 'alpha'\n",
       "    layers: 'new', 'total', 'X_total', 'X_new', 'M_t', 'M_tt', 'M_n', 'M_tn', 'M_nn', 'velocity_U', 'velocity_S'"
      ]
     },
     "execution_count": 29,
     "metadata": {},
     "output_type": "execute_result"
    }
   ],
   "source": [
    "adata"
   ]
  },
  {
   "cell_type": "code",
   "execution_count": 30,
   "metadata": {},
   "outputs": [],
   "source": [
    "adata.obs['umap_0'] = adata.obsm['X_umap'][:, 0]\n",
    "adata.obs['umap_1'] = adata.obsm['X_umap'][:, 1]\n"
   ]
  },
  {
   "cell_type": "code",
   "execution_count": 31,
   "metadata": {},
   "outputs": [],
   "source": [
    "adata.obs.to_csv('adata_NTR_obs_2k_genes.csv')"
   ]
  },
  {
   "cell_type": "code",
   "execution_count": 32,
   "metadata": {},
   "outputs": [
    {
     "data": {
      "text/plain": [
       "AnnData object with n_obs × n_vars = 3066 × 97 \n",
       "    obs: 'nGene', 'nUMI', 'time', 'cluster', 'label_time', 'use_for_dynamo', 'Size_Factor', 'initial_cell_size', 'total_Size_Factor', 'initial_total_cell_size', 'new_Size_Factor', 'initial_new_cell_size', 'umap_0', 'umap_1'\n",
       "    var: 'gene_short_name', 'pass_basic_filter', 'use_for_dynamo', 'alpha', 'beta', 'gamma', 'half_life', 'alpha_b', 'alpha_r2', 'gamma_b', 'gamma_r2', 'gamma_logLL', 'delta_b', 'delta_r2', 'uu0', 'ul0', 'su0', 'sl0', 'U0', 'S0', 'total0', 'beta_k', 'gamma_k', 'use_for_velocity'\n",
       "    uns: 'pp_log', 'PCs', 'explained_variance_ratio_', 'pca_fit', 'feature_selection', 'moments_con', 'dynamics', 'neighbors', 'umap_fit', 'velocity_pca_fit', 'velocity_PCs', 'kmc', 'transition_matrix', 'grid_velocity_umap', 'transition_matrix_rnd', 'grid_velocity_umap_rnd'\n",
       "    obsm: 'X_pca', 'X_umap', 'X_velocity_pca', 'velocity_pca_raw', 'velocity_umap', 'X_umap_rnd', 'velocity_umap_rnd'\n",
       "    varm: 'alpha'\n",
       "    layers: 'new', 'total', 'X_total', 'X_new', 'M_t', 'M_tt', 'M_n', 'M_tn', 'M_nn', 'velocity_U', 'velocity_S'"
      ]
     },
     "execution_count": 32,
     "metadata": {},
     "output_type": "execute_result"
    }
   ],
   "source": [
    "adata"
   ]
  },
  {
   "cell_type": "code",
   "execution_count": 33,
   "metadata": {},
   "outputs": [
    {
     "name": "stdout",
     "output_type": "stream",
     "text": [
      "/home/xqiu/proj/Aristotle/data/u_penn_data\n"
     ]
    }
   ],
   "source": [
    "!pwd"
   ]
  }
 ],
 "metadata": {
  "kernelspec": {
   "display_name": "Python 3 (ipykernel)",
   "language": "python",
   "name": "python3"
  },
  "language_info": {
   "codemirror_mode": {
    "name": "ipython",
    "version": 3
   },
   "file_extension": ".py",
   "mimetype": "text/x-python",
   "name": "python",
   "nbconvert_exporter": "python",
   "pygments_lexer": "ipython3",
   "version": "3.11.9"
  }
 },
 "nbformat": 4,
 "nbformat_minor": 4
}
