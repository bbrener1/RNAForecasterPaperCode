{
 "cells": [
  {
   "cell_type": "code",
   "execution_count": null,
   "id": "24bbf408-b9c6-4cf4-9035-b029cc34a0fa",
   "metadata": {},
   "outputs": [],
   "source": [
    "import scvelo as scv\n",
    "import numpy as np\n",
    "import pandas as pd\n",
    "\n",
    "import scanpy as sc\n",
    "import matplotlib.pyplot as plt "
   ]
  },
  {
   "cell_type": "code",
   "execution_count": null,
   "id": "bbe176c5-f47e-47e5-8d7f-3261f482a328",
   "metadata": {},
   "outputs": [],
   "source": [
    "adata = scv.datasets.pancreas()\n"
   ]
  },
  {
   "cell_type": "code",
   "execution_count": null,
   "id": "ea06a1ea-4e5b-43e3-abc9-958a14193cc9",
   "metadata": {},
   "outputs": [],
   "source": [
    "sc.pp.normalize_per_cell(adata)\n",
    "sc.pp.log1p(adata)\n"
   ]
  },
  {
   "cell_type": "markdown",
   "id": "e6e93c56-f19c-4d6f-a299-b2934f1a3cb3",
   "metadata": {},
   "source": [
    "# Foreign HVG"
   ]
  },
  {
   "cell_type": "code",
   "execution_count": null,
   "id": "75b07686-d896-4503-b0db-55fc25b3994c",
   "metadata": {},
   "outputs": [],
   "source": [
    "hvg = np.loadtxt(\"./ZPSGenes.tsv\",dtype=str)\n",
    "hvg.shape"
   ]
  },
  {
   "cell_type": "code",
   "execution_count": null,
   "id": "fa6db424-c0a5-4201-aa56-ccdbbce9d70a",
   "metadata": {},
   "outputs": [],
   "source": [
    "filtered = adata[:,hvg]"
   ]
  },
  {
   "cell_type": "code",
   "execution_count": null,
   "id": "158b2ea0-0b84-4284-b50a-ed08ef3706fd",
   "metadata": {},
   "outputs": [],
   "source": [
    "sc.pp.highly_variable_genes(adata,n_top_genes=4004)\n",
    "adata.var['highly_variable']"
   ]
  },
  {
   "cell_type": "code",
   "execution_count": null,
   "id": "3f29a295-ba1c-4495-afe9-b31140b06c68",
   "metadata": {},
   "outputs": [],
   "source": [
    "sc_calls = adata.var_names[adata.var['highly_variable']]\n",
    "foreign_calls = adata.var_names[actual_mask]"
   ]
  },
  {
   "cell_type": "code",
   "execution_count": null,
   "id": "bca9e7d0-9108-4cac-948e-3be2466f712b",
   "metadata": {},
   "outputs": [],
   "source": [
    "np.sum(actual_mask.astype(dtype=int))"
   ]
  },
  {
   "cell_type": "code",
   "execution_count": null,
   "id": "bf16fc95-2280-43d4-b079-5af3b992cd8d",
   "metadata": {},
   "outputs": [],
   "source": [
    "len(set(sc_calls).intersection(set(foreign_calls)))"
   ]
  },
  {
   "cell_type": "markdown",
   "id": "1561b773-a2aa-46d7-b3a7-7eeb97e6ed62",
   "metadata": {},
   "source": [
    "# Vignette Analysis"
   ]
  },
  {
   "cell_type": "code",
   "execution_count": null,
   "id": "d57639ca-8aa6-43bb-a78b-eaa397c714d8",
   "metadata": {},
   "outputs": [],
   "source": [
    "sc.pp.neighbors(filtered)\n",
    "sc.tl.umap(filtered)\n",
    "sc.pl.umap(filtered)"
   ]
  },
  {
   "cell_type": "code",
   "execution_count": null,
   "id": "43824524-dc69-4eaf-83db-f899e66daaf5",
   "metadata": {},
   "outputs": [],
   "source": [
    "scv.pp.moments(filtered,n_neighbors=None,n_pcs=None)"
   ]
  },
  {
   "cell_type": "code",
   "execution_count": null,
   "id": "0af917bc-d165-4037-b144-204978099e1a",
   "metadata": {},
   "outputs": [],
   "source": [
    "scv.tl.velocity(filtered)\n",
    "scv.tl.velocity_graph(filtered)\n"
   ]
  },
  {
   "cell_type": "code",
   "execution_count": null,
   "id": "2d39a70a-e450-439a-8927-fec553eda017",
   "metadata": {},
   "outputs": [],
   "source": [
    "scv.pl.velocity_embedding(filtered,figsize=(30,30))"
   ]
  },
  {
   "cell_type": "markdown",
   "id": "89b83396-4487-4542-948b-57236c6e2a30",
   "metadata": {},
   "source": [
    "# Velocity Graph "
   ]
  },
  {
   "cell_type": "code",
   "execution_count": null,
   "id": "43f5e237-36d0-4e25-afae-825350843967",
   "metadata": {},
   "outputs": [],
   "source": [
    "def delta_graph(origin,delta,highlight=[0,1],arrow_frequency=30,figsize=(10,8)):\n",
    "\n",
    "    plt.figure(figsize=figsize)\n",
    "    plt.scatter(*origin.T,color='red',s=1)\n",
    "\n",
    "    for i,((x,y),(dx,dy)) in enumerate(zip(origin,delta)):\n",
    "        if i%arrow_frequency == 0:\n",
    "            plt.text(*origin[i],s=f\"{i}\")\n",
    "            plt.arrow(x,y,dx,dy,color='green',head_width=.1,linewidth=.2)\n",
    "\n",
    "    plt.show()"
   ]
  },
  {
   "cell_type": "code",
   "execution_count": null,
   "id": "dabf52c2-e800-4d40-b2b7-812bc1668b6d",
   "metadata": {},
   "outputs": [],
   "source": [
    "pca_t0 = filtered.obsm['X_pca']"
   ]
  },
  {
   "cell_type": "code",
   "execution_count": null,
   "id": "09c5b5b9-7130-455f-921c-f26e59a9f548",
   "metadata": {},
   "outputs": [],
   "source": [
    "# We want this rather than the velocity graph in itself\n",
    "tg = np.array(scv.utils.get_transition_matrix(filtered).todense())"
   ]
  },
  {
   "cell_type": "code",
   "execution_count": null,
   "id": "69c15f94-1c54-4d78-9ae9-ac40bcf23899",
   "metadata": {},
   "outputs": [],
   "source": [
    "def mean_velo(tg,data):\n",
    "    wsum = np.matmul(tg,data) \n",
    "    norm_const = np.sum(tg,axis=1)\n",
    "    wmean = (wsum.T / norm_const).T\n",
    "    velo = wmean - data\n",
    "    return velo\n",
    "    # length = np.sqrt(np.sum(np.power(velo,2),axis=1))\n",
    "    # unitized = (velo.T / length).T\n",
    "    # return unitized"
   ]
  },
  {
   "cell_type": "code",
   "execution_count": null,
   "id": "9339788f-cbb7-4f9f-bb64-7254eec0882d",
   "metadata": {},
   "outputs": [],
   "source": [
    "pca_v = mean_velo(tg,pca_t0)\n",
    "\n",
    "pca_t1 = pca_t0 + (pca_v / 5)\n",
    "\n",
    "np.savetxt(\"sc_velo_pca_t0.tsv\",pca_t0)\n",
    "np.savetxt(\"sc_velo_pca_t1.tsv\",pca_t1)"
   ]
  },
  {
   "cell_type": "markdown",
   "id": "23f3581e-a7e0-4de5-ab0a-5f2c1aa17fe8",
   "metadata": {},
   "source": [
    "### Primitive UMAP velocity"
   ]
  },
  {
   "cell_type": "code",
   "execution_count": null,
   "id": "1c476b46-9ad1-4241-97c5-d54596880c4d",
   "metadata": {},
   "outputs": [],
   "source": [
    "u_t0_primitive = filtered.obsm['X_umap']\n",
    "u_t_v_primitive = mean_velo(tg,u_t0_primitive)\n",
    "\n",
    "delta_graph(u_t0_primitive,u_t_v_primitive/5,arrow_frequency=5,figsize=(30,30))"
   ]
  },
  {
   "cell_type": "markdown",
   "id": "fd822b40-ee6c-4eb1-a3db-38be2a850f49",
   "metadata": {},
   "source": [
    "# Foreign UMAP Train Transform "
   ]
  },
  {
   "cell_type": "code",
   "execution_count": null,
   "id": "3d5f7df7-4ddd-4ec7-8433-6dfcd7648c6b",
   "metadata": {},
   "outputs": [],
   "source": [
    "import matplotlib.pyplot as plt "
   ]
  },
  {
   "cell_type": "code",
   "execution_count": null,
   "id": "60c7114c-074d-4e28-b78a-213bc687a8f6",
   "metadata": {},
   "outputs": [],
   "source": [
    "from umap import UMAP\n",
    "from sklearn.decomposition import PCA"
   ]
  },
  {
   "cell_type": "code",
   "execution_count": null,
   "id": "24002bc3-8e40-4c4a-a845-41251f52241a",
   "metadata": {},
   "outputs": [],
   "source": [
    "umap_model = UMAP(n_neighbors=15,min_dist=0.5, spread=1.0, n_components=2, negative_sample_rate=5, random_state=0,metric='cosine')\n",
    "u_t0_transform = umap_model.fit_transform(pca_t0)"
   ]
  },
  {
   "cell_type": "code",
   "execution_count": null,
   "id": "a39ab3f8-6aaa-4b16-8393-4458e299d44d",
   "metadata": {},
   "outputs": [],
   "source": [
    "u_t1_transform = umap_model.transform(pca_t1)"
   ]
  },
  {
   "cell_type": "code",
   "execution_count": null,
   "id": "9b7b2a8d-19ef-4e3a-9a15-963138672a0d",
   "metadata": {},
   "outputs": [],
   "source": [
    "u_t_v_transform = u_t1_transform - u_t0_transform"
   ]
  },
  {
   "cell_type": "code",
   "execution_count": null,
   "id": "8dc15c01-ecd6-412a-b641-81f31848e813",
   "metadata": {},
   "outputs": [],
   "source": [
    "plt.figure()\n",
    "plt.scatter(*u_t0_transform.T,s=1)\n",
    "plt.scatter(*u_t1_transform.T,s=1)\n",
    "plt.show()"
   ]
  },
  {
   "cell_type": "code",
   "execution_count": null,
   "id": "f99cf4eb-8d9a-4611-866a-6bb28cdf1bf1",
   "metadata": {},
   "outputs": [],
   "source": [
    "delta_graph(u_t0_transform,u_t_v_transform,arrow_frequency=3,figsize=(30,30))"
   ]
  },
  {
   "cell_type": "markdown",
   "id": "561b2655-be8b-4282-9a1f-4870fa223aeb",
   "metadata": {},
   "source": [
    "# Foreign UMAP Joint"
   ]
  },
  {
   "cell_type": "code",
   "execution_count": null,
   "id": "3d49307f-5d9a-40c5-b466-adc7ced470a7",
   "metadata": {},
   "outputs": [],
   "source": [
    "def umap_velocity_via_joint(t0,t1):\n",
    "    stacked = np.vstack([t0,t1])\n",
    "    \n",
    "    umap_model = UMAP(n_neighbors=15,min_dist=0.5, spread=1.0, n_components=2, negative_sample_rate=5, random_state=0,metric='cosine')\n",
    "    u_t_joint = umap_model.fit_transform(stacked)\n",
    "    \n",
    "    u_t0 = u_t_joint[:t0.shape[0]]\n",
    "    u_t1 = u_t_joint[t0.shape[0]:]\n",
    "    \n",
    "    u_t_v = u_t1 - u_t0\n",
    "    return u_t0,u_t1,u_t_v\n",
    "\n",
    "u_t0_joint,u_t1_joint,u_t_v_joint = umap_velocity_via_joint(pca_t0,pca_t1)\n",
    "\n",
    "# stacked = np.vstack([pca_t0,pca_t1])\n",
    "\n",
    "# umap_model = UMAP(n_neighbors=15,min_dist=0.5, spread=1.0, n_components=2, negative_sample_rate=5, random_state=0,metric='cosine')\n",
    "# u_t_joint = umap_model.fit_transform(stacked)\n",
    "\n",
    "# u_t0_joint = u_t_joint[:pca_t0.shape[0]]\n",
    "# u_t1_joint = u_t_joint[pca_t0.shape[0]:]\n",
    "\n",
    "# u_t_v_joint = u_t1_joint - u_t0_joint"
   ]
  },
  {
   "cell_type": "code",
   "execution_count": null,
   "id": "0422986e-2378-40d2-8685-3371ba82191c",
   "metadata": {},
   "outputs": [],
   "source": [
    "plt.figure()\n",
    "plt.scatter(*u_t0_joint.T,s=1)\n",
    "plt.scatter(*u_t1_joint.T,s=1)\n",
    "plt.show()"
   ]
  },
  {
   "cell_type": "code",
   "execution_count": null,
   "id": "1ffc1b46-dabf-464c-a7a5-de8f2729768b",
   "metadata": {},
   "outputs": [],
   "source": [
    "delta_graph(u_t0_joint,u_t_v_joint,arrow_frequency=3,figsize=(30,30))"
   ]
  },
  {
   "cell_type": "code",
   "execution_count": null,
   "id": "c9b2a301-1487-4ab9-b3c5-fd9a95e3cc5b",
   "metadata": {},
   "outputs": [],
   "source": []
  },
  {
   "cell_type": "code",
   "execution_count": null,
   "id": "ac32a351-bf6e-4e98-9b1e-983c5350c94a",
   "metadata": {},
   "outputs": [],
   "source": []
  },
  {
   "cell_type": "markdown",
   "id": "d0c56c1a-a692-4538-9afa-2ee39c534528",
   "metadata": {},
   "source": [
    "# Let's compare smoothness in several situations "
   ]
  },
  {
   "cell_type": "code",
   "execution_count": null,
   "id": "25f34ae5-2bba-4468-a9f4-549e0a7098e2",
   "metadata": {},
   "outputs": [],
   "source": [
    "from scipy.spatial.distance import pdist,squareform\n",
    "\n",
    "def local_velocity_smoothness(velocities,knn):\n",
    "    smoothness = []\n",
    "    for neighborhood in knn:\n",
    "        local_velocities = velocities[neighborhood]\n",
    "        local_smoothness = np.mean(pdist(local_velocities,metric='cosine'))\n",
    "        smoothness.append(local_smoothness)\n",
    "    return smoothness\n",
    "\n",
    "def extract_knn_from_adata(adata,k=None):\n",
    "\n",
    "    samples = adata.shape[0]\n",
    "    knn = []\n",
    "    \n",
    "    for i in range(samples):\n",
    "        conn = np.array(adata.obsp['connectivities'][i].todense()).flatten()\n",
    "        mask = conn > 0\n",
    "        sort = np.argsort(conn[mask])\n",
    "        indices = list(np.arange(samples)[mask][sort])\n",
    "        knn.append(indices)\n",
    "    \n",
    "    clean = np.min([len(ragged) for ragged in knn])\n",
    "    if k is None:\n",
    "        k = clean\n",
    "    else:\n",
    "        if k > clean:\n",
    "            print(f\"WARNING: k connectivities aren't available everywhere. Setting to minimum k={clean}\")\n",
    "            k = clean\n",
    "            \n",
    "    knn = [ragged[-k:] for ragged in knn]\n",
    "    return knn\n",
    "\n",
    "knn = extract_knn_from_adata(filtered,k=5)"
   ]
  },
  {
   "cell_type": "code",
   "execution_count": null,
   "id": "3ac8dd31-3e2a-4fa2-bd1c-99ea297efa19",
   "metadata": {},
   "outputs": [],
   "source": [
    "# velocity according to scvelo\n",
    "sc_velo_smoothness = local_velocity_smoothness(filtered.layers['velocity'],knn)\n",
    "# plt.figure()\n",
    "# plt.hist(sc_velo_smoothness,bins=30)\n",
    "# plt.show()\n",
    "\n",
    "plt.figure(figsize=(12,10))\n",
    "plt.scatter(*u_t0_primitive.T,c=sc_velo_smoothness)\n",
    "plt.colorbar()\n",
    "plt.show()"
   ]
  },
  {
   "cell_type": "code",
   "execution_count": null,
   "id": "f5067488-e8cc-4f54-8fbc-0055882bdfba",
   "metadata": {},
   "outputs": [],
   "source": [
    "# sc velo l2 velocity\n",
    "sc_velo_velo = np.linalg.norm(np.array(filtered.layers['velocity']),axis=1)\n",
    "\n",
    "plt.figure(figsize=(12,10))\n",
    "plt.scatter(*u_t0_primitive.T,c=sc_velo_velo)\n",
    "plt.colorbar()\n",
    "plt.show()\n"
   ]
  },
  {
   "cell_type": "code",
   "execution_count": null,
   "id": "7437534d-8940-40ec-96f0-1d9522f7687d",
   "metadata": {},
   "outputs": [],
   "source": [
    "# PCA velocity \n",
    "pca_velo_smoothness = local_velocity_smoothness(pca_v,knn)\n",
    "# plt.figure()\n",
    "# plt.hist(pca_velo_smoothness,bins=30)\n",
    "# plt.show()\n",
    "\n",
    "\n",
    "plt.figure(figsize=(12,10))\n",
    "plt.scatter(*u_t0_primitive.T,c=pca_velo_smoothness)\n",
    "plt.colorbar()\n",
    "plt.show()"
   ]
  },
  {
   "cell_type": "code",
   "execution_count": null,
   "id": "b48bbb68-b523-4d67-a1e6-25d12894e9b2",
   "metadata": {},
   "outputs": [],
   "source": [
    "# Umap velocity using umap directly with a graph "
   ]
  },
  {
   "cell_type": "code",
   "execution_count": null,
   "id": "f0f88732-5a1c-42b9-8a03-25a9372ae496",
   "metadata": {},
   "outputs": [],
   "source": [
    "u_t_primitive_smoothness = local_velocity_smoothness(u_t_v_primitive,knn)\n",
    "\n",
    "plt.figure(figsize=(12,10))\n",
    "plt.scatter(*u_t0_primitive.T,c=u_t_primitive_smoothness)\n",
    "plt.colorbar()\n",
    "plt.show()"
   ]
  },
  {
   "cell_type": "code",
   "execution_count": null,
   "id": "63432caf-0889-4506-9af7-9f9d7c579f15",
   "metadata": {},
   "outputs": [],
   "source": [
    "u_t_joint_smoothness = local_velocity_smoothness(u_t_v_joint,knn)\n",
    "\n",
    "plt.figure(figsize=(12,10))\n",
    "plt.scatter(*u_t0_primitive.T,c=u_t_joint_smoothness)\n",
    "plt.colorbar()\n",
    "plt.show()"
   ]
  },
  {
   "cell_type": "code",
   "execution_count": null,
   "id": "33c661ee-3039-4a47-b0fe-4b1afd86d979",
   "metadata": {},
   "outputs": [],
   "source": [
    "u_t_v_joint.shape"
   ]
  },
  {
   "cell_type": "markdown",
   "id": "e79ce956-5653-4d8f-a63c-e7e6770f433a",
   "metadata": {},
   "source": [
    "# Predicted Foreign Umap"
   ]
  },
  {
   "cell_type": "code",
   "execution_count": null,
   "id": "0430d019-07d7-400e-a629-95826840e806",
   "metadata": {},
   "outputs": [],
   "source": [
    "t_1 = np.loadtxt(\"./trajectories_t1.tsv\",dtype=float).T\n",
    "t_2 = np.loadtxt(\"./trajectories_t2.tsv\",dtype=float).T\n",
    "t_3 = np.loadtxt(\"./trajectories_t3.tsv\",dtype=float).T\n",
    "t_4 = np.loadtxt(\"./trajectories_t4.tsv\",dtype=float).T\n",
    "t_5 = np.loadtxt(\"./trajectories_t5.tsv\",dtype=float).T\n",
    "t_6 = np.loadtxt(\"./trajectories_t6.tsv\",dtype=float).T\n"
   ]
  },
  {
   "cell_type": "code",
   "execution_count": null,
   "id": "d0b6eea5-6752-4d4a-be60-7719dfb6ca73",
   "metadata": {},
   "outputs": [],
   "source": [
    "def arrow_deltas(t1,t2):\n",
    "    x,y = t1\n",
    "    dx,dy = t2 - t1\n",
    "    return (x,y,dx,dy)\n",
    "\n",
    "def trajectory_series(trajectories,frequency=5):\n",
    "    plt.figure(figsize=(30,30))\n",
    "    plt.scatter(*trajectories[0].T,s=3)\n",
    "    for t1,t2 in zip(trajectories[:-1],trajectories[1:]):\n",
    "        for i in range(0,t1.shape[0],frequency): \n",
    "            plt.arrow(*arrow_deltas(t1[i],t2[i]),color='green',head_width=.05,linewidth=.2)\n",
    "    plt.show()    \n",
    "\n",
    "trajectory_series([u_t + 5,t_1,t_2,t_3,t_4,t_5,t_6])\n",
    "    \n",
    "# plt.figure(figsize=(30,30))\n",
    "# plt.scatter(*u_t.T + 5,s=1)\n",
    "# for i in range(0,trajectories_1.shape[0],30): \n",
    "#     plt.arrow(*arrow_deltas(u_t[i] + 5,trajectories_1[i]),color='red',head_width=.1,linewidth=.2)\n",
    "#     plt.arrow(*arrow_deltas(trajectories_1[i],trajectories_2[i]),color='green',head_width=.1,linewidth=.2)\n",
    "#     plt.arrow(*arrow_deltas(trajectories_2[i],trajectories_3[i]),color='blue',head_width=.1,linewidth=.2)\n",
    "# plt.show()"
   ]
  },
  {
   "cell_type": "code",
   "execution_count": null,
   "id": "f3071496-824e-42f4-a7e9-7502fa8291c2",
   "metadata": {},
   "outputs": [],
   "source": [
    "np.max(t_5,axis=0)"
   ]
  },
  {
   "cell_type": "code",
   "execution_count": null,
   "id": "8063b4ba-2717-4274-a6e7-46d7e0bf4626",
   "metadata": {},
   "outputs": [],
   "source": [
    "# torubleshooting offsets\n",
    "\n",
    "# some trajectory starts at ~ 4,10.5\n",
    "# First let's index it, it should be easy to find \n",
    "\n",
    "t1\n"
   ]
  },
  {
   "cell_type": "markdown",
   "id": "88703ea1-cc10-46ff-afff-2a6f9eeed714",
   "metadata": {},
   "source": [
    "# Joint Embedding?"
   ]
  },
  {
   "cell_type": "code",
   "execution_count": null,
   "id": "77d7cd50-31cd-45fa-b58c-68b9ac1a256a",
   "metadata": {},
   "outputs": [],
   "source": [
    "t1 = np.array(filtered.X.copy().todense())\n",
    "\n",
    "# # Is this in log space?\n",
    "v = np.array(filtered.layers['velocity'])\n",
    "v = np.log1p(np.abs(v)) * np.sign(v)\n",
    "\n",
    "t2 = t1+(v/5)\n",
    "\n",
    "# clip negatives\n",
    "\n",
    "t2[t2 < 0] = 0"
   ]
  },
  {
   "cell_type": "code",
   "execution_count": null,
   "id": "b7cfcf49-182d-418f-8cdd-a03d61219fe6",
   "metadata": {},
   "outputs": [],
   "source": [
    "from umap import UMAP\n",
    "from sklearn.decomposition import PCA\n",
    "\n",
    "def arrow_deltas(time1,time2,damping=1):\n",
    "    x,y = time1\n",
    "    dx,dy = time2 - time1\n",
    "    return (x,y,dx*damping,dy*damping)\n",
    "    \n",
    "def simple_sequence(time1,time2,highlight=[0,1],arrow_frequency=30):\n",
    "    pca_model = PCA(n_components=50)\n",
    "    pca_t1 = pca_model.fit_transform(time1)\n",
    "    pca_t2 = pca_model.transform(time2)\n",
    "    \n",
    "    umap_model = UMAP(n_neighbors=15,min_dist=0.5, spread=1.0, n_components=2, negative_sample_rate=5, random_state=0,metric='cosine')\n",
    "    u_t1 = umap_model.fit_transform(pca_t1)\n",
    "    u_t2 = umap_model.transform(pca_t2)\n",
    "\n",
    "    plt.figure(figsize=(10,8))\n",
    "    plt.scatter(*u_t1.T,color='red',s=1)\n",
    "    # plt.show()\n",
    "    # plt.figure(figsize=(10,8))\n",
    "    plt.scatter(*u_t2.T,color='blue',s=1)\n",
    "    plt.show()\n",
    "\n",
    "    # plt.figure(figsize=(10,8))\n",
    "    # plt.scatter(*u_t1.T,s=1)\n",
    "    # for i in highlight:\n",
    "    #     plt.text(*u_t1[i],s=f\"{i}\")\n",
    "    #     plt.text(*u_t2[i],s=f\"{i}'\")\n",
    "    #     plt.arrow(*arrow_deltas(u_t1[i],u_t2[i]),color='red',head_width=.1,linewidth=.2)\n",
    "    # for i in range(0,u_t1.shape[0],arrow_frequency): \n",
    "    #     plt.arrow(*arrow_deltas(u_t1[i],u_t2[i]),color='green',head_width=.1,linewidth=.2)\n",
    "    # plt.show()\n",
    "\n",
    "    return u_t1\n",
    "    \n",
    "    # plt.figure(figsize=(10,8))\n",
    "    # plt.scatter(*pca_t1[:,:2].T,s=1)\n",
    "    # for i in highlight:\n",
    "    #     plt.text(*pca_t1[i,:2],s=f\"{i}\")\n",
    "    # for i in range(0,pca_t1[:,:2].shape[0],arrow_frequency): \n",
    "    #     plt.arrow(*arrow_deltas(pca_t1[i,:2],pca_t2[i,:2],damping=1),color='green',head_width=.1,linewidth=.2)\n",
    "    # plt.show()"
   ]
  }
 ],
 "metadata": {
  "kernelspec": {
   "display_name": "Python 3 (ipykernel)",
   "language": "python",
   "name": "python3"
  },
  "language_info": {
   "codemirror_mode": {
    "name": "ipython",
    "version": 3
   },
   "file_extension": ".py",
   "mimetype": "text/x-python",
   "name": "python",
   "nbconvert_exporter": "python",
   "pygments_lexer": "ipython3",
   "version": "3.11.9"
  }
 },
 "nbformat": 4,
 "nbformat_minor": 5
}
