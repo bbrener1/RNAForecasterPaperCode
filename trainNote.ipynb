{
 "cells": [
  {
   "cell_type": "code",
   "execution_count": null,
   "id": "3dcf722c-5b9d-4ff9-b34e-13a3abb68708",
   "metadata": {},
   "outputs": [],
   "source": [
    "using Pkg\n",
    "Pkg.activate(\"./\")"
   ]
  },
  {
   "cell_type": "code",
   "execution_count": 2,
   "id": "2b243503-43f0-4f94-885f-4711d829ba3a",
   "metadata": {},
   "outputs": [],
   "source": [
    "using DiffEqFlux, DifferentialEquations\n",
    "using Flux"
   ]
  },
  {
   "cell_type": "code",
   "execution_count": null,
   "id": "852fb03a-b197-4153-8d6c-afb7128212e0",
   "metadata": {},
   "outputs": [],
   "source": []
  },
  {
   "cell_type": "code",
   "execution_count": null,
   "id": "6218ad5b-1203-45ec-b64b-3037d0020d3a",
   "metadata": {},
   "outputs": [],
   "source": []
  },
  {
   "cell_type": "code",
   "execution_count": null,
   "id": "b7ff8c8a-1301-4eea-9836-b80981095661",
   "metadata": {},
   "outputs": [],
   "source": []
  },
  {
   "cell_type": "code",
   "execution_count": null,
   "id": "e1b81314-26b4-450a-b63d-a5f04f6c0780",
   "metadata": {},
   "outputs": [],
   "source": []
  },
  {
   "cell_type": "code",
   "execution_count": null,
   "id": "bb1f4e19-06eb-4eca-b11c-3fb2d8c296ad",
   "metadata": {},
   "outputs": [],
   "source": []
  },
  {
   "cell_type": "code",
   "execution_count": null,
   "id": "f6319df1-6c00-4139-a629-ab80917b8e82",
   "metadata": {},
   "outputs": [],
   "source": []
  },
  {
   "cell_type": "code",
   "execution_count": null,
   "id": "8289f158-4a81-41fa-b82e-78004b94f0bb",
   "metadata": {},
   "outputs": [],
   "source": []
  }
 ],
 "metadata": {
  "kernelspec": {
   "display_name": "Julia 1.10.3",
   "language": "julia",
   "name": "julia-1.10"
  },
  "language_info": {
   "file_extension": ".jl",
   "mimetype": "application/julia",
   "name": "julia",
   "version": "1.10.3"
  }
 },
 "nbformat": 4,
 "nbformat_minor": 5
}
