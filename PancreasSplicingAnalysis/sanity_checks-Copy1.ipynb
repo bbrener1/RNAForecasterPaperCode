{
 "cells": [
  {
   "cell_type": "code",
   "execution_count": null,
   "id": "24bbf408-b9c6-4cf4-9035-b029cc34a0fa",
   "metadata": {},
   "outputs": [],
   "source": [
    "import scvelo as scv\n",
    "import numpy as np\n",
    "import pandas as pd\n",
    "\n",
    "import scanpy as sc\n",
    "import matplotlib.pyplot as plt "
   ]
  },
  {
   "cell_type": "code",
   "execution_count": null,
   "id": "bbe176c5-f47e-47e5-8d7f-3261f482a328",
   "metadata": {},
   "outputs": [],
   "source": [
    "adata = scv.datasets.pancreas()\n"
   ]
  },
  {
   "cell_type": "code",
   "execution_count": null,
   "id": "ea06a1ea-4e5b-43e3-abc9-958a14193cc9",
   "metadata": {},
   "outputs": [],
   "source": [
    "sc.pp.normalize_per_cell(adata)\n",
    "sc.pp.log1p(adata)\n"
   ]
  },
  {
   "cell_type": "markdown",
   "id": "938add88-79ef-42d3-82d7-065b58d7c100",
   "metadata": {},
   "source": [
    "# Builtin HVG"
   ]
  },
  {
   "cell_type": "code",
   "execution_count": null,
   "id": "268eb5cb-c13a-4782-b28d-a630d6865fbc",
   "metadata": {},
   "outputs": [],
   "source": [
    "# adata.var['highly_variable_genes']"
   ]
  },
  {
   "cell_type": "code",
   "execution_count": null,
   "id": "3eb2a61b-1f79-4fca-9441-7d1cc8715ed6",
   "metadata": {},
   "outputs": [],
   "source": [
    "# actual_mask = adata.var['highly_variable_genes'] == \"True\""
   ]
  },
  {
   "cell_type": "code",
   "execution_count": null,
   "id": "022f3a7e-82b4-45f2-ad9b-a9bed7367e53",
   "metadata": {},
   "outputs": [],
   "source": [
    "# filtered = adata[:,actual_mask]"
   ]
  },
  {
   "cell_type": "code",
   "execution_count": null,
   "id": "83bbccf9-5246-4fbf-b873-01870524bdea",
   "metadata": {},
   "outputs": [],
   "source": [
    "# WHY IS VARIABILITY A MIXTURE OF BOOL STRINGS AND NANS? JFC\n",
    "# filtered"
   ]
  },
  {
   "cell_type": "markdown",
   "id": "e6e93c56-f19c-4d6f-a299-b2934f1a3cb3",
   "metadata": {},
   "source": [
    "# Foreign HVG"
   ]
  },
  {
   "cell_type": "code",
   "execution_count": null,
   "id": "75b07686-d896-4503-b0db-55fc25b3994c",
   "metadata": {},
   "outputs": [],
   "source": [
    "hvg = np.loadtxt(\"./ZPSGenes.tsv\",dtype=str)\n",
    "hvg.shape"
   ]
  },
  {
   "cell_type": "code",
   "execution_count": null,
   "id": "fa6db424-c0a5-4201-aa56-ccdbbce9d70a",
   "metadata": {},
   "outputs": [],
   "source": [
    "filtered = adata[:,hvg]"
   ]
  },
  {
   "cell_type": "markdown",
   "id": "33025da6-08c3-4774-a709-08d55b181cf3",
   "metadata": {
    "jp-MarkdownHeadingCollapsed": true
   },
   "source": [
    "### Let's just double check real quick if there was even minimal sanity when doing the hv selection"
   ]
  },
  {
   "cell_type": "code",
   "execution_count": null,
   "id": "158b2ea0-0b84-4284-b50a-ed08ef3706fd",
   "metadata": {},
   "outputs": [],
   "source": [
    "sc.pp.highly_variable_genes(adata,n_top_genes=4004)\n",
    "adata.var['highly_variable']"
   ]
  },
  {
   "cell_type": "code",
   "execution_count": null,
   "id": "3f29a295-ba1c-4495-afe9-b31140b06c68",
   "metadata": {},
   "outputs": [],
   "source": [
    "sc_calls = adata.var_names[adata.var['highly_variable']]\n",
    "foreign_calls = adata.var_names[actual_mask]"
   ]
  },
  {
   "cell_type": "code",
   "execution_count": null,
   "id": "bca9e7d0-9108-4cac-948e-3be2466f712b",
   "metadata": {},
   "outputs": [],
   "source": [
    "np.sum(actual_mask.astype(dtype=int))"
   ]
  },
  {
   "cell_type": "code",
   "execution_count": null,
   "id": "bf16fc95-2280-43d4-b079-5af3b992cd8d",
   "metadata": {},
   "outputs": [],
   "source": [
    "len(set(sc_calls).intersection(set(foreign_calls)))"
   ]
  },
  {
   "cell_type": "markdown",
   "id": "1561b773-a2aa-46d7-b3a7-7eeb97e6ed62",
   "metadata": {},
   "source": [
    "# Vignette Analysis"
   ]
  },
  {
   "cell_type": "code",
   "execution_count": null,
   "id": "d57639ca-8aa6-43bb-a78b-eaa397c714d8",
   "metadata": {},
   "outputs": [],
   "source": [
    "sc.pp.neighbors(filtered)\n",
    "sc.tl.umap(filtered)\n",
    "sc.pl.umap(filtered)"
   ]
  },
  {
   "cell_type": "code",
   "execution_count": null,
   "id": "b6d2ddf2-557d-4eb5-ae78-8c41f04ed055",
   "metadata": {},
   "outputs": [],
   "source": [
    "# filtered.obsm['X_umap'] = u_t1"
   ]
  },
  {
   "cell_type": "code",
   "execution_count": null,
   "id": "43824524-dc69-4eaf-83db-f899e66daaf5",
   "metadata": {},
   "outputs": [],
   "source": [
    "scv.pp.moments(filtered,n_neighbors=None,n_pcs=None)"
   ]
  },
  {
   "cell_type": "code",
   "execution_count": null,
   "id": "0af917bc-d165-4037-b144-204978099e1a",
   "metadata": {},
   "outputs": [],
   "source": [
    "scv.tl.velocity(filtered)\n",
    "scv.tl.velocity_graph(filtered)\n"
   ]
  },
  {
   "cell_type": "code",
   "execution_count": null,
   "id": "92dead2c-e5e2-481a-9be7-36044a665a7b",
   "metadata": {
    "scrolled": true
   },
   "outputs": [],
   "source": [
    "# scv.pl.velocity_embedding(filtered,basis='umap',figsize=((30,30)))"
   ]
  },
  {
   "cell_type": "code",
   "execution_count": null,
   "id": "d4662bfd-522d-4e34-a070-9b1f00d49cc3",
   "metadata": {},
   "outputs": [],
   "source": [
    "# scv.pl.velocity_embedding_stream(filtered, density=5, basis='umap')"
   ]
  },
  {
   "cell_type": "code",
   "execution_count": null,
   "id": "2aa334aa-cd13-4e01-8623-947ad78b0689",
   "metadata": {},
   "outputs": [],
   "source": [
    "# sc.pl.umap(filtered,color=\"S_score\")\n",
    "# sc.pl.umap(filtered,color=\"G2M_score\")"
   ]
  },
  {
   "cell_type": "code",
   "execution_count": null,
   "id": "08d54f54-be0a-476e-b8a6-948c56fbdc5f",
   "metadata": {},
   "outputs": [],
   "source": [
    "# scv.pl.proportions(filtered)"
   ]
  },
  {
   "cell_type": "markdown",
   "id": "89b83396-4487-4542-948b-57236c6e2a30",
   "metadata": {},
   "source": [
    "# Velocity Graph "
   ]
  },
  {
   "cell_type": "code",
   "execution_count": null,
   "id": "dabf52c2-e800-4d40-b2b7-812bc1668b6d",
   "metadata": {},
   "outputs": [],
   "source": [
    "u_t = filtered.obsm['X_umap']"
   ]
  },
  {
   "cell_type": "code",
   "execution_count": null,
   "id": "09c5b5b9-7130-455f-921c-f26e59a9f548",
   "metadata": {},
   "outputs": [],
   "source": [
    "# We want this rather than the velocity graph in itself\n",
    "tg = np.array(scv.utils.get_transition_matrix(filtered).todense())"
   ]
  },
  {
   "cell_type": "code",
   "execution_count": null,
   "id": "69c15f94-1c54-4d78-9ae9-ac40bcf23899",
   "metadata": {},
   "outputs": [],
   "source": [
    "def mean_velo(tg,data):\n",
    "    wsum = np.matmul(tg,data) \n",
    "    norm_const = np.sum(tg,axis=1)\n",
    "    wmean = (wsum.T / norm_const).T\n",
    "    velo = wmean - data\n",
    "    return velo\n",
    "    # length = np.sqrt(np.sum(np.power(velo,2),axis=1))\n",
    "    # unitized = (velo.T / length).T\n",
    "    # return unitized"
   ]
  },
  {
   "cell_type": "code",
   "execution_count": null,
   "id": "9339788f-cbb7-4f9f-bb64-7254eec0882d",
   "metadata": {},
   "outputs": [],
   "source": [
    "u_t_v = mean_velo(tg,u_t)"
   ]
  },
  {
   "cell_type": "code",
   "execution_count": null,
   "id": "c9b2a301-1487-4ab9-b3c5-fd9a95e3cc5b",
   "metadata": {},
   "outputs": [],
   "source": [
    "def delta_graph(origin,delta,highlight=[0,1],arrow_frequency=30,figsize=(10,8)):\n",
    "\n",
    "    plt.figure(figsize=figsize)\n",
    "    plt.scatter(*origin.T,color='red',s=1)\n",
    "\n",
    "    for i,((x,y),(dx,dy)) in enumerate(zip(origin,delta)):\n",
    "        if i%arrow_frequency == 0:\n",
    "            plt.text(*origin[i],s=f\"{i}\")\n",
    "            plt.arrow(x,y,dx,dy,color='green',head_width=.1,linewidth=.2)\n",
    "\n",
    "    plt.show()"
   ]
  },
  {
   "cell_type": "code",
   "execution_count": null,
   "id": "ac32a351-bf6e-4e98-9b1e-983c5350c94a",
   "metadata": {},
   "outputs": [],
   "source": [
    "delta_graph(u_t,u_t_v/5,arrow_frequency=3,highlight=[3660,],figsize=(30,30))"
   ]
  },
  {
   "cell_type": "code",
   "execution_count": null,
   "id": "1aefc1cb-6386-453f-a612-0dfe7573fd4d",
   "metadata": {
    "scrolled": true
   },
   "outputs": [],
   "source": [
    "# Hallelujah, using the get_transition_matrix, we're not looking too bad. Can probably use this as an input to NODE using an arbitrary \n",
    "# embedding, and generate paired data with it without throwing up in my mouth too much \n"
   ]
  },
  {
   "cell_type": "code",
   "execution_count": null,
   "id": "580e89c8-98aa-424c-bc5d-6440ec993bb1",
   "metadata": {},
   "outputs": [],
   "source": [
    "t0 = u_t + 5\n",
    "t1 = u_t + 5 + (u_t_v/5)\n",
    "np.savetxt(\"sc_velo_t0_emb.tsv\",t0)\n",
    "np.savetxt(\"sc_velo_t1_pred_emb.tsv\",t1)"
   ]
  },
  {
   "cell_type": "code",
   "execution_count": null,
   "id": "f6dc435c-24e5-4c0a-a17d-96c690a4a94b",
   "metadata": {},
   "outputs": [],
   "source": [
    "# print(t0[3609])\n",
    "# print(t1[3609])"
   ]
  },
  {
   "cell_type": "markdown",
   "id": "fd822b40-ee6c-4eb1-a3db-38be2a850f49",
   "metadata": {},
   "source": [
    "# Foreign UMAP"
   ]
  },
  {
   "cell_type": "code",
   "execution_count": null,
   "id": "3d5f7df7-4ddd-4ec7-8433-6dfcd7648c6b",
   "metadata": {},
   "outputs": [],
   "source": [
    "import matplotlib.pyplot as plt "
   ]
  },
  {
   "cell_type": "code",
   "execution_count": null,
   "id": "60c7114c-074d-4e28-b78a-213bc687a8f6",
   "metadata": {},
   "outputs": [],
   "source": [
    "from umap import UMAP\n",
    "from sklearn.decomposition import PCA"
   ]
  },
  {
   "cell_type": "code",
   "execution_count": null,
   "id": "24002bc3-8e40-4c4a-a845-41251f52241a",
   "metadata": {},
   "outputs": [],
   "source": [
    "pca_model = PCA(n_components=50)\n",
    "pca = pca_model.fit_transform(np.array(filtered.X.todense()))\n",
    "\n",
    "umap_model = UMAP(n_neighbors=15,min_dist=0.5, spread=1.0, n_components=2, negative_sample_rate=5, random_state=0,metric='cosine')\n",
    "u_t = umap_model.fit_transform(pca)"
   ]
  },
  {
   "cell_type": "code",
   "execution_count": null,
   "id": "8dc15c01-ecd6-412a-b641-81f31848e813",
   "metadata": {},
   "outputs": [],
   "source": [
    "plt.figure()\n",
    "plt.scatter(*u_t.T,s=1)\n",
    "# for i in range(0,3600,100):\n",
    "#     plt.text(*u_t[i],f\"{i}\",)\n",
    "plt.show()"
   ]
  },
  {
   "cell_type": "code",
   "execution_count": null,
   "id": "f99cf4eb-8d9a-4611-866a-6bb28cdf1bf1",
   "metadata": {},
   "outputs": [],
   "source": [
    "plt.figure()\n",
    "plt.scatter(*filtered.obsm['X_umap'].T,s=1)\n",
    "# for i in range(1,3601,100):\n",
    "#     plt.text(*filtered.obsm['X_umap'][i],f\"{i}\")\n",
    "plt.show()"
   ]
  },
  {
   "cell_type": "code",
   "execution_count": null,
   "id": "9ed8d8a7-3713-40f9-9b65-19a684bebca6",
   "metadata": {},
   "outputs": [],
   "source": [
    "trajectories_1 = np.loadtxt(\"./trajectories_t1.tsv\",dtype=float).T\n",
    "trajectories_2 = np.loadtxt(\"./trajectories_t2.tsv\",dtype=float).T\n",
    "trajectories_3 = np.loadtxt(\"./trajectories_t3.tsv\",dtype=float).T\n"
   ]
  },
  {
   "cell_type": "code",
   "execution_count": null,
   "id": "1ad17a5e-4004-4f73-907b-1d8357c35041",
   "metadata": {},
   "outputs": [],
   "source": [
    "pca_transformed_trajectories_1 = pca_model.transform(trajectories_1)\n",
    "pca_transformed_trajectories_2 = pca_model.transform(trajectories_2)\n",
    "pca_transformed_trajectories_3 = pca_model.transform(trajectories_3)\n",
    "\n",
    "\n",
    "embedded_1 = umap_model.transform(pca_transformed_trajectories_1)\n",
    "embedded_2 = umap_model.transform(pca_transformed_trajectories_2)\n",
    "embedded_3 = umap_model.transform(pca_transformed_trajectories_3)\n"
   ]
  },
  {
   "cell_type": "code",
   "execution_count": null,
   "id": "99e9f545-46eb-47ce-b243-61e53586aa37",
   "metadata": {},
   "outputs": [],
   "source": [
    "\n",
    "plt.figure(figsize=(10,8))\n",
    "plt.scatter(*u_t.T,s=1)\n",
    "for i in range(0,embedded_1.shape[0],30): \n",
    "    plt.arrow(*arrow_deltas(u_t[i],embedded_1[i]),color='green',head_width=.1,linewidth=.2)\n",
    "    plt.arrow(*arrow_deltas(embedded_1[i],embedded_2[i]),color='red',head_width=.1,linewidth=.2)\n",
    "    # plt.plot([u_t[i,0],embedded[i,0]],[u_t[i,1],embedded[i,1]],color='red')\n",
    "plt.show()"
   ]
  },
  {
   "cell_type": "code",
   "execution_count": null,
   "id": "de9d95b8-6a9c-4c71-a2a9-3086f5067247",
   "metadata": {},
   "outputs": [],
   "source": [
    "# trajectories = np.loadtxt(\"./trajectories_1700.tsv\",dtype=float).T\n",
    "# trajectories.shape"
   ]
  },
  {
   "cell_type": "code",
   "execution_count": null,
   "id": "c3b668ce-2b7e-493e-969e-04416bf330f4",
   "metadata": {},
   "outputs": [],
   "source": [
    "simple_sequence(t1,trajectories,highlight=[],arrow_frequency=10)"
   ]
  },
  {
   "cell_type": "code",
   "execution_count": null,
   "id": "6232ee0b-a390-4521-9a12-5a434a7dcbe1",
   "metadata": {},
   "outputs": [],
   "source": [
    "pca_transformed_trajectories = pca_model.transform(trajectories)\n",
    "pca_transformed_trajectories.shape"
   ]
  },
  {
   "cell_type": "code",
   "execution_count": null,
   "id": "059d5e8c-1686-476c-b8b7-a5162cee8b22",
   "metadata": {},
   "outputs": [],
   "source": [
    "embedded = umap_model.transform(pca_transformed_trajectories)\n",
    "embedded.shape"
   ]
  },
  {
   "cell_type": "code",
   "execution_count": null,
   "id": "c081bd4e-e893-4a32-b5e2-2185dea509ba",
   "metadata": {},
   "outputs": [],
   "source": [
    "plt.figure(figsize=(10,8))\n",
    "plt.scatter(*u_t.T,s=1)\n",
    "for i in range(0,embedded.shape[0],10):\n",
    "    x,y = u_t[i]\n",
    "    dx,dy = (u_t[i] - embedded[i]) / 2\n",
    "    plt.arrow(x,y,dx,dy,color='red',head_width=.1,linewidth=.2)\n",
    "    # plt.plot([u_t[i,0],embedded[i,0]],[u_t[i,1],embedded[i,1]],color='red')\n",
    "plt.show()"
   ]
  },
  {
   "cell_type": "code",
   "execution_count": null,
   "id": "6bb04a96-4d92-4769-8aa1-ce5278f8d97d",
   "metadata": {},
   "outputs": [],
   "source": [
    "# plt.figure()\n",
    "# plt.scatter(*u_t.T,s=1)\n",
    "# plt.plot(*embedded[:50].T,color='red')\n",
    "# plt.show()"
   ]
  },
  {
   "cell_type": "code",
   "execution_count": null,
   "id": "528d674e-676d-4ae9-91f3-eb59d88d4c9e",
   "metadata": {},
   "outputs": [],
   "source": [
    "trajectories = trajectories.reshape((1352,2,50))"
   ]
  },
  {
   "cell_type": "code",
   "execution_count": null,
   "id": "58d2cc2c-a7a9-4ed3-b2ed-c0c1f4044390",
   "metadata": {},
   "outputs": [],
   "source": [
    "trajectories"
   ]
  },
  {
   "cell_type": "markdown",
   "id": "e79ce956-5653-4d8f-a63c-e7e6770f433a",
   "metadata": {},
   "source": [
    "# Predicted Foreign Umap"
   ]
  },
  {
   "cell_type": "code",
   "execution_count": null,
   "id": "0430d019-07d7-400e-a629-95826840e806",
   "metadata": {},
   "outputs": [],
   "source": [
    "t_1 = np.loadtxt(\"./trajectories_t1.tsv\",dtype=float).T\n",
    "t_2 = np.loadtxt(\"./trajectories_t2.tsv\",dtype=float).T\n",
    "t_3 = np.loadtxt(\"./trajectories_t3.tsv\",dtype=float).T\n",
    "t_4 = np.loadtxt(\"./trajectories_t4.tsv\",dtype=float).T\n",
    "t_5 = np.loadtxt(\"./trajectories_t5.tsv\",dtype=float).T\n",
    "t_6 = np.loadtxt(\"./trajectories_t6.tsv\",dtype=float).T\n"
   ]
  },
  {
   "cell_type": "code",
   "execution_count": null,
   "id": "d0b6eea5-6752-4d4a-be60-7719dfb6ca73",
   "metadata": {},
   "outputs": [],
   "source": [
    "def arrow_deltas(t1,t2):\n",
    "    x,y = t1\n",
    "    dx,dy = t2 - t1\n",
    "    return (x,y,dx,dy)\n",
    "\n",
    "def trajectory_series(trajectories,frequency=5):\n",
    "    plt.figure(figsize=(30,30))\n",
    "    plt.scatter(*trajectories[0].T,s=3)\n",
    "    for t1,t2 in zip(trajectories[:-1],trajectories[1:]):\n",
    "        for i in range(0,t1.shape[0],frequency): \n",
    "            plt.arrow(*arrow_deltas(t1[i],t2[i]),color='green',head_width=.05,linewidth=.2)\n",
    "    plt.show()    \n",
    "\n",
    "trajectory_series([u_t + 5,t_1,t_2,t_3,t_4,t_5,t_6])\n",
    "    \n",
    "# plt.figure(figsize=(30,30))\n",
    "# plt.scatter(*u_t.T + 5,s=1)\n",
    "# for i in range(0,trajectories_1.shape[0],30): \n",
    "#     plt.arrow(*arrow_deltas(u_t[i] + 5,trajectories_1[i]),color='red',head_width=.1,linewidth=.2)\n",
    "#     plt.arrow(*arrow_deltas(trajectories_1[i],trajectories_2[i]),color='green',head_width=.1,linewidth=.2)\n",
    "#     plt.arrow(*arrow_deltas(trajectories_2[i],trajectories_3[i]),color='blue',head_width=.1,linewidth=.2)\n",
    "# plt.show()"
   ]
  },
  {
   "cell_type": "code",
   "execution_count": null,
   "id": "f3071496-824e-42f4-a7e9-7502fa8291c2",
   "metadata": {},
   "outputs": [],
   "source": [
    "np.max(t_5,axis=0)"
   ]
  },
  {
   "cell_type": "code",
   "execution_count": null,
   "id": "8063b4ba-2717-4274-a6e7-46d7e0bf4626",
   "metadata": {},
   "outputs": [],
   "source": [
    "# torubleshooting offsets\n",
    "\n",
    "# some trajectory starts at ~ 4,10.5\n",
    "# First let's index it, it should be easy to find \n",
    "\n",
    "t1\n"
   ]
  },
  {
   "cell_type": "markdown",
   "id": "88703ea1-cc10-46ff-afff-2a6f9eeed714",
   "metadata": {},
   "source": [
    "# Joint Embedding?"
   ]
  },
  {
   "cell_type": "code",
   "execution_count": null,
   "id": "77d7cd50-31cd-45fa-b58c-68b9ac1a256a",
   "metadata": {},
   "outputs": [],
   "source": [
    "t1 = np.array(filtered.X.copy().todense())\n",
    "\n",
    "# # Is this in log space?\n",
    "v = np.array(filtered.layers['velocity'])\n",
    "v = np.log1p(np.abs(v)) * np.sign(v)\n",
    "\n",
    "t2 = t1+(v/5)\n",
    "\n",
    "# clip negatives\n",
    "\n",
    "t2[t2 < 0] = 0"
   ]
  },
  {
   "cell_type": "code",
   "execution_count": null,
   "id": "b7cfcf49-182d-418f-8cdd-a03d61219fe6",
   "metadata": {},
   "outputs": [],
   "source": [
    "from umap import UMAP\n",
    "from sklearn.decomposition import PCA\n",
    "\n",
    "def arrow_deltas(time1,time2,damping=1):\n",
    "    x,y = time1\n",
    "    dx,dy = time2 - time1\n",
    "    return (x,y,dx*damping,dy*damping)\n",
    "    \n",
    "def simple_sequence(time1,time2,highlight=[0,1],arrow_frequency=30):\n",
    "    pca_model = PCA(n_components=50)\n",
    "    pca_t1 = pca_model.fit_transform(time1)\n",
    "    pca_t2 = pca_model.transform(time2)\n",
    "    \n",
    "    umap_model = UMAP(n_neighbors=15,min_dist=0.5, spread=1.0, n_components=2, negative_sample_rate=5, random_state=0,metric='cosine')\n",
    "    u_t1 = umap_model.fit_transform(pca_t1)\n",
    "    u_t2 = umap_model.transform(pca_t2)\n",
    "\n",
    "    plt.figure(figsize=(10,8))\n",
    "    plt.scatter(*u_t1.T,color='red',s=1)\n",
    "    # plt.show()\n",
    "    # plt.figure(figsize=(10,8))\n",
    "    plt.scatter(*u_t2.T,color='blue',s=1)\n",
    "    plt.show()\n",
    "\n",
    "    # plt.figure(figsize=(10,8))\n",
    "    # plt.scatter(*u_t1.T,s=1)\n",
    "    # for i in highlight:\n",
    "    #     plt.text(*u_t1[i],s=f\"{i}\")\n",
    "    #     plt.text(*u_t2[i],s=f\"{i}'\")\n",
    "    #     plt.arrow(*arrow_deltas(u_t1[i],u_t2[i]),color='red',head_width=.1,linewidth=.2)\n",
    "    # for i in range(0,u_t1.shape[0],arrow_frequency): \n",
    "    #     plt.arrow(*arrow_deltas(u_t1[i],u_t2[i]),color='green',head_width=.1,linewidth=.2)\n",
    "    # plt.show()\n",
    "\n",
    "    return u_t1\n",
    "    \n",
    "    # plt.figure(figsize=(10,8))\n",
    "    # plt.scatter(*pca_t1[:,:2].T,s=1)\n",
    "    # for i in highlight:\n",
    "    #     plt.text(*pca_t1[i,:2],s=f\"{i}\")\n",
    "    # for i in range(0,pca_t1[:,:2].shape[0],arrow_frequency): \n",
    "    #     plt.arrow(*arrow_deltas(pca_t1[i,:2],pca_t2[i,:2],damping=1),color='green',head_width=.1,linewidth=.2)\n",
    "    # plt.show()"
   ]
  }
 ],
 "metadata": {
  "kernelspec": {
   "display_name": "Python 3 (ipykernel)",
   "language": "python",
   "name": "python3"
  },
  "language_info": {
   "codemirror_mode": {
    "name": "ipython",
    "version": 3
   },
   "file_extension": ".py",
   "mimetype": "text/x-python",
   "name": "python",
   "nbconvert_exporter": "python",
   "pygments_lexer": "ipython3",
   "version": "3.11.9"
  }
 },
 "nbformat": 4,
 "nbformat_minor": 5
}
